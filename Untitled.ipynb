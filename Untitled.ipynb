{
 "cells": [
  {
   "cell_type": "code",
   "execution_count": 10,
   "metadata": {},
   "outputs": [
    {
     "ename": "ModuleNotFoundError",
     "evalue": "No module named 'pdfkit'",
     "output_type": "error",
     "traceback": [
      "\u001b[1;31m---------------------------------------------------------------------------\u001b[0m",
      "\u001b[1;31mModuleNotFoundError\u001b[0m                       Traceback (most recent call last)",
      "\u001b[1;32m<ipython-input-10-0b9697c278e5>\u001b[0m in \u001b[0;36m<module>\u001b[1;34m()\u001b[0m\n\u001b[0;32m      3\u001b[0m \u001b[1;32mimport\u001b[0m \u001b[0mos\u001b[0m\u001b[1;33m\u001b[0m\u001b[0m\n\u001b[0;32m      4\u001b[0m \u001b[1;32mimport\u001b[0m \u001b[0mplotly\u001b[0m\u001b[1;33m.\u001b[0m\u001b[0mio\u001b[0m \u001b[1;32mas\u001b[0m \u001b[0mpio\u001b[0m\u001b[1;33m\u001b[0m\u001b[0m\n\u001b[1;32m----> 5\u001b[1;33m \u001b[1;32mimport\u001b[0m \u001b[0mpdfkit\u001b[0m\u001b[1;33m\u001b[0m\u001b[0m\n\u001b[0m",
      "\u001b[1;31mModuleNotFoundError\u001b[0m: No module named 'pdfkit'"
     ]
    }
   ],
   "source": [
    "from dlpkg.cpt import CPT\n",
    "from pathlib import Path\n",
    "import os\n",
    "import plotly.io as pio"
   ]
  },
  {
   "cell_type": "code",
   "execution_count": 2,
   "metadata": {},
   "outputs": [
    {
     "name": "stdout",
     "output_type": "stream",
     "text": [
      "c:\\Users\\Emma.Shi\\Desktop\\CPT\\UnitCPT\n"
     ]
    }
   ],
   "source": [
    "print(os.getcwd())"
   ]
  },
  {
   "cell_type": "code",
   "execution_count": 3,
   "metadata": {},
   "outputs": [],
   "source": [
    "filename ='CPT4.A00'\n",
    "fileloc = Path(r'G:\\Name Folders\\Current Staff\\CC213\\10 IiA funding\\Unified CPT Methods\\01 Data\\CPT Data\\18 0091 05 R002 CPT ASCII')"
   ]
  },
  {
   "cell_type": "code",
   "execution_count": 4,
   "metadata": {},
   "outputs": [],
   "source": [
    "cpt_data = CPT()"
   ]
  },
  {
   "cell_type": "markdown",
   "metadata": {},
   "source": [
    "## Data format\n",
    "\n",
    "`key` is the identifier in the txt file, for locating the data, it shoudl be a unit identifier just above the data\n",
    "`patter` - an regular experss to specify the pattern of the data, you can see the example below\n",
    "\n",
    "After reading the data, need to change the column name, so that all calculation can know the location of the data\n",
    "\n",
    "### Step 1 - Rename Columns\n",
    "```python\n",
    "cpt_data.update_data_column_name(['Reading','SCPT_DPTH','SCPT_RES','SCPT_FRES','SCPT_PWP2','slopex','slopey'])\n",
    "```\n",
    "\n",
    "- `SCPT_DPTH` - depth below seabed\n",
    "- `SCPT_RES` - raw `qc` value\n",
    "- `SCPT_FRES` - shaft resistance $f_s$\n",
    "- `SCPT_RES` - tip resistance $q_c$\n",
    "\n",
    "### Step 2 - Specify Unit\n",
    "\n",
    "Need to update the unit, differnet contactor may output data in different unit, this is one by \n",
    "\n",
    "```python\n",
    "cpt_data.set_data_unit(['MPa','MPa','MPa'])\n",
    "```\n",
    "\n",
    "unit is assigned in a sequence [$q_c$, $f_s$,$u_2$]\n",
    "\n",
    "### Step 3 - init_CPT\n",
    "\n",
    "This is calculate $\\gamma_{soil}$ and calculate the overburnden stress $\\sigma_v$ \n",
    "\n",
    "\n",
    "### Plot_CPT\n",
    "\n",
    "After the overturn stress is calculated, all empirical correlation can be calculated and some have been implemented.\n",
    "\n"
   ]
  },
  {
   "cell_type": "code",
   "execution_count": 5,
   "metadata": {},
   "outputs": [],
   "source": [
    "cpt_data.read_ASCII(fileloc / filename,key='Data--',pattern= r'(.{7})(.{10})(.{11})(.{11})(.{11})(.{11})(.{11})')\n",
    "cpt_data.update_data_column_name(['Reading','SCPT_DPTH','SCPT_RES','SCPT_FRES','SCPT_PWP2','slopex','slopey'])"
   ]
  },
  {
   "cell_type": "code",
   "execution_count": 6,
   "metadata": {},
   "outputs": [
    {
     "name": "stderr",
     "output_type": "stream",
     "text": [
      "23-10-12 10:14:30 -c:\\Users\\Emma.Shi\\Desktop\\CPT\\UnitCPT\\dlpkg\\cpt.py:327 DEBUG - Data unit is set to ['MPa', 'MPa', 'MPa']\n"
     ]
    }
   ],
   "source": [
    "cpt_data.set_data_unit(['MPa','MPa','MPa'])"
   ]
  },
  {
   "cell_type": "code",
   "execution_count": 7,
   "metadata": {},
   "outputs": [
    {
     "name": "stderr",
     "output_type": "stream",
     "text": [
      "c:\\Users\\Emma.Shi\\Desktop\\CPT\\UnitCPT\\dlpkg\\cpt.py:591: RuntimeWarning:\n",
      "\n",
      "invalid value encountered in log10\n",
      "\n",
      "23-10-12 10:14:33 -c:\\Users\\Emma.Shi\\Desktop\\CPT\\UnitCPT\\dlpkg\\cpt.py:156 DEBUG - qt calculated using net area ratio of 0.85\n"
     ]
    }
   ],
   "source": [
    "cpt_data.init_CPT()"
   ]
  },
  {
   "cell_type": "code",
   "execution_count": 8,
   "metadata": {},
   "outputs": [],
   "source": [
    "fig = cpt_data.plot_SBTn_full()\n",
    "pio.write_html(fig, 'cpt4.html')"
   ]
  },
  {
   "cell_type": "code",
   "execution_count": null,
   "metadata": {},
   "outputs": [],
   "source": []
  }
 ],
 "metadata": {
  "kernelspec": {
   "display_name": "Python 3",
   "language": "python",
   "name": "python3"
  },
  "language_info": {
   "codemirror_mode": {
    "name": "ipython",
    "version": 3
   },
   "file_extension": ".py",
   "mimetype": "text/x-python",
   "name": "python",
   "nbconvert_exporter": "python",
   "pygments_lexer": "ipython3",
   "version": "3.6.5"
  }
 },
 "nbformat": 4,
 "nbformat_minor": 5
}
