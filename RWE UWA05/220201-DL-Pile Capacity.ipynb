{
 "cells": [
  {
   "attachments": {},
   "cell_type": "markdown",
   "metadata": {},
   "source": [
    "# Review the pile capacity based on CPT Method\n",
    "\n",
    "This notebook reviews the pile capacity using a CPT-based approach using different design methods.  The following assumptions will be made including\n",
    "\n",
    " - pile diameter = 3.5m\n",
    " - thickness of piles = 70mm\n",
    " - CPT remains constant after 60m, i.e., the termination level of the current SI Data\n",
    "\n",
    "\n",
    "\n",
    "*TO-DOS*\n",
    "- [ ] process CPT data using BH08 and BH02\n",
    "  - [ ] filling the gaps\n",
    "  - [ ] extending the CPT data below 60m \n",
    "  - [ ] save the modified data as json files\n",
    "- [ ] calculating the effective stresses \n",
    "- [ ] calulating the shaft friction\n",
    "- [ ] calculating the end bearing resistance "
   ]
  },
  {
   "cell_type": "code",
   "execution_count": 1,
   "metadata": {},
   "outputs": [
    {
     "ename": "ModuleNotFoundError",
     "evalue": "No module named 'ags'",
     "output_type": "error",
     "traceback": [
      "\u001b[1;31m---------------------------------------------------------------------------\u001b[0m",
      "\u001b[1;31mModuleNotFoundError\u001b[0m                       Traceback (most recent call last)",
      "Cell \u001b[1;32mIn[1], line 3\u001b[0m\n\u001b[0;32m      1\u001b[0m \u001b[39mimport\u001b[39;00m \u001b[39msys\u001b[39;00m\n\u001b[0;32m      2\u001b[0m sys\u001b[39m.\u001b[39mpath\u001b[39m.\u001b[39mappend(\u001b[39mr\u001b[39m\u001b[39m'\u001b[39m\u001b[39mC:\u001b[39m\u001b[39m\\\u001b[39m\u001b[39mUsers\u001b[39m\u001b[39m\\\u001b[39m\u001b[39mdazhong.li\u001b[39m\u001b[39m\\\u001b[39m\u001b[39mOneDrive\u001b[39m\u001b[39m\\\u001b[39m\u001b[39m02-Projects\u001b[39m\u001b[39m\\\u001b[39m\u001b[39m01-Offshore CPT\u001b[39m\u001b[39m\\\u001b[39m\u001b[39mOffshore-CPT\u001b[39m\u001b[39m'\u001b[39m)\n\u001b[1;32m----> 3\u001b[0m \u001b[39mfrom\u001b[39;00m \u001b[39msrc\u001b[39;00m\u001b[39m.\u001b[39;00m\u001b[39mcpt\u001b[39;00m \u001b[39mimport\u001b[39;00m CPT\n\u001b[0;32m      4\u001b[0m \u001b[39mfrom\u001b[39;00m \u001b[39msrc\u001b[39;00m\u001b[39m.\u001b[39;00m\u001b[39mpile\u001b[39;00m \u001b[39mimport\u001b[39;00m PipePile\n",
      "File \u001b[1;32m~\\OneDrive\\02-Projects\\01-Offshore CPT\\Offshore-CPT\\src\\cpt.py:6\u001b[0m\n\u001b[0;32m      4\u001b[0m \u001b[39mfrom\u001b[39;00m \u001b[39menum\u001b[39;00m \u001b[39mimport\u001b[39;00m Enum\n\u001b[0;32m      5\u001b[0m \u001b[39mfrom\u001b[39;00m \u001b[39mitertools\u001b[39;00m \u001b[39mimport\u001b[39;00m cycle\n\u001b[1;32m----> 6\u001b[0m \u001b[39mfrom\u001b[39;00m \u001b[39mags\u001b[39;00m \u001b[39mimport\u001b[39;00m AGSParser\n\u001b[0;32m      8\u001b[0m \u001b[39mimport\u001b[39;00m \u001b[39mnumpy\u001b[39;00m \u001b[39mas\u001b[39;00m \u001b[39mnp\u001b[39;00m\n\u001b[0;32m      9\u001b[0m \u001b[39mimport\u001b[39;00m \u001b[39mpandas\u001b[39;00m \u001b[39mas\u001b[39;00m \u001b[39mpd\u001b[39;00m\n",
      "\u001b[1;31mModuleNotFoundError\u001b[0m: No module named 'ags'"
     ]
    }
   ],
   "source": [
    "import sys\n",
    "sys.path.append(r'C:\\Users\\dazhong.li\\OneDrive\\02-Projects\\01-Offshore CPT\\Offshore-CPT')\n",
    "from src.cpt import CPT\n",
    "from src.pile import PipePile"
   ]
  },
  {
   "cell_type": "code",
   "execution_count": null,
   "metadata": {},
   "outputs": [],
   "source": [
    "data_path = Path(r'C:\\Users\\dazhong.li\\OneDrive\\02-Projects\\01-Offshore CPT\\Offshore-CPT\\projects\\292179-Taiwan RWE\\ags')"
   ]
  },
  {
   "cell_type": "code",
   "execution_count": null,
   "metadata": {},
   "outputs": [],
   "source": [
    "pile = PipePile(dia=3.5,thickness=0.07,length=70)"
   ]
  },
  {
   "cell_type": "code",
   "execution_count": 2,
   "metadata": {},
   "outputs": [
    {
     "ename": "NameError",
     "evalue": "name 'CPT' is not defined",
     "output_type": "error",
     "traceback": [
      "\u001b[1;31m---------------------------------------------------------------------------\u001b[0m",
      "\u001b[1;31mNameError\u001b[0m                                 Traceback (most recent call last)",
      "Cell \u001b[1;32mIn[2], line 1\u001b[0m\n\u001b[1;32m----> 1\u001b[0m cpt_driver\u001b[39m=\u001b[39m CPT()\n\u001b[0;32m      2\u001b[0m cpt_driver\u001b[39m.\u001b[39mread_ags(data_path \u001b[39m/\u001b[39m\u001b[39m'\u001b[39m\u001b[39mBH08_Taichung_Rev A.ags\u001b[39m\u001b[39m'\u001b[39m)\n",
      "\u001b[1;31mNameError\u001b[0m: name 'CPT' is not defined"
     ]
    }
   ],
   "source": [
    "cpt_driver= CPT()\n",
    "cpt_driver.read_ags(data_path /'BH08_Taichung_Rev A.ags')"
   ]
  },
  {
   "cell_type": "code",
   "execution_count": 7,
   "metadata": {},
   "outputs": [
    {
     "data": {
      "text/plain": [
       "WindowsPath('c:/Users/dazhong.li/OneDrive/02-Projects/01-Offshore CPT/Offshore-CPT/RWE UWA05')"
      ]
     },
     "execution_count": 7,
     "metadata": {},
     "output_type": "execute_result"
    }
   ],
   "source": [
    "Path.cwd()"
   ]
  },
  {
   "cell_type": "code",
   "execution_count": null,
   "metadata": {},
   "outputs": [],
   "source": []
  }
 ],
 "metadata": {
  "kernelspec": {
   "display_name": "Offshore-CPT-JKz8u4gi",
   "language": "python",
   "name": "python3"
  },
  "language_info": {
   "codemirror_mode": {
    "name": "ipython",
    "version": 3
   },
   "file_extension": ".py",
   "mimetype": "text/x-python",
   "name": "python",
   "nbconvert_exporter": "python",
   "pygments_lexer": "ipython3",
   "version": "3.9.5"
  },
  "orig_nbformat": 4,
  "vscode": {
   "interpreter": {
    "hash": "b3beb73fbab0c9c19d9a4457774ef3db1d4018fbe96be387ebf026a6576b31b3"
   }
  }
 },
 "nbformat": 4,
 "nbformat_minor": 2
}
