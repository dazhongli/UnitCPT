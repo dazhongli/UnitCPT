{
 "cells": [
  {
   "cell_type": "markdown",
   "metadata": {},
   "source": [
    "# ALP Interface\n",
    "\n",
    "We will automate the ALP through its COM Interface "
   ]
  },
  {
   "cell_type": "code",
   "execution_count": 1,
   "metadata": {},
   "outputs": [
    {
     "name": "stderr",
     "output_type": "stream",
     "text": [
      "DEBUG:matplotlib:matplotlib data path: c:\\Users\\dazhong.li\\AppData\\Local\\miniconda3\\envs\\UnitCPT\\lib\\site-packages\\matplotlib\\mpl-data\n",
      "DEBUG:matplotlib:CONFIGDIR=C:\\Users\\dazhong.li\\.matplotlib\n",
      "DEBUG:matplotlib:interactive is False\n",
      "DEBUG:matplotlib:platform is win32\n",
      "DEBUG:matplotlib:CACHEDIR=C:\\Users\\dazhong.li\\.matplotlib\n",
      "DEBUG:matplotlib.font_manager:Using fontManager instance from C:\\Users\\dazhong.li\\.matplotlib\\fontlist-v330.json\n"
     ]
    }
   ],
   "source": [
    "from src import alp\n",
    "import os\n",
    "from pathlib import Path\n",
    "from tqdm import tqdm\n",
    "import os\n",
    "import pandas as pd\n",
    "from src.pile import PipePile\n",
    "import numpy as np"
   ]
  },
  {
   "cell_type": "markdown",
   "metadata": {},
   "source": [
    "We will use SetNodePY function"
   ]
  },
  {
   "cell_type": "code",
   "execution_count": 2,
   "metadata": {},
   "outputs": [
    {
     "name": "stderr",
     "output_type": "stream",
     "text": [
      "DEBUG:root:Terminated - alp.exe Pid-13360\n",
      "DEBUG:root:Started New file test.alw\n"
     ]
    }
   ],
   "source": [
    "model = alp.ALP()\n",
    "model.new_file('test.alw','','UnitCPT','Push-Over Analysis','CPT p-y analysis')\n",
    "# model.open(r'C:\\Users\\dazhong.li\\OneDrive - Arup\\01 - Project\\UnitCPT\\UnitCPT\\alpmodel.alw')\n",
    "# model.save()\n",
    "\n",
    "proj = model.proj\n",
    "pile_dia =2.0 # 1.0m\n",
    "pile_thickness = 0.05 # 50mm\n",
    "pile_length = 80 # \n",
    "pile_penetration = 80# \n",
    "corrosion = 0\n",
    "\n",
    "test_pile = PipePile(pile_dia,pile_thickness,pile_length,pile_penetration,corrosion=0)\n",
    "model.set_section(1,f'Tubular Pile {pile_dia}m, thickness={pile_thickness:.3f}',1,1,test_pile.EI)\n",
    "\n",
    "# Need to set to Specified_PY\n",
    "proj.SetSoilModel(1)"
   ]
  },
  {
   "cell_type": "code",
   "execution_count": 3,
   "metadata": {},
   "outputs": [],
   "source": [
    "# df = pd.read_excel('./p-y curves cyclic - CPT04.xlsx',sheet_name='SUMMARY-Static',skiprows=2)"
   ]
  },
  {
   "cell_type": "code",
   "execution_count": 3,
   "metadata": {},
   "outputs": [],
   "source": [
    "# df = pd.read_excel('cpt_data_resampled.xlsx')\n",
    "\n",
    "def calc_displacement_curve(df,name):\n",
    "    model = alp.ALP()\n",
    "    model.new_file('test.alw','','UnitCPT','Push-Over Analysis','CPT p-y analysis')\n",
    "    # model.open(r'C:\\Users\\dazhong.li\\OneDrive - Arup\\01 - Project\\UnitCPT\\UnitCPT\\alpmodel.alw')\n",
    "    # model.save()\n",
    "    proj = model.proj\n",
    "    pile_dia =2.0 # 1.0m\n",
    "    pile_thickness = 0.05 # 50mm\n",
    "    pile_length = 80 # \n",
    "    pile_penetration = 80# \n",
    "    corrosion = 0\n",
    "\n",
    "    test_pile = PipePile(pile_dia,pile_thickness,pile_length,pile_penetration,corrosion=0)\n",
    "    model.set_section(1,f'Tubular Pile {pile_dia}m, thickness={pile_thickness:.3f}',1,1,test_pile.EI)\n",
    "\n",
    "    # Need to set to Specified_PY\n",
    "    proj.SetSoilModel(1)\n",
    "    column_str =['p0','y0','p2','y2','p4','y4','p6','y6','p8','y8','p12','y12']\n",
    "    df_alp = df[['Depth','p0','y0','p2','y2','p4','y4','p6','y6','p8','y8','p12','y12']].copy()\n",
    "    df_alp['Level'] = df_alp.Depth*-1\n",
    "    df_alp= df_alp.dropna()\n",
    "    # proj.ClearNodes()\n",
    "    for i, row in df_alp.iterrows():\n",
    "        proj.InsertNode(row['Level'],1)\n",
    "        proj.AddNodePY(*(row[column_str].values.tolist()))\n",
    "    df_load_disp_curve = pd.DataFrame()\n",
    "    force = []\n",
    "    disp = []\n",
    "    rotation = []\n",
    "    i = 0\n",
    "    for f in tqdm(np.linspace(0,5000,21)):\n",
    "        model.set_node_load_displacement(1,f*-1,0,0)\n",
    "        model.analyse()\n",
    "        df_load_disp_curve.loc[i,'H0'] = f\n",
    "        df_load_disp_curve.loc[i,'u0'] = model.proj.GetNodeDisp(1)\n",
    "        df_load_disp_curve.loc[i,'theta0'] = model.proj.GetNodeRotation(1)\n",
    "        i +=1\n",
    "    i = 0\n",
    "    for m in tqdm(np.linspace(0,5000,21)):\n",
    "        model.set_node_load_displacement(1,0,m,0)\n",
    "        model.analyse()\n",
    "        df_load_disp_curve.loc[i,'M0'] = m\n",
    "        df_load_disp_curve.loc[i,'u1'] = model.proj.GetNodeDisp(1)\n",
    "        df_load_disp_curve.loc[i,'theta1'] = model.proj.GetNodeRotation(1)\n",
    "        i +=1\n",
    "    model.save_as(name)\n",
    "    return df_load_disp_curve"
   ]
  },
  {
   "cell_type": "code",
   "execution_count": 4,
   "metadata": {},
   "outputs": [
    {
     "ename": "FileNotFoundError",
     "evalue": "[Errno 2] No such file or directory: '../p-y curves cyclic - CPT04.xlsx'",
     "output_type": "error",
     "traceback": [
      "\u001b[1;31m---------------------------------------------------------------------------\u001b[0m",
      "\u001b[1;31mFileNotFoundError\u001b[0m                         Traceback (most recent call last)",
      "\u001b[1;32mc:\\Users\\dazhong.li\\OneDrive - Arup\\01 - Project\\UnitCPT\\UnitCPT\\ALP Calibration\\ALP_interface.ipynb Cell 7\u001b[0m line \u001b[0;36m2\n\u001b[0;32m      <a href='vscode-notebook-cell:/c%3A/Users/dazhong.li/OneDrive%20-%20Arup/01%20-%20Project/UnitCPT/UnitCPT/ALP%20Calibration/ALP_interface.ipynb#W6sZmlsZQ%3D%3D?line=0'>1</a>\u001b[0m case \u001b[39m=\u001b[39m \u001b[39m'\u001b[39m\u001b[39mSUMMARY-Static\u001b[39m\u001b[39m'\u001b[39m\n\u001b[1;32m----> <a href='vscode-notebook-cell:/c%3A/Users/dazhong.li/OneDrive%20-%20Arup/01%20-%20Project/UnitCPT/UnitCPT/ALP%20Calibration/ALP_interface.ipynb#W6sZmlsZQ%3D%3D?line=1'>2</a>\u001b[0m df \u001b[39m=\u001b[39m pd\u001b[39m.\u001b[39;49mread_excel(\u001b[39m'\u001b[39;49m\u001b[39m../p-y curves cyclic - CPT04.xlsx\u001b[39;49m\u001b[39m'\u001b[39;49m,sheet_name\u001b[39m=\u001b[39;49mcase,skiprows\u001b[39m=\u001b[39;49m\u001b[39m2\u001b[39;49m)\n\u001b[0;32m      <a href='vscode-notebook-cell:/c%3A/Users/dazhong.li/OneDrive%20-%20Arup/01%20-%20Project/UnitCPT/UnitCPT/ALP%20Calibration/ALP_interface.ipynb#W6sZmlsZQ%3D%3D?line=2'>3</a>\u001b[0m df\u001b[39m.\u001b[39mdrop([\u001b[39m0\u001b[39m,\u001b[39m1\u001b[39m],axis\u001b[39m=\u001b[39m\u001b[39m0\u001b[39m,inplace\u001b[39m=\u001b[39m\u001b[39mTrue\u001b[39;00m)\n\u001b[0;32m      <a href='vscode-notebook-cell:/c%3A/Users/dazhong.li/OneDrive%20-%20Arup/01%20-%20Project/UnitCPT/UnitCPT/ALP%20Calibration/ALP_interface.ipynb#W6sZmlsZQ%3D%3D?line=3'>4</a>\u001b[0m df_load_disp_curve \u001b[39m=\u001b[39m calc_displacement_curve(df,\u001b[39mr\u001b[39m\u001b[39m'\u001b[39m\u001b[39mC:\u001b[39m\u001b[39m\\\u001b[39m\u001b[39mUsers\u001b[39m\u001b[39m\\\u001b[39m\u001b[39mdazhong.li\u001b[39m\u001b[39m\\\u001b[39m\u001b[39mOneDrive - Arup\u001b[39m\u001b[39m\\\u001b[39m\u001b[39m01 - Project\u001b[39m\u001b[39m\\\u001b[39m\u001b[39mUnitCPT\u001b[39m\u001b[39m\\\u001b[39m\u001b[39mUnitCPT\u001b[39m\u001b[39m\\\u001b[39m\u001b[39mALP Calibration\u001b[39m\u001b[39m'\u001b[39m\u001b[39m+\u001b[39m\u001b[39mf\u001b[39m\u001b[39m'\u001b[39m\u001b[39m\\\u001b[39m\u001b[39m{\u001b[39;00mcase\u001b[39m}\u001b[39;00m\u001b[39m.alw\u001b[39m\u001b[39m'\u001b[39m)\n",
      "File \u001b[1;32mc:\\Users\\dazhong.li\\AppData\\Local\\miniconda3\\envs\\UnitCPT\\lib\\site-packages\\pandas\\util\\_decorators.py:211\u001b[0m, in \u001b[0;36mdeprecate_kwarg.<locals>._deprecate_kwarg.<locals>.wrapper\u001b[1;34m(*args, **kwargs)\u001b[0m\n\u001b[0;32m    209\u001b[0m     \u001b[39melse\u001b[39;00m:\n\u001b[0;32m    210\u001b[0m         kwargs[new_arg_name] \u001b[39m=\u001b[39m new_arg_value\n\u001b[1;32m--> 211\u001b[0m \u001b[39mreturn\u001b[39;00m func(\u001b[39m*\u001b[39margs, \u001b[39m*\u001b[39m\u001b[39m*\u001b[39mkwargs)\n",
      "File \u001b[1;32mc:\\Users\\dazhong.li\\AppData\\Local\\miniconda3\\envs\\UnitCPT\\lib\\site-packages\\pandas\\util\\_decorators.py:331\u001b[0m, in \u001b[0;36mdeprecate_nonkeyword_arguments.<locals>.decorate.<locals>.wrapper\u001b[1;34m(*args, **kwargs)\u001b[0m\n\u001b[0;32m    325\u001b[0m \u001b[39mif\u001b[39;00m \u001b[39mlen\u001b[39m(args) \u001b[39m>\u001b[39m num_allow_args:\n\u001b[0;32m    326\u001b[0m     warnings\u001b[39m.\u001b[39mwarn(\n\u001b[0;32m    327\u001b[0m         msg\u001b[39m.\u001b[39mformat(arguments\u001b[39m=\u001b[39m_format_argument_list(allow_args)),\n\u001b[0;32m    328\u001b[0m         \u001b[39mFutureWarning\u001b[39;00m,\n\u001b[0;32m    329\u001b[0m         stacklevel\u001b[39m=\u001b[39mfind_stack_level(),\n\u001b[0;32m    330\u001b[0m     )\n\u001b[1;32m--> 331\u001b[0m \u001b[39mreturn\u001b[39;00m func(\u001b[39m*\u001b[39margs, \u001b[39m*\u001b[39m\u001b[39m*\u001b[39mkwargs)\n",
      "File \u001b[1;32mc:\\Users\\dazhong.li\\AppData\\Local\\miniconda3\\envs\\UnitCPT\\lib\\site-packages\\pandas\\io\\excel\\_base.py:482\u001b[0m, in \u001b[0;36mread_excel\u001b[1;34m(io, sheet_name, header, names, index_col, usecols, squeeze, dtype, engine, converters, true_values, false_values, skiprows, nrows, na_values, keep_default_na, na_filter, verbose, parse_dates, date_parser, thousands, decimal, comment, skipfooter, convert_float, mangle_dupe_cols, storage_options)\u001b[0m\n\u001b[0;32m    480\u001b[0m \u001b[39mif\u001b[39;00m \u001b[39mnot\u001b[39;00m \u001b[39misinstance\u001b[39m(io, ExcelFile):\n\u001b[0;32m    481\u001b[0m     should_close \u001b[39m=\u001b[39m \u001b[39mTrue\u001b[39;00m\n\u001b[1;32m--> 482\u001b[0m     io \u001b[39m=\u001b[39m ExcelFile(io, storage_options\u001b[39m=\u001b[39;49mstorage_options, engine\u001b[39m=\u001b[39;49mengine)\n\u001b[0;32m    483\u001b[0m \u001b[39melif\u001b[39;00m engine \u001b[39mand\u001b[39;00m engine \u001b[39m!=\u001b[39m io\u001b[39m.\u001b[39mengine:\n\u001b[0;32m    484\u001b[0m     \u001b[39mraise\u001b[39;00m \u001b[39mValueError\u001b[39;00m(\n\u001b[0;32m    485\u001b[0m         \u001b[39m\"\u001b[39m\u001b[39mEngine should not be specified when passing \u001b[39m\u001b[39m\"\u001b[39m\n\u001b[0;32m    486\u001b[0m         \u001b[39m\"\u001b[39m\u001b[39man ExcelFile - ExcelFile already has the engine set\u001b[39m\u001b[39m\"\u001b[39m\n\u001b[0;32m    487\u001b[0m     )\n",
      "File \u001b[1;32mc:\\Users\\dazhong.li\\AppData\\Local\\miniconda3\\envs\\UnitCPT\\lib\\site-packages\\pandas\\io\\excel\\_base.py:1652\u001b[0m, in \u001b[0;36mExcelFile.__init__\u001b[1;34m(self, path_or_buffer, engine, storage_options)\u001b[0m\n\u001b[0;32m   1650\u001b[0m     ext \u001b[39m=\u001b[39m \u001b[39m\"\u001b[39m\u001b[39mxls\u001b[39m\u001b[39m\"\u001b[39m\n\u001b[0;32m   1651\u001b[0m \u001b[39melse\u001b[39;00m:\n\u001b[1;32m-> 1652\u001b[0m     ext \u001b[39m=\u001b[39m inspect_excel_format(\n\u001b[0;32m   1653\u001b[0m         content_or_path\u001b[39m=\u001b[39;49mpath_or_buffer, storage_options\u001b[39m=\u001b[39;49mstorage_options\n\u001b[0;32m   1654\u001b[0m     )\n\u001b[0;32m   1655\u001b[0m     \u001b[39mif\u001b[39;00m ext \u001b[39mis\u001b[39;00m \u001b[39mNone\u001b[39;00m:\n\u001b[0;32m   1656\u001b[0m         \u001b[39mraise\u001b[39;00m \u001b[39mValueError\u001b[39;00m(\n\u001b[0;32m   1657\u001b[0m             \u001b[39m\"\u001b[39m\u001b[39mExcel file format cannot be determined, you must specify \u001b[39m\u001b[39m\"\u001b[39m\n\u001b[0;32m   1658\u001b[0m             \u001b[39m\"\u001b[39m\u001b[39man engine manually.\u001b[39m\u001b[39m\"\u001b[39m\n\u001b[0;32m   1659\u001b[0m         )\n",
      "File \u001b[1;32mc:\\Users\\dazhong.li\\AppData\\Local\\miniconda3\\envs\\UnitCPT\\lib\\site-packages\\pandas\\io\\excel\\_base.py:1525\u001b[0m, in \u001b[0;36minspect_excel_format\u001b[1;34m(content_or_path, storage_options)\u001b[0m\n\u001b[0;32m   1522\u001b[0m \u001b[39mif\u001b[39;00m \u001b[39misinstance\u001b[39m(content_or_path, \u001b[39mbytes\u001b[39m):\n\u001b[0;32m   1523\u001b[0m     content_or_path \u001b[39m=\u001b[39m BytesIO(content_or_path)\n\u001b[1;32m-> 1525\u001b[0m \u001b[39mwith\u001b[39;00m get_handle(\n\u001b[0;32m   1526\u001b[0m     content_or_path, \u001b[39m\"\u001b[39;49m\u001b[39mrb\u001b[39;49m\u001b[39m\"\u001b[39;49m, storage_options\u001b[39m=\u001b[39;49mstorage_options, is_text\u001b[39m=\u001b[39;49m\u001b[39mFalse\u001b[39;49;00m\n\u001b[0;32m   1527\u001b[0m ) \u001b[39mas\u001b[39;00m handle:\n\u001b[0;32m   1528\u001b[0m     stream \u001b[39m=\u001b[39m handle\u001b[39m.\u001b[39mhandle\n\u001b[0;32m   1529\u001b[0m     stream\u001b[39m.\u001b[39mseek(\u001b[39m0\u001b[39m)\n",
      "File \u001b[1;32mc:\\Users\\dazhong.li\\AppData\\Local\\miniconda3\\envs\\UnitCPT\\lib\\site-packages\\pandas\\io\\common.py:865\u001b[0m, in \u001b[0;36mget_handle\u001b[1;34m(path_or_buf, mode, encoding, compression, memory_map, is_text, errors, storage_options)\u001b[0m\n\u001b[0;32m    856\u001b[0m         handle \u001b[39m=\u001b[39m \u001b[39mopen\u001b[39m(\n\u001b[0;32m    857\u001b[0m             handle,\n\u001b[0;32m    858\u001b[0m             ioargs\u001b[39m.\u001b[39mmode,\n\u001b[1;32m   (...)\u001b[0m\n\u001b[0;32m    861\u001b[0m             newline\u001b[39m=\u001b[39m\u001b[39m\"\u001b[39m\u001b[39m\"\u001b[39m,\n\u001b[0;32m    862\u001b[0m         )\n\u001b[0;32m    863\u001b[0m     \u001b[39melse\u001b[39;00m:\n\u001b[0;32m    864\u001b[0m         \u001b[39m# Binary mode\u001b[39;00m\n\u001b[1;32m--> 865\u001b[0m         handle \u001b[39m=\u001b[39m \u001b[39mopen\u001b[39;49m(handle, ioargs\u001b[39m.\u001b[39;49mmode)\n\u001b[0;32m    866\u001b[0m     handles\u001b[39m.\u001b[39mappend(handle)\n\u001b[0;32m    868\u001b[0m \u001b[39m# Convert BytesIO or file objects passed with an encoding\u001b[39;00m\n",
      "\u001b[1;31mFileNotFoundError\u001b[0m: [Errno 2] No such file or directory: '../p-y curves cyclic - CPT04.xlsx'"
     ]
    }
   ],
   "source": [
    "case = 'SUMMARY-Static'\n",
    "df = pd.read_excel('../p-y curves cyclic - CPT04.xlsx',sheet_name=case,skiprows=2)\n",
    "df.drop([0,1],axis=0,inplace=True)\n",
    "df_load_disp_curve = calc_displacement_curve(df,r'C:\\Users\\dazhong.li\\OneDrive - Arup\\01 - Project\\UnitCPT\\UnitCPT\\ALP Calibration'+f'\\{case}.alw')\n",
    "df_load_disp_curve.to_json(f'{case}.json')"
   ]
  },
  {
   "cell_type": "code",
   "execution_count": 38,
   "metadata": {},
   "outputs": [],
   "source": [
    "df_load_disp_static =pd.read_json('SUMMARY-Static.json')\n",
    "df_load_disp_cyclic =pd.read_json('SUMMARY-Cyclic.json')"
   ]
  },
  {
   "cell_type": "code",
   "execution_count": 39,
   "metadata": {},
   "outputs": [],
   "source": [
    "from src import geoplot\n",
    "import  plotly.graph_objects as go\n",
    "markers = geoplot.GEOPlot.marker_list()\n",
    "\n",
    "def plot_load_disp(df_load_disp_curve, name, symbol, fig=None):\n",
    "    if fig is None:\n",
    "        fig = geoplot.GEOPlot.get_figure(rows=2,cols=2)\n",
    "    fig.add_trace(go.Scatter(y=df_load_disp_curve.H0,x=df_load_disp_curve.u0,\n",
    "                                mode='markers+lines',\n",
    "                                line=dict(color='black'),\n",
    "                                marker=dict(symbol=symbol),\n",
    "                                name=name,\n",
    "                                showlegend=True),row=1,col=1)\n",
    "    fig.add_trace(go.Scatter(y=df_load_disp_curve.H0,x=df_load_disp_curve.theta0,\n",
    "                                mode='markers+lines',\n",
    "                                line=dict(color='black'),\n",
    "                                marker=dict(symbol=symbol),\n",
    "                                showlegend=False),row=1,col=2)\n",
    "    fig.update_xaxes(title='Pile Head Displacement (mm)',row=1,col=1)\n",
    "    fig.update_xaxes(title='Pile Head Rotation (rad)',row=1,col=2)\n",
    "    fig.update_yaxes(title='Applied Lateral Force(H=H0, M=0) at Pile Head(kN)',row=1,col=1)\n",
    "\n",
    "    fig.add_trace(go.Scatter(y=df_load_disp_curve.M0,x=df_load_disp_curve.u1,\n",
    "                            mode='markers+lines',\n",
    "                            line=dict(color='black'),\n",
    "                            marker=dict(symbol=symbol),\n",
    "                            showlegend=False),row=2,col=2)\n",
    "    fig.add_trace(go.Scatter(y=df_load_disp_curve.M0,x=df_load_disp_curve.theta1,\n",
    "                            mode='markers+lines',\n",
    "                            marker=dict(symbol=symbol),\n",
    "                            line=dict(color='black'),showlegend=False),\n",
    "                            row=2,col=1)\n",
    "    fig.update_xaxes(title='Pile Head Displacement (mm)',row=2,col=2)\n",
    "    fig.update_xaxes(title='Pile Head Rotation (rad)',row=2,col=1)\n",
    "    fig.update_yaxes(title='Applied Lateral Force at Pile Head(kN)',row=2,col=1)\n",
    "    fig.update_layout(width=800,height=600,font=dict(size=8))\n",
    "    return fig\n"
   ]
  },
  {
   "cell_type": "code",
   "execution_count": 40,
   "metadata": {},
   "outputs": [
    {
     "data": {
      "application/vnd.plotly.v1+json": {
       "config": {
        "plotlyServerURL": "https://plot.ly"
       },
       "data": [
        {
         "line": {
          "color": "black"
         },
         "marker": {
          "symbol": "circle"
         },
         "mode": "markers+lines",
         "name": "Static",
         "showlegend": true,
         "type": "scatter",
         "x": [
          0,
          9.1509768061,
          19.7837344364,
          36.7095903707,
          59.4154528389,
          85.5912528186,
          116.9437663854,
          152.7750106045,
          192.8162102743,
          242.971857611,
          303.4296311148,
          371.8597386622,
          447.9444761993,
          529.478874395,
          615.0734943869,
          704.7477038449,
          795.7459966077,
          887.8859351107,
          980.5519826149,
          1074.8988764287,
          1170.0875197283
         ],
         "xaxis": "x",
         "y": [
          0,
          250,
          500,
          750,
          1000,
          1250,
          1500,
          1750,
          2000,
          2250,
          2500,
          2750,
          3000,
          3250,
          3500,
          3750,
          4000,
          4250,
          4500,
          4750,
          5000
         ],
         "yaxis": "y"
        },
        {
         "line": {
          "color": "black"
         },
         "marker": {
          "symbol": "circle"
         },
         "mode": "markers+lines",
         "showlegend": false,
         "type": "scatter",
         "x": [
          0,
          0.0010893413,
          0.0022990474,
          0.0040830688,
          0.0063184696,
          0.0087719533,
          0.011571931700000001,
          0.0146422011,
          0.0179594675,
          0.0219191943,
          0.0265057063,
          0.0315337505,
          0.0369760197,
          0.042707387,
          0.048647302600000004,
          0.054793124500000005,
          0.061005606600000005,
          0.0672751571,
          0.07356874120000001,
          0.0799458391,
          0.0863642686
         ],
         "xaxis": "x2",
         "y": [
          0,
          250,
          500,
          750,
          1000,
          1250,
          1500,
          1750,
          2000,
          2250,
          2500,
          2750,
          3000,
          3250,
          3500,
          3750,
          4000,
          4250,
          4500,
          4750,
          5000
         ],
         "yaxis": "y2"
        },
        {
         "line": {
          "color": "black"
         },
         "marker": {
          "symbol": "circle"
         },
         "mode": "markers+lines",
         "showlegend": false,
         "type": "scatter",
         "x": [
          0,
          1.0893413199,
          2.1786826399,
          3.2680239598,
          4.3573652797,
          5.4467065997,
          6.5360479196,
          7.6253892396000005,
          8.7147305595,
          9.8040718794,
          10.8934131994,
          11.9827545193,
          13.0720958392,
          14.1939916563,
          15.3685450183,
          16.5430729349,
          17.7176008515,
          18.9164758082,
          20.1329036106,
          21.4069283537,
          22.6809719736
         ],
         "xaxis": "x4",
         "y": [
          0,
          250,
          500,
          750,
          1000,
          1250,
          1500,
          1750,
          2000,
          2250,
          2500,
          2750,
          3000,
          3250,
          3500,
          3750,
          4000,
          4250,
          4500,
          4750,
          5000
         ],
         "yaxis": "y4"
        },
        {
         "line": {
          "color": "black"
         },
         "marker": {
          "symbol": "circle"
         },
         "mode": "markers+lines",
         "showlegend": false,
         "type": "scatter",
         "x": [
          0,
          0.0002295682,
          0.0004591364,
          0.0006887046,
          0.0009182727000000001,
          0.0011478409,
          0.0013774091,
          0.0016069773,
          0.0018365455000000001,
          0.0020661137,
          0.0022956818,
          0.00252525,
          0.0027548182,
          0.0029875445,
          0.0032250061,
          0.0034624653,
          0.0036999245,
          0.0039392504,
          0.0041801766,
          0.0044277178000000006,
          0.0046752608
         ],
         "xaxis": "x3",
         "y": [
          0,
          250,
          500,
          750,
          1000,
          1250,
          1500,
          1750,
          2000,
          2250,
          2500,
          2750,
          3000,
          3250,
          3500,
          3750,
          4000,
          4250,
          4500,
          4750,
          5000
         ],
         "yaxis": "y3"
        },
        {
         "line": {
          "color": "black"
         },
         "marker": {
          "symbol": "circle-open"
         },
         "mode": "markers+lines",
         "name": "cyclic",
         "showlegend": true,
         "type": "scatter",
         "x": [
          0,
          9.3777863616,
          21.1854704906,
          37.4340836242,
          56.5729990879,
          79.8434334219,
          105.730203632,
          135.490685588,
          172.0643870116,
          215.8933760139,
          267.0534946405,
          325.6262776478,
          391.7638082089,
          464.5245704139,
          543.7180316966,
          627.152062291,
          713.4966423321,
          803.4459742059,
          896.0276701786,
          989.2664322312,
          1082.8717194853
         ],
         "xaxis": "x",
         "y": [
          0,
          250,
          500,
          750,
          1000,
          1250,
          1500,
          1750,
          2000,
          2250,
          2500,
          2750,
          3000,
          3250,
          3500,
          3750,
          4000,
          4250,
          4500,
          4750,
          5000
         ],
         "yaxis": "y"
        },
        {
         "line": {
          "color": "black"
         },
         "marker": {
          "symbol": "circle-open"
         },
         "mode": "markers+lines",
         "showlegend": false,
         "type": "scatter",
         "x": [
          0,
          0.0011750701,
          0.0025721723000000003,
          0.0043705998000000005,
          0.006389163000000001,
          0.0087075359,
          0.0111945088,
          0.0139393495,
          0.0171480649,
          0.0208164848,
          0.0249146432,
          0.029433152100000002,
          0.0343634463,
          0.039650574,
          0.045270878300000005,
          0.051107011800000005,
          0.057090705900000004,
          0.0632524146,
          0.06954534100000001,
          0.07586962380000001,
          0.0822105105
         ],
         "xaxis": "x2",
         "y": [
          0,
          250,
          500,
          750,
          1000,
          1250,
          1500,
          1750,
          2000,
          2250,
          2500,
          2750,
          3000,
          3250,
          3500,
          3750,
          4000,
          4250,
          4500,
          4750,
          5000
         ],
         "yaxis": "y2"
        },
        {
         "line": {
          "color": "black"
         },
         "marker": {
          "symbol": "circle-open"
         },
         "mode": "markers+lines",
         "showlegend": false,
         "type": "scatter",
         "x": [
          0,
          1.1696635698,
          2.3393271395,
          3.5089907093,
          4.678654279,
          5.8483178488,
          7.0179814185,
          8.1876449883,
          9.357308558,
          10.5269721278,
          11.7648660406,
          13.0614123549,
          14.3578386646,
          15.7041773389,
          17.0549154982,
          18.4056536576,
          19.7563918169,
          21.1737761161,
          22.6007872318,
          24.0275904107,
          25.5567825577
         ],
         "xaxis": "x4",
         "y": [
          0,
          250,
          500,
          750,
          1000,
          1250,
          1500,
          1750,
          2000,
          2250,
          2500,
          2750,
          3000,
          3250,
          3500,
          3750,
          4000,
          4250,
          4500,
          4750,
          5000
         ],
         "yaxis": "y4"
        },
        {
         "line": {
          "color": "black"
         },
         "marker": {
          "symbol": "circle-open"
         },
         "mode": "markers+lines",
         "showlegend": false,
         "type": "scatter",
         "x": [
          0,
          0.00024027500000000003,
          0.0004805499,
          0.0007208249,
          0.0009610999000000001,
          0.0012013748000000001,
          0.0014416498,
          0.0016819247,
          0.0019221997,
          0.0021624747,
          0.0024097954000000003,
          0.0026629229,
          0.0029160383000000002,
          0.0031734996,
          0.0034313434,
          0.0036891872,
          0.0039470309000000006,
          0.0042109895,
          0.004475901,
          0.004740793,
          0.0050170003
         ],
         "xaxis": "x3",
         "y": [
          0,
          250,
          500,
          750,
          1000,
          1250,
          1500,
          1750,
          2000,
          2250,
          2500,
          2750,
          3000,
          3250,
          3500,
          3750,
          4000,
          4250,
          4500,
          4750,
          5000
         ],
         "yaxis": "y3"
        }
       ],
       "layout": {
        "font": {
         "size": 8
        },
        "height": 600,
        "images": [
         {
          "sizex": 0.2,
          "sizey": 0.3,
          "source": "https://gitlab.com/dazhong.li/utility/-/blob/master/image/arup_logo.png",
          "x": 0.1,
          "xanchor": "center",
          "xref": "paper",
          "y": 1,
          "yanchor": "bottom",
          "yref": "paper"
         }
        ],
        "margin": {
         "b": 20,
         "l": 20,
         "r": 20,
         "t": 20
        },
        "template": {
         "data": {
          "bar": [
           {
            "error_x": {
             "color": "rgb(36,36,36)"
            },
            "error_y": {
             "color": "rgb(36,36,36)"
            },
            "marker": {
             "line": {
              "color": "white",
              "width": 0.5
             },
             "pattern": {
              "fillmode": "overlay",
              "size": 10,
              "solidity": 0.2
             }
            },
            "type": "bar"
           }
          ],
          "barpolar": [
           {
            "marker": {
             "line": {
              "color": "white",
              "width": 0.5
             },
             "pattern": {
              "fillmode": "overlay",
              "size": 10,
              "solidity": 0.2
             }
            },
            "type": "barpolar"
           }
          ],
          "carpet": [
           {
            "aaxis": {
             "endlinecolor": "rgb(36,36,36)",
             "gridcolor": "white",
             "linecolor": "white",
             "minorgridcolor": "white",
             "startlinecolor": "rgb(36,36,36)"
            },
            "baxis": {
             "endlinecolor": "rgb(36,36,36)",
             "gridcolor": "white",
             "linecolor": "white",
             "minorgridcolor": "white",
             "startlinecolor": "rgb(36,36,36)"
            },
            "type": "carpet"
           }
          ],
          "choropleth": [
           {
            "colorbar": {
             "outlinewidth": 1,
             "tickcolor": "rgb(36,36,36)",
             "ticks": "outside"
            },
            "type": "choropleth"
           }
          ],
          "contour": [
           {
            "colorbar": {
             "outlinewidth": 1,
             "tickcolor": "rgb(36,36,36)",
             "ticks": "outside"
            },
            "colorscale": [
             [
              0,
              "#440154"
             ],
             [
              0.1111111111111111,
              "#482878"
             ],
             [
              0.2222222222222222,
              "#3e4989"
             ],
             [
              0.3333333333333333,
              "#31688e"
             ],
             [
              0.4444444444444444,
              "#26828e"
             ],
             [
              0.5555555555555556,
              "#1f9e89"
             ],
             [
              0.6666666666666666,
              "#35b779"
             ],
             [
              0.7777777777777778,
              "#6ece58"
             ],
             [
              0.8888888888888888,
              "#b5de2b"
             ],
             [
              1,
              "#fde725"
             ]
            ],
            "type": "contour"
           }
          ],
          "contourcarpet": [
           {
            "colorbar": {
             "outlinewidth": 1,
             "tickcolor": "rgb(36,36,36)",
             "ticks": "outside"
            },
            "type": "contourcarpet"
           }
          ],
          "heatmap": [
           {
            "colorbar": {
             "outlinewidth": 1,
             "tickcolor": "rgb(36,36,36)",
             "ticks": "outside"
            },
            "colorscale": [
             [
              0,
              "#440154"
             ],
             [
              0.1111111111111111,
              "#482878"
             ],
             [
              0.2222222222222222,
              "#3e4989"
             ],
             [
              0.3333333333333333,
              "#31688e"
             ],
             [
              0.4444444444444444,
              "#26828e"
             ],
             [
              0.5555555555555556,
              "#1f9e89"
             ],
             [
              0.6666666666666666,
              "#35b779"
             ],
             [
              0.7777777777777778,
              "#6ece58"
             ],
             [
              0.8888888888888888,
              "#b5de2b"
             ],
             [
              1,
              "#fde725"
             ]
            ],
            "type": "heatmap"
           }
          ],
          "heatmapgl": [
           {
            "colorbar": {
             "outlinewidth": 1,
             "tickcolor": "rgb(36,36,36)",
             "ticks": "outside"
            },
            "colorscale": [
             [
              0,
              "#440154"
             ],
             [
              0.1111111111111111,
              "#482878"
             ],
             [
              0.2222222222222222,
              "#3e4989"
             ],
             [
              0.3333333333333333,
              "#31688e"
             ],
             [
              0.4444444444444444,
              "#26828e"
             ],
             [
              0.5555555555555556,
              "#1f9e89"
             ],
             [
              0.6666666666666666,
              "#35b779"
             ],
             [
              0.7777777777777778,
              "#6ece58"
             ],
             [
              0.8888888888888888,
              "#b5de2b"
             ],
             [
              1,
              "#fde725"
             ]
            ],
            "type": "heatmapgl"
           }
          ],
          "histogram": [
           {
            "marker": {
             "line": {
              "color": "white",
              "width": 0.6
             }
            },
            "type": "histogram"
           }
          ],
          "histogram2d": [
           {
            "colorbar": {
             "outlinewidth": 1,
             "tickcolor": "rgb(36,36,36)",
             "ticks": "outside"
            },
            "colorscale": [
             [
              0,
              "#440154"
             ],
             [
              0.1111111111111111,
              "#482878"
             ],
             [
              0.2222222222222222,
              "#3e4989"
             ],
             [
              0.3333333333333333,
              "#31688e"
             ],
             [
              0.4444444444444444,
              "#26828e"
             ],
             [
              0.5555555555555556,
              "#1f9e89"
             ],
             [
              0.6666666666666666,
              "#35b779"
             ],
             [
              0.7777777777777778,
              "#6ece58"
             ],
             [
              0.8888888888888888,
              "#b5de2b"
             ],
             [
              1,
              "#fde725"
             ]
            ],
            "type": "histogram2d"
           }
          ],
          "histogram2dcontour": [
           {
            "colorbar": {
             "outlinewidth": 1,
             "tickcolor": "rgb(36,36,36)",
             "ticks": "outside"
            },
            "colorscale": [
             [
              0,
              "#440154"
             ],
             [
              0.1111111111111111,
              "#482878"
             ],
             [
              0.2222222222222222,
              "#3e4989"
             ],
             [
              0.3333333333333333,
              "#31688e"
             ],
             [
              0.4444444444444444,
              "#26828e"
             ],
             [
              0.5555555555555556,
              "#1f9e89"
             ],
             [
              0.6666666666666666,
              "#35b779"
             ],
             [
              0.7777777777777778,
              "#6ece58"
             ],
             [
              0.8888888888888888,
              "#b5de2b"
             ],
             [
              1,
              "#fde725"
             ]
            ],
            "type": "histogram2dcontour"
           }
          ],
          "mesh3d": [
           {
            "colorbar": {
             "outlinewidth": 1,
             "tickcolor": "rgb(36,36,36)",
             "ticks": "outside"
            },
            "type": "mesh3d"
           }
          ],
          "parcoords": [
           {
            "line": {
             "colorbar": {
              "outlinewidth": 1,
              "tickcolor": "rgb(36,36,36)",
              "ticks": "outside"
             }
            },
            "type": "parcoords"
           }
          ],
          "pie": [
           {
            "automargin": true,
            "type": "pie"
           }
          ],
          "scatter": [
           {
            "fillpattern": {
             "fillmode": "overlay",
             "size": 10,
             "solidity": 0.2
            },
            "type": "scatter"
           }
          ],
          "scatter3d": [
           {
            "line": {
             "colorbar": {
              "outlinewidth": 1,
              "tickcolor": "rgb(36,36,36)",
              "ticks": "outside"
             }
            },
            "marker": {
             "colorbar": {
              "outlinewidth": 1,
              "tickcolor": "rgb(36,36,36)",
              "ticks": "outside"
             }
            },
            "type": "scatter3d"
           }
          ],
          "scattercarpet": [
           {
            "marker": {
             "colorbar": {
              "outlinewidth": 1,
              "tickcolor": "rgb(36,36,36)",
              "ticks": "outside"
             }
            },
            "type": "scattercarpet"
           }
          ],
          "scattergeo": [
           {
            "marker": {
             "colorbar": {
              "outlinewidth": 1,
              "tickcolor": "rgb(36,36,36)",
              "ticks": "outside"
             }
            },
            "type": "scattergeo"
           }
          ],
          "scattergl": [
           {
            "marker": {
             "colorbar": {
              "outlinewidth": 1,
              "tickcolor": "rgb(36,36,36)",
              "ticks": "outside"
             }
            },
            "type": "scattergl"
           }
          ],
          "scattermapbox": [
           {
            "marker": {
             "colorbar": {
              "outlinewidth": 1,
              "tickcolor": "rgb(36,36,36)",
              "ticks": "outside"
             }
            },
            "type": "scattermapbox"
           }
          ],
          "scatterpolar": [
           {
            "marker": {
             "colorbar": {
              "outlinewidth": 1,
              "tickcolor": "rgb(36,36,36)",
              "ticks": "outside"
             }
            },
            "type": "scatterpolar"
           }
          ],
          "scatterpolargl": [
           {
            "marker": {
             "colorbar": {
              "outlinewidth": 1,
              "tickcolor": "rgb(36,36,36)",
              "ticks": "outside"
             }
            },
            "type": "scatterpolargl"
           }
          ],
          "scatterternary": [
           {
            "marker": {
             "colorbar": {
              "outlinewidth": 1,
              "tickcolor": "rgb(36,36,36)",
              "ticks": "outside"
             }
            },
            "type": "scatterternary"
           }
          ],
          "surface": [
           {
            "colorbar": {
             "outlinewidth": 1,
             "tickcolor": "rgb(36,36,36)",
             "ticks": "outside"
            },
            "colorscale": [
             [
              0,
              "#440154"
             ],
             [
              0.1111111111111111,
              "#482878"
             ],
             [
              0.2222222222222222,
              "#3e4989"
             ],
             [
              0.3333333333333333,
              "#31688e"
             ],
             [
              0.4444444444444444,
              "#26828e"
             ],
             [
              0.5555555555555556,
              "#1f9e89"
             ],
             [
              0.6666666666666666,
              "#35b779"
             ],
             [
              0.7777777777777778,
              "#6ece58"
             ],
             [
              0.8888888888888888,
              "#b5de2b"
             ],
             [
              1,
              "#fde725"
             ]
            ],
            "type": "surface"
           }
          ],
          "table": [
           {
            "cells": {
             "fill": {
              "color": "rgb(237,237,237)"
             },
             "line": {
              "color": "white"
             }
            },
            "header": {
             "fill": {
              "color": "rgb(217,217,217)"
             },
             "line": {
              "color": "white"
             }
            },
            "type": "table"
           }
          ]
         },
         "layout": {
          "annotationdefaults": {
           "arrowhead": 0,
           "arrowwidth": 1
          },
          "autotypenumbers": "strict",
          "coloraxis": {
           "colorbar": {
            "outlinewidth": 1,
            "tickcolor": "rgb(36,36,36)",
            "ticks": "outside"
           }
          },
          "colorscale": {
           "diverging": [
            [
             0,
             "rgb(103,0,31)"
            ],
            [
             0.1,
             "rgb(178,24,43)"
            ],
            [
             0.2,
             "rgb(214,96,77)"
            ],
            [
             0.3,
             "rgb(244,165,130)"
            ],
            [
             0.4,
             "rgb(253,219,199)"
            ],
            [
             0.5,
             "rgb(247,247,247)"
            ],
            [
             0.6,
             "rgb(209,229,240)"
            ],
            [
             0.7,
             "rgb(146,197,222)"
            ],
            [
             0.8,
             "rgb(67,147,195)"
            ],
            [
             0.9,
             "rgb(33,102,172)"
            ],
            [
             1,
             "rgb(5,48,97)"
            ]
           ],
           "sequential": [
            [
             0,
             "#440154"
            ],
            [
             0.1111111111111111,
             "#482878"
            ],
            [
             0.2222222222222222,
             "#3e4989"
            ],
            [
             0.3333333333333333,
             "#31688e"
            ],
            [
             0.4444444444444444,
             "#26828e"
            ],
            [
             0.5555555555555556,
             "#1f9e89"
            ],
            [
             0.6666666666666666,
             "#35b779"
            ],
            [
             0.7777777777777778,
             "#6ece58"
            ],
            [
             0.8888888888888888,
             "#b5de2b"
            ],
            [
             1,
             "#fde725"
            ]
           ],
           "sequentialminus": [
            [
             0,
             "#440154"
            ],
            [
             0.1111111111111111,
             "#482878"
            ],
            [
             0.2222222222222222,
             "#3e4989"
            ],
            [
             0.3333333333333333,
             "#31688e"
            ],
            [
             0.4444444444444444,
             "#26828e"
            ],
            [
             0.5555555555555556,
             "#1f9e89"
            ],
            [
             0.6666666666666666,
             "#35b779"
            ],
            [
             0.7777777777777778,
             "#6ece58"
            ],
            [
             0.8888888888888888,
             "#b5de2b"
            ],
            [
             1,
             "#fde725"
            ]
           ]
          },
          "colorway": [
           "#1F77B4",
           "#FF7F0E",
           "#2CA02C",
           "#D62728",
           "#9467BD",
           "#8C564B",
           "#E377C2",
           "#7F7F7F",
           "#BCBD22",
           "#17BECF"
          ],
          "font": {
           "color": "rgb(36,36,36)"
          },
          "geo": {
           "bgcolor": "white",
           "lakecolor": "white",
           "landcolor": "white",
           "showlakes": true,
           "showland": true,
           "subunitcolor": "white"
          },
          "hoverlabel": {
           "align": "left"
          },
          "hovermode": "closest",
          "mapbox": {
           "style": "light"
          },
          "paper_bgcolor": "white",
          "plot_bgcolor": "white",
          "polar": {
           "angularaxis": {
            "gridcolor": "rgb(232,232,232)",
            "linecolor": "rgb(36,36,36)",
            "showgrid": false,
            "showline": true,
            "ticks": "outside"
           },
           "bgcolor": "white",
           "radialaxis": {
            "gridcolor": "rgb(232,232,232)",
            "linecolor": "rgb(36,36,36)",
            "showgrid": false,
            "showline": true,
            "ticks": "outside"
           }
          },
          "scene": {
           "xaxis": {
            "backgroundcolor": "white",
            "gridcolor": "rgb(232,232,232)",
            "gridwidth": 2,
            "linecolor": "rgb(36,36,36)",
            "showbackground": true,
            "showgrid": false,
            "showline": true,
            "ticks": "outside",
            "zeroline": false,
            "zerolinecolor": "rgb(36,36,36)"
           },
           "yaxis": {
            "backgroundcolor": "white",
            "gridcolor": "rgb(232,232,232)",
            "gridwidth": 2,
            "linecolor": "rgb(36,36,36)",
            "showbackground": true,
            "showgrid": false,
            "showline": true,
            "ticks": "outside",
            "zeroline": false,
            "zerolinecolor": "rgb(36,36,36)"
           },
           "zaxis": {
            "backgroundcolor": "white",
            "gridcolor": "rgb(232,232,232)",
            "gridwidth": 2,
            "linecolor": "rgb(36,36,36)",
            "showbackground": true,
            "showgrid": false,
            "showline": true,
            "ticks": "outside",
            "zeroline": false,
            "zerolinecolor": "rgb(36,36,36)"
           }
          },
          "shapedefaults": {
           "fillcolor": "black",
           "line": {
            "width": 0
           },
           "opacity": 0.3
          },
          "ternary": {
           "aaxis": {
            "gridcolor": "rgb(232,232,232)",
            "linecolor": "rgb(36,36,36)",
            "showgrid": false,
            "showline": true,
            "ticks": "outside"
           },
           "baxis": {
            "gridcolor": "rgb(232,232,232)",
            "linecolor": "rgb(36,36,36)",
            "showgrid": false,
            "showline": true,
            "ticks": "outside"
           },
           "bgcolor": "white",
           "caxis": {
            "gridcolor": "rgb(232,232,232)",
            "linecolor": "rgb(36,36,36)",
            "showgrid": false,
            "showline": true,
            "ticks": "outside"
           }
          },
          "title": {
           "x": 0.05
          },
          "xaxis": {
           "automargin": true,
           "gridcolor": "rgb(232,232,232)",
           "linecolor": "rgb(36,36,36)",
           "showgrid": false,
           "showline": true,
           "ticks": "outside",
           "title": {
            "standoff": 15
           },
           "zeroline": false,
           "zerolinecolor": "rgb(36,36,36)"
          },
          "yaxis": {
           "automargin": true,
           "gridcolor": "rgb(232,232,232)",
           "linecolor": "rgb(36,36,36)",
           "showgrid": false,
           "showline": true,
           "ticks": "outside",
           "title": {
            "standoff": 15
           },
           "zeroline": false,
           "zerolinecolor": "rgb(36,36,36)"
          }
         }
        },
        "width": 800,
        "xaxis": {
         "anchor": "y",
         "domain": [
          0,
          0.45
         ],
         "showgrid": true,
         "title": {
          "text": "Pile Head Displacement (mm)"
         }
        },
        "xaxis2": {
         "anchor": "y2",
         "domain": [
          0.55,
          1
         ],
         "showgrid": true,
         "title": {
          "text": "Pile Head Rotation (rad)"
         }
        },
        "xaxis3": {
         "anchor": "y3",
         "domain": [
          0,
          0.45
         ],
         "showgrid": true,
         "title": {
          "text": "Pile Head Rotation (rad)"
         }
        },
        "xaxis4": {
         "anchor": "y4",
         "domain": [
          0.55,
          1
         ],
         "showgrid": true,
         "title": {
          "text": "Pile Head Displacement (mm)"
         }
        },
        "yaxis": {
         "anchor": "x",
         "domain": [
          0.575,
          1
         ],
         "showgrid": true,
         "title": {
          "text": "Applied Lateral Force(H=H0, M=0) at Pile Head(kN)"
         }
        },
        "yaxis2": {
         "anchor": "x2",
         "domain": [
          0.575,
          1
         ],
         "showgrid": true
        },
        "yaxis3": {
         "anchor": "x3",
         "domain": [
          0,
          0.425
         ],
         "showgrid": true,
         "title": {
          "text": "Applied Lateral Force at Pile Head(kN)"
         }
        },
        "yaxis4": {
         "anchor": "x4",
         "domain": [
          0,
          0.425
         ],
         "showgrid": true
        }
       }
      }
     },
     "metadata": {},
     "output_type": "display_data"
    }
   ],
   "source": [
    "fig = plot_load_disp(df_load_disp_static,'Static','circle')\n",
    "plot_load_disp(df_load_disp_cyclic,'cyclic','circle-open',fig=fig)"
   ]
  },
  {
   "cell_type": "markdown",
   "metadata": {},
   "source": [
    "# Estimate Stiffness matrices using ALP\n",
    "\n",
    "$$\n",
    "\\begin{equation}\n",
    "\\begin{bmatrix} H\\\\ M\\\\ \\end{bmatrix} = \\overbrace{\\begin{bmatrix} K_L & K_{LR} \\\\ k_{LR} & K_R \\end{bmatrix}}^{\\text{Stiffness Matrix}} \\begin{bmatrix} \\rho\\\\ \\theta \\end{bmatrix}\n",
    "\\Rightarrow\n",
    "\\begin{bmatrix} \\rho\\\\ \\theta\\\\ \\end{bmatrix} = \\begin{bmatrix} K_L & K_{LR} \\\\ k_{LR} & K_R \\end{bmatrix}^{-1} \\begin{bmatrix} H \\\\ M \\end{bmatrix}\n",
    "\\Rightarrow\n",
    "\\begin{bmatrix} \\rho\\\\ \\theta\\\\ \\end{bmatrix} = \\begin{bmatrix} I_L & I_{LR} \\\\ I_{LR} & I_R \\end{bmatrix} \\begin{bmatrix} H \\\\ M \\end{bmatrix}\n",
    "\\end{equation}\n",
    "$$\n",
    "\n",
    "To obtain this stiffness matrix, it is easier to run the analysis in two runs:\n",
    "\n",
    "    H = H0 and M=0\n",
    "\n",
    "    H = 0 and M=M0\n",
    "\n",
    "$$\n",
    "\\begin{equation}\n",
    "\\begin{bmatrix} \\rho_0\\\\ \\theta_0\\\\ \\end{bmatrix} = \\begin{bmatrix} I_L & I_{LR} \\\\ I_{LR} & I_R \\end{bmatrix} \\begin{bmatrix} H \\\\ 0 \\end{bmatrix} \\Rightarrow\n",
    "\\begin{bmatrix}\n",
    "\\rho_0 = H_0 \\cdot I_L \\\\ \\theta_0 = H_0 \\cdot I_{LR} \\end{bmatrix} \\Rightarrow\n",
    "\\begin{bmatrix} I_L = \\frac{\\rho_0}{H_0} \\\\ I_{LR} = \\frac{\\theta_0}{H_0} \\end{bmatrix} \n",
    "\\end{equation}\n",
    "$$\n",
    "\n",
    "\n",
    "$$\n",
    "\\begin{equation}\n",
    "\\begin{bmatrix} \\rho_1\\\\ \\theta_1\\\\ \\end{bmatrix} = \\begin{bmatrix} I_L & I_{LR} \\\\ I_{LR} & I_R \\end{bmatrix} \\begin{bmatrix} 0 \\\\ M_0 \\end{bmatrix} \\Rightarrow\n",
    "\\begin{bmatrix}\n",
    "\\rho_1 = M_0 \\cdot I_{LR} \\\\ \\theta_1 = M_0 \\cdot I_{R} \\end{bmatrix} \\Rightarrow\n",
    "\\begin{bmatrix} I_{LR} = \\frac{\\rho_1}{M_0} \\\\ I_{R} = \\frac{\\theta_1}{M_0} \\end{bmatrix} \n",
    "\\end{equation}\n",
    "$$\n",
    "\n",
    "\n"
   ]
  },
  {
   "cell_type": "code",
   "execution_count": 66,
   "metadata": {},
   "outputs": [],
   "source": [
    "from scipy.interpolate import interp1d\n",
    "\n",
    "H0 = 300\n",
    "M0 = 300\n",
    "\n",
    "f_u0 = interp1d(df_load_disp_curve.H0,df_load_disp_curve.u0)\n",
    "f_u1 = interp1d(df_load_disp_curve.M0,df_load_disp_curve.u1)\n",
    "f_theta0 = interp1d(df_load_disp_curve.H0,df_load_disp_curve.theta0)\n",
    "f_theta1 = interp1d(df_load_disp_curve.M0,df_load_disp_curve.theta1)\n",
    "\n",
    "u0 = f_u0(H0)\n",
    "u1 = f_u1(M0)\n",
    "rho0 = f_rho0(H0)\n",
    "rho1 = f_rho1(M0)\n",
    "\n",
    "I_matrix = np.array([[u0/H0,rho0/H0],[u1/M0,rho1/M0]])"
   ]
  }
 ],
 "metadata": {
  "kernelspec": {
   "display_name": "UnitCPT",
   "language": "python",
   "name": "python3"
  },
  "language_info": {
   "codemirror_mode": {
    "name": "ipython",
    "version": 3
   },
   "file_extension": ".py",
   "mimetype": "text/x-python",
   "name": "python",
   "nbconvert_exporter": "python",
   "pygments_lexer": "ipython3",
   "version": "3.9.16"
  }
 },
 "nbformat": 4,
 "nbformat_minor": 2
}
