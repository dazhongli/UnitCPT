{
 "cells": [
  {
   "cell_type": "markdown",
   "metadata": {},
   "source": [
    "# ALP Interface\n",
    "\n",
    "We will automate the ALP through its COM Interface "
   ]
  },
  {
   "cell_type": "code",
   "execution_count": 2,
   "metadata": {},
   "outputs": [
    {
     "name": "stderr",
     "output_type": "stream",
     "text": [
      "DEBUG:matplotlib:matplotlib data path: c:\\Users\\dazhong.li\\AppData\\Local\\miniconda3\\envs\\UnitCPT\\lib\\site-packages\\matplotlib\\mpl-data\n",
      "DEBUG:matplotlib:CONFIGDIR=C:\\Users\\dazhong.li\\.matplotlib\n",
      "DEBUG:matplotlib:interactive is False\n",
      "DEBUG:matplotlib:platform is win32\n",
      "DEBUG:matplotlib:CACHEDIR=C:\\Users\\dazhong.li\\.matplotlib\n",
      "DEBUG:matplotlib.font_manager:Using fontManager instance from C:\\Users\\dazhong.li\\.matplotlib\\fontlist-v330.json\n"
     ]
    }
   ],
   "source": [
    "from src import alp\n",
    "import os\n",
    "from pathlib import Path\n",
    "from tqdm import tqdm\n",
    "import os\n",
    "import pandas as pd\n",
    "from src.pile import PipePile\n",
    "import numpy as np"
   ]
  },
  {
   "cell_type": "markdown",
   "metadata": {},
   "source": [
    "We will use SetNodePY function"
   ]
  },
  {
   "cell_type": "code",
   "execution_count": 3,
   "metadata": {},
   "outputs": [
    {
     "name": "stderr",
     "output_type": "stream",
     "text": [
      "DEBUG:root:Terminated - alp.exe Pid-21204\n",
      "DEBUG:root:Started New file test.alw\n"
     ]
    }
   ],
   "source": [
    "model = alp.ALP()\n",
    "model.new_file('test.alw','','UnitCPT','Push-Over Analysis','CPT p-y analysis')\n",
    "# model.open(r'C:\\Users\\dazhong.li\\OneDrive - Arup\\01 - Project\\UnitCPT\\UnitCPT\\alpmodel.alw')\n",
    "# model.save()\n",
    "\n",
    "proj = model.proj\n",
    "pile_dia =2.0 # 1.0m\n",
    "pile_thickness = 0.05 # 50mm\n",
    "pile_length = 80 # \n",
    "pile_penetration = 80# \n",
    "corrosion = 0\n",
    "\n",
    "test_pile = PipePile(pile_dia,pile_thickness,pile_length,pile_penetration,corrosion=0)\n",
    "model.set_section(1,f'Tubular Pile {pile_dia}m, thickness={pile_thickness:.3f}',1,1,test_pile.EI)\n",
    "\n",
    "# Need to set to Specified_PY\n",
    "proj.SetSoilModel(1)"
   ]
  },
  {
   "cell_type": "code",
   "execution_count": 4,
   "metadata": {},
   "outputs": [],
   "source": [
    "# df = pd.read_excel('./p-y curves cyclic - CPT04.xlsx',sheet_name='SUMMARY-Static',skiprows=2)"
   ]
  },
  {
   "cell_type": "code",
   "execution_count": 5,
   "metadata": {},
   "outputs": [],
   "source": [
    "# df = pd.read_excel('cpt_data_resampled.xlsx')\n",
    "\n",
    "def calc_displacement_curve(df,name):\n",
    "    model = alp.ALP()\n",
    "    model.new_file('test.alw','','UnitCPT','Push-Over Analysis','CPT p-y analysis')\n",
    "    # model.open(r'C:\\Users\\dazhong.li\\OneDrive - Arup\\01 - Project\\UnitCPT\\UnitCPT\\alpmodel.alw')\n",
    "    # model.save()\n",
    "    proj = model.proj\n",
    "    pile_dia =2.0 # 1.0m\n",
    "    pile_thickness = 0.05 # 50mm\n",
    "    pile_length = 80 # \n",
    "    pile_penetration = 80# \n",
    "    corrosion = 0\n",
    "\n",
    "    test_pile = PipePile(pile_dia,pile_thickness,pile_length,pile_penetration,corrosion=0)\n",
    "    model.set_section(1,f'Tubular Pile {pile_dia}m, thickness={pile_thickness:.3f}',1,1,test_pile.EI)\n",
    "\n",
    "    # Need to set to Specified_PY\n",
    "    proj.SetSoilModel(1)\n",
    "    column_str =['pcy0','ycy0','pcy2','ycy2','pcy4','ycy4','pcy6','ycy6','pcy8','ycy8','pcy12','ycy12']\n",
    "    df_alp = df[['Depth','pcy0','ycy0','pcy2','ycy2','pcy4','ycy4','pcy6','ycy6','pcy8','ycy8','pcy12','ycy12']].copy()\n",
    "    df_alp['Level'] = df_alp.Depth*-1\n",
    "    df_alp= df_alp.dropna()\n",
    "    # proj.ClearNodes()\n",
    "    for i, row in df_alp.iterrows():\n",
    "        proj.InsertNode(row['Level'],1)\n",
    "        proj.AddNodePY(*(row[column_str].values.tolist()))\n",
    "    df_load_disp_curve = pd.DataFrame()\n",
    "    i = 0\n",
    "    for f in tqdm(np.linspace(0,5000,21)):\n",
    "        model.set_node_load_displacement(1,f*-1,0,0)\n",
    "        model.analyse()\n",
    "        df_load_disp_curve.loc[i,'H0'] = f\n",
    "        df_load_disp_curve.loc[i,'u0'] = model.proj.GetNodeDisp(1)\n",
    "        df_load_disp_curve.loc[i,'theta0'] = model.proj.GetNodeRotation(1)\n",
    "        i +=1\n",
    "    i = 0\n",
    "    for m in tqdm(np.linspace(0,5000,21)):\n",
    "        model.set_node_load_displacement(1,0,m,0)\n",
    "        model.analyse()\n",
    "        df_load_disp_curve.loc[i,'M0'] = m\n",
    "        df_load_disp_curve.loc[i,'u1'] = model.proj.GetNodeDisp(1)\n",
    "        df_load_disp_curve.loc[i,'theta1'] = model.proj.GetNodeRotation(1)\n",
    "        i +=1\n",
    "    model.save_as(name)\n",
    "    return df_load_disp_curve"
   ]
  },
  {
   "cell_type": "code",
   "execution_count": 7,
   "metadata": {},
   "outputs": [
    {
     "name": "stderr",
     "output_type": "stream",
     "text": [
      "DEBUG:root:Started New file test.alw\n",
      "100%|██████████| 21/21 [00:05<00:00,  4.00it/s]\n",
      "100%|██████████| 21/21 [00:00<00:00, 48.65it/s]\n",
      "DEBUG:root:C:\\Users\\dazhong.li\\OneDrive - Arup\\01 - Project\\UnitCPT\\UnitCPT\\ALP Calibration\\SUMMARY-Cyclic.alwsaved successfully\n"
     ]
    }
   ],
   "source": [
    "case = 'SUMMARY-Cyclic'\n",
    "df = pd.read_excel('p-y curves cyclic - CPT04.xlsx',sheet_name=case,skiprows=2)\n",
    "df.drop([0,1],axis=0,inplace=True)\n",
    "df_load_disp_curve = calc_displacement_curve(df,r'C:\\Users\\dazhong.li\\OneDrive - Arup\\01 - Project\\UnitCPT\\UnitCPT\\ALP Calibration'+f'\\{case}.alw')\n",
    "df_load_disp_curve.to_json(f'{case}.json')"
   ]
  },
  {
   "cell_type": "code",
   "execution_count": 8,
   "metadata": {},
   "outputs": [],
   "source": [
    "df_load_disp_static =pd.read_json('SUMMARY-Static.json')\n",
    "df_load_disp_cyclic =pd.read_json('SUMMARY-Cyclic.json')"
   ]
  },
  {
   "cell_type": "code",
   "execution_count": 9,
   "metadata": {},
   "outputs": [],
   "source": [
    "from src import geoplot\n",
    "import  plotly.graph_objects as go\n",
    "markers = geoplot.GEOPlot.marker_list()\n",
    "\n",
    "def plot_load_disp(df_load_disp_curve, name, symbol, fig=None):\n",
    "    if fig is None:\n",
    "        fig = geoplot.GEOPlot.get_figure(rows=2,cols=2)\n",
    "    fig.add_trace(go.Scatter(y=df_load_disp_curve.H0,x=df_load_disp_curve.u0,\n",
    "                                mode='markers+lines',\n",
    "                                line=dict(color='black'),\n",
    "                                marker=dict(symbol=symbol),\n",
    "                                name=name,\n",
    "                                showlegend=True),row=1,col=1)\n",
    "    fig.add_trace(go.Scatter(y=df_load_disp_curve.H0,x=df_load_disp_curve.theta0,\n",
    "                                mode='markers+lines',\n",
    "                                line=dict(color='black'),\n",
    "                                marker=dict(symbol=symbol),\n",
    "                                showlegend=False),row=1,col=2)\n",
    "    fig.update_xaxes(title='Pile Head Displacement (mm)',row=1,col=1)\n",
    "    fig.update_xaxes(title='Pile Head Rotation (rad)',row=1,col=2)\n",
    "    fig.update_yaxes(title='Applied Lateral Force(H=H0, M=0) at Pile Head(kN)',row=1,col=1)\n",
    "\n",
    "    fig.add_trace(go.Scatter(y=df_load_disp_curve.M0,x=df_load_disp_curve.u1,\n",
    "                            mode='markers+lines',\n",
    "                            line=dict(color='black'),\n",
    "                            marker=dict(symbol=symbol),\n",
    "                            showlegend=False),row=2,col=2)\n",
    "    fig.add_trace(go.Scatter(y=df_load_disp_curve.M0,x=df_load_disp_curve.theta1,\n",
    "                            mode='markers+lines',\n",
    "                            marker=dict(symbol=symbol),\n",
    "                            line=dict(color='black'),showlegend=False),\n",
    "                            row=2,col=1)\n",
    "    fig.update_xaxes(title='Pile Head Displacement (mm)',row=2,col=2)\n",
    "    fig.update_xaxes(title='Pile Head Rotation (rad)',row=2,col=1)\n",
    "    fig.update_yaxes(title='Applied Lateral Force at Pile Head(kN)',row=2,col=1)\n",
    "    fig.update_layout(width=800,height=600,font=dict(size=8))\n",
    "    return fig\n"
   ]
  },
  {
   "cell_type": "code",
   "execution_count": 10,
   "metadata": {},
   "outputs": [
    {
     "data": {
      "application/vnd.plotly.v1+json": {
       "config": {
        "plotlyServerURL": "https://plot.ly"
       },
       "data": [
        {
         "line": {
          "color": "black"
         },
         "marker": {
          "symbol": "circle"
         },
         "mode": "markers+lines",
         "name": "Static",
         "showlegend": true,
         "type": "scatter",
         "x": [
          0,
          9.1509768061,
          19.7837344364,
          36.7095903707,
          59.4154528389,
          85.5912528186,
          116.9437663854,
          152.7750106045,
          192.8162102743,
          242.971857611,
          303.4296311148,
          371.8597386622,
          447.9444761993,
          529.478874395,
          615.0734943869,
          704.7477038449,
          795.7459966077,
          887.8859351107,
          980.5519826149,
          1074.8988764287,
          1170.0875197283
         ],
         "xaxis": "x",
         "y": [
          0,
          250,
          500,
          750,
          1000,
          1250,
          1500,
          1750,
          2000,
          2250,
          2500,
          2750,
          3000,
          3250,
          3500,
          3750,
          4000,
          4250,
          4500,
          4750,
          5000
         ],
         "yaxis": "y"
        },
        {
         "line": {
          "color": "black"
         },
         "marker": {
          "symbol": "circle"
         },
         "mode": "markers+lines",
         "showlegend": false,
         "type": "scatter",
         "x": [
          0,
          0.0010893413,
          0.0022990474,
          0.0040830688,
          0.0063184696,
          0.0087719533,
          0.011571931700000001,
          0.0146422011,
          0.0179594675,
          0.0219191943,
          0.0265057063,
          0.0315337505,
          0.0369760197,
          0.042707387,
          0.048647302600000004,
          0.054793124500000005,
          0.061005606600000005,
          0.0672751571,
          0.07356874120000001,
          0.0799458391,
          0.0863642686
         ],
         "xaxis": "x2",
         "y": [
          0,
          250,
          500,
          750,
          1000,
          1250,
          1500,
          1750,
          2000,
          2250,
          2500,
          2750,
          3000,
          3250,
          3500,
          3750,
          4000,
          4250,
          4500,
          4750,
          5000
         ],
         "yaxis": "y2"
        },
        {
         "line": {
          "color": "black"
         },
         "marker": {
          "symbol": "circle"
         },
         "mode": "markers+lines",
         "showlegend": false,
         "type": "scatter",
         "x": [
          0,
          1.0893413199,
          2.1786826399,
          3.2680239598,
          4.3573652797,
          5.4467065997,
          6.5360479196,
          7.6253892396000005,
          8.7147305595,
          9.8040718794,
          10.8934131994,
          11.9827545193,
          13.0720958392,
          14.1939916563,
          15.3685450183,
          16.5430729349,
          17.7176008515,
          18.9164758082,
          20.1329036106,
          21.4069283537,
          22.6809719736
         ],
         "xaxis": "x4",
         "y": [
          0,
          250,
          500,
          750,
          1000,
          1250,
          1500,
          1750,
          2000,
          2250,
          2500,
          2750,
          3000,
          3250,
          3500,
          3750,
          4000,
          4250,
          4500,
          4750,
          5000
         ],
         "yaxis": "y4"
        },
        {
         "line": {
          "color": "black"
         },
         "marker": {
          "symbol": "circle"
         },
         "mode": "markers+lines",
         "showlegend": false,
         "type": "scatter",
         "x": [
          0,
          0.0002295682,
          0.0004591364,
          0.0006887046,
          0.0009182727000000001,
          0.0011478409,
          0.0013774091,
          0.0016069773,
          0.0018365455000000001,
          0.0020661137,
          0.0022956818,
          0.00252525,
          0.0027548182,
          0.0029875445,
          0.0032250061,
          0.0034624653,
          0.0036999245,
          0.0039392504,
          0.0041801766,
          0.0044277178000000006,
          0.0046752608
         ],
         "xaxis": "x3",
         "y": [
          0,
          250,
          500,
          750,
          1000,
          1250,
          1500,
          1750,
          2000,
          2250,
          2500,
          2750,
          3000,
          3250,
          3500,
          3750,
          4000,
          4250,
          4500,
          4750,
          5000
         ],
         "yaxis": "y3"
        },
        {
         "line": {
          "color": "black"
         },
         "marker": {
          "symbol": "circle-open"
         },
         "mode": "markers+lines",
         "name": "cyclic",
         "showlegend": true,
         "type": "scatter",
         "x": [
          0,
          9.3777863616,
          21.1854704906,
          37.4340836242,
          56.5729990879,
          79.8434334219,
          105.730203632,
          135.490685588,
          172.0643870116,
          215.8933760139,
          267.0534946405,
          325.6262776478,
          391.7638082089,
          464.5245704139,
          543.7180316966,
          627.152062291,
          713.4966423321,
          803.4459742059,
          896.0276701786,
          989.2664322312,
          1082.8717194853
         ],
         "xaxis": "x",
         "y": [
          0,
          250,
          500,
          750,
          1000,
          1250,
          1500,
          1750,
          2000,
          2250,
          2500,
          2750,
          3000,
          3250,
          3500,
          3750,
          4000,
          4250,
          4500,
          4750,
          5000
         ],
         "yaxis": "y"
        },
        {
         "line": {
          "color": "black"
         },
         "marker": {
          "symbol": "circle-open"
         },
         "mode": "markers+lines",
         "showlegend": false,
         "type": "scatter",
         "x": [
          0,
          0.0011750701,
          0.0025721723000000003,
          0.0043705998000000005,
          0.006389163000000001,
          0.0087075359,
          0.0111945088,
          0.0139393495,
          0.0171480649,
          0.0208164848,
          0.0249146432,
          0.029433152100000002,
          0.0343634463,
          0.039650574,
          0.045270878300000005,
          0.051107011800000005,
          0.057090705900000004,
          0.0632524146,
          0.06954534100000001,
          0.07586962380000001,
          0.0822105105
         ],
         "xaxis": "x2",
         "y": [
          0,
          250,
          500,
          750,
          1000,
          1250,
          1500,
          1750,
          2000,
          2250,
          2500,
          2750,
          3000,
          3250,
          3500,
          3750,
          4000,
          4250,
          4500,
          4750,
          5000
         ],
         "yaxis": "y2"
        },
        {
         "line": {
          "color": "black"
         },
         "marker": {
          "symbol": "circle-open"
         },
         "mode": "markers+lines",
         "showlegend": false,
         "type": "scatter",
         "x": [
          0,
          1.1696635698,
          2.3393271395,
          3.5089907093,
          4.678654279,
          5.8483178488,
          7.0179814185,
          8.1876449883,
          9.357308558,
          10.5269721278,
          11.7648660406,
          13.0614123549,
          14.3578386646,
          15.7041773389,
          17.0549154982,
          18.4056536576,
          19.7563918169,
          21.1737761161,
          22.6007872318,
          24.0275904107,
          25.5567825577
         ],
         "xaxis": "x4",
         "y": [
          0,
          250,
          500,
          750,
          1000,
          1250,
          1500,
          1750,
          2000,
          2250,
          2500,
          2750,
          3000,
          3250,
          3500,
          3750,
          4000,
          4250,
          4500,
          4750,
          5000
         ],
         "yaxis": "y4"
        },
        {
         "line": {
          "color": "black"
         },
         "marker": {
          "symbol": "circle-open"
         },
         "mode": "markers+lines",
         "showlegend": false,
         "type": "scatter",
         "x": [
          0,
          0.00024027500000000003,
          0.0004805499,
          0.0007208249,
          0.0009610999000000001,
          0.0012013748000000001,
          0.0014416498,
          0.0016819247,
          0.0019221997,
          0.0021624747,
          0.0024097954000000003,
          0.0026629229,
          0.0029160383000000002,
          0.0031734996,
          0.0034313434,
          0.0036891872,
          0.0039470309000000006,
          0.0042109895,
          0.004475901,
          0.004740793,
          0.0050170003
         ],
         "xaxis": "x3",
         "y": [
          0,
          250,
          500,
          750,
          1000,
          1250,
          1500,
          1750,
          2000,
          2250,
          2500,
          2750,
          3000,
          3250,
          3500,
          3750,
          4000,
          4250,
          4500,
          4750,
          5000
         ],
         "yaxis": "y3"
        }
       ],
       "layout": {
        "font": {
         "size": 8
        },
        "height": 600,
        "images": [
         {
          "sizex": 0.2,
          "sizey": 0.3,
          "source": "https://gitlab.com/dazhong.li/utility/-/blob/master/image/arup_logo.png",
          "x": 0.1,
          "xanchor": "center",
          "xref": "paper",
          "y": 1,
          "yanchor": "bottom",
          "yref": "paper"
         }
        ],
        "margin": {
         "b": 20,
         "l": 20,
         "r": 20,
         "t": 20
        },
        "template": {
         "data": {
          "bar": [
           {
            "error_x": {
             "color": "rgb(36,36,36)"
            },
            "error_y": {
             "color": "rgb(36,36,36)"
            },
            "marker": {
             "line": {
              "color": "white",
              "width": 0.5
             },
             "pattern": {
              "fillmode": "overlay",
              "size": 10,
              "solidity": 0.2
             }
            },
            "type": "bar"
           }
          ],
          "barpolar": [
           {
            "marker": {
             "line": {
              "color": "white",
              "width": 0.5
             },
             "pattern": {
              "fillmode": "overlay",
              "size": 10,
              "solidity": 0.2
             }
            },
            "type": "barpolar"
           }
          ],
          "carpet": [
           {
            "aaxis": {
             "endlinecolor": "rgb(36,36,36)",
             "gridcolor": "white",
             "linecolor": "white",
             "minorgridcolor": "white",
             "startlinecolor": "rgb(36,36,36)"
            },
            "baxis": {
             "endlinecolor": "rgb(36,36,36)",
             "gridcolor": "white",
             "linecolor": "white",
             "minorgridcolor": "white",
             "startlinecolor": "rgb(36,36,36)"
            },
            "type": "carpet"
           }
          ],
          "choropleth": [
           {
            "colorbar": {
             "outlinewidth": 1,
             "tickcolor": "rgb(36,36,36)",
             "ticks": "outside"
            },
            "type": "choropleth"
           }
          ],
          "contour": [
           {
            "colorbar": {
             "outlinewidth": 1,
             "tickcolor": "rgb(36,36,36)",
             "ticks": "outside"
            },
            "colorscale": [
             [
              0,
              "#440154"
             ],
             [
              0.1111111111111111,
              "#482878"
             ],
             [
              0.2222222222222222,
              "#3e4989"
             ],
             [
              0.3333333333333333,
              "#31688e"
             ],
             [
              0.4444444444444444,
              "#26828e"
             ],
             [
              0.5555555555555556,
              "#1f9e89"
             ],
             [
              0.6666666666666666,
              "#35b779"
             ],
             [
              0.7777777777777778,
              "#6ece58"
             ],
             [
              0.8888888888888888,
              "#b5de2b"
             ],
             [
              1,
              "#fde725"
             ]
            ],
            "type": "contour"
           }
          ],
          "contourcarpet": [
           {
            "colorbar": {
             "outlinewidth": 1,
             "tickcolor": "rgb(36,36,36)",
             "ticks": "outside"
            },
            "type": "contourcarpet"
           }
          ],
          "heatmap": [
           {
            "colorbar": {
             "outlinewidth": 1,
             "tickcolor": "rgb(36,36,36)",
             "ticks": "outside"
            },
            "colorscale": [
             [
              0,
              "#440154"
             ],
             [
              0.1111111111111111,
              "#482878"
             ],
             [
              0.2222222222222222,
              "#3e4989"
             ],
             [
              0.3333333333333333,
              "#31688e"
             ],
             [
              0.4444444444444444,
              "#26828e"
             ],
             [
              0.5555555555555556,
              "#1f9e89"
             ],
             [
              0.6666666666666666,
              "#35b779"
             ],
             [
              0.7777777777777778,
              "#6ece58"
             ],
             [
              0.8888888888888888,
              "#b5de2b"
             ],
             [
              1,
              "#fde725"
             ]
            ],
            "type": "heatmap"
           }
          ],
          "heatmapgl": [
           {
            "colorbar": {
             "outlinewidth": 1,
             "tickcolor": "rgb(36,36,36)",
             "ticks": "outside"
            },
            "colorscale": [
             [
              0,
              "#440154"
             ],
             [
              0.1111111111111111,
              "#482878"
             ],
             [
              0.2222222222222222,
              "#3e4989"
             ],
             [
              0.3333333333333333,
              "#31688e"
             ],
             [
              0.4444444444444444,
              "#26828e"
             ],
             [
              0.5555555555555556,
              "#1f9e89"
             ],
             [
              0.6666666666666666,
              "#35b779"
             ],
             [
              0.7777777777777778,
              "#6ece58"
             ],
             [
              0.8888888888888888,
              "#b5de2b"
             ],
             [
              1,
              "#fde725"
             ]
            ],
            "type": "heatmapgl"
           }
          ],
          "histogram": [
           {
            "marker": {
             "line": {
              "color": "white",
              "width": 0.6
             }
            },
            "type": "histogram"
           }
          ],
          "histogram2d": [
           {
            "colorbar": {
             "outlinewidth": 1,
             "tickcolor": "rgb(36,36,36)",
             "ticks": "outside"
            },
            "colorscale": [
             [
              0,
              "#440154"
             ],
             [
              0.1111111111111111,
              "#482878"
             ],
             [
              0.2222222222222222,
              "#3e4989"
             ],
             [
              0.3333333333333333,
              "#31688e"
             ],
             [
              0.4444444444444444,
              "#26828e"
             ],
             [
              0.5555555555555556,
              "#1f9e89"
             ],
             [
              0.6666666666666666,
              "#35b779"
             ],
             [
              0.7777777777777778,
              "#6ece58"
             ],
             [
              0.8888888888888888,
              "#b5de2b"
             ],
             [
              1,
              "#fde725"
             ]
            ],
            "type": "histogram2d"
           }
          ],
          "histogram2dcontour": [
           {
            "colorbar": {
             "outlinewidth": 1,
             "tickcolor": "rgb(36,36,36)",
             "ticks": "outside"
            },
            "colorscale": [
             [
              0,
              "#440154"
             ],
             [
              0.1111111111111111,
              "#482878"
             ],
             [
              0.2222222222222222,
              "#3e4989"
             ],
             [
              0.3333333333333333,
              "#31688e"
             ],
             [
              0.4444444444444444,
              "#26828e"
             ],
             [
              0.5555555555555556,
              "#1f9e89"
             ],
             [
              0.6666666666666666,
              "#35b779"
             ],
             [
              0.7777777777777778,
              "#6ece58"
             ],
             [
              0.8888888888888888,
              "#b5de2b"
             ],
             [
              1,
              "#fde725"
             ]
            ],
            "type": "histogram2dcontour"
           }
          ],
          "mesh3d": [
           {
            "colorbar": {
             "outlinewidth": 1,
             "tickcolor": "rgb(36,36,36)",
             "ticks": "outside"
            },
            "type": "mesh3d"
           }
          ],
          "parcoords": [
           {
            "line": {
             "colorbar": {
              "outlinewidth": 1,
              "tickcolor": "rgb(36,36,36)",
              "ticks": "outside"
             }
            },
            "type": "parcoords"
           }
          ],
          "pie": [
           {
            "automargin": true,
            "type": "pie"
           }
          ],
          "scatter": [
           {
            "fillpattern": {
             "fillmode": "overlay",
             "size": 10,
             "solidity": 0.2
            },
            "type": "scatter"
           }
          ],
          "scatter3d": [
           {
            "line": {
             "colorbar": {
              "outlinewidth": 1,
              "tickcolor": "rgb(36,36,36)",
              "ticks": "outside"
             }
            },
            "marker": {
             "colorbar": {
              "outlinewidth": 1,
              "tickcolor": "rgb(36,36,36)",
              "ticks": "outside"
             }
            },
            "type": "scatter3d"
           }
          ],
          "scattercarpet": [
           {
            "marker": {
             "colorbar": {
              "outlinewidth": 1,
              "tickcolor": "rgb(36,36,36)",
              "ticks": "outside"
             }
            },
            "type": "scattercarpet"
           }
          ],
          "scattergeo": [
           {
            "marker": {
             "colorbar": {
              "outlinewidth": 1,
              "tickcolor": "rgb(36,36,36)",
              "ticks": "outside"
             }
            },
            "type": "scattergeo"
           }
          ],
          "scattergl": [
           {
            "marker": {
             "colorbar": {
              "outlinewidth": 1,
              "tickcolor": "rgb(36,36,36)",
              "ticks": "outside"
             }
            },
            "type": "scattergl"
           }
          ],
          "scattermapbox": [
           {
            "marker": {
             "colorbar": {
              "outlinewidth": 1,
              "tickcolor": "rgb(36,36,36)",
              "ticks": "outside"
             }
            },
            "type": "scattermapbox"
           }
          ],
          "scatterpolar": [
           {
            "marker": {
             "colorbar": {
              "outlinewidth": 1,
              "tickcolor": "rgb(36,36,36)",
              "ticks": "outside"
             }
            },
            "type": "scatterpolar"
           }
          ],
          "scatterpolargl": [
           {
            "marker": {
             "colorbar": {
              "outlinewidth": 1,
              "tickcolor": "rgb(36,36,36)",
              "ticks": "outside"
             }
            },
            "type": "scatterpolargl"
           }
          ],
          "scatterternary": [
           {
            "marker": {
             "colorbar": {
              "outlinewidth": 1,
              "tickcolor": "rgb(36,36,36)",
              "ticks": "outside"
             }
            },
            "type": "scatterternary"
           }
          ],
          "surface": [
           {
            "colorbar": {
             "outlinewidth": 1,
             "tickcolor": "rgb(36,36,36)",
             "ticks": "outside"
            },
            "colorscale": [
             [
              0,
              "#440154"
             ],
             [
              0.1111111111111111,
              "#482878"
             ],
             [
              0.2222222222222222,
              "#3e4989"
             ],
             [
              0.3333333333333333,
              "#31688e"
             ],
             [
              0.4444444444444444,
              "#26828e"
             ],
             [
              0.5555555555555556,
              "#1f9e89"
             ],
             [
              0.6666666666666666,
              "#35b779"
             ],
             [
              0.7777777777777778,
              "#6ece58"
             ],
             [
              0.8888888888888888,
              "#b5de2b"
             ],
             [
              1,
              "#fde725"
             ]
            ],
            "type": "surface"
           }
          ],
          "table": [
           {
            "cells": {
             "fill": {
              "color": "rgb(237,237,237)"
             },
             "line": {
              "color": "white"
             }
            },
            "header": {
             "fill": {
              "color": "rgb(217,217,217)"
             },
             "line": {
              "color": "white"
             }
            },
            "type": "table"
           }
          ]
         },
         "layout": {
          "annotationdefaults": {
           "arrowhead": 0,
           "arrowwidth": 1
          },
          "autotypenumbers": "strict",
          "coloraxis": {
           "colorbar": {
            "outlinewidth": 1,
            "tickcolor": "rgb(36,36,36)",
            "ticks": "outside"
           }
          },
          "colorscale": {
           "diverging": [
            [
             0,
             "rgb(103,0,31)"
            ],
            [
             0.1,
             "rgb(178,24,43)"
            ],
            [
             0.2,
             "rgb(214,96,77)"
            ],
            [
             0.3,
             "rgb(244,165,130)"
            ],
            [
             0.4,
             "rgb(253,219,199)"
            ],
            [
             0.5,
             "rgb(247,247,247)"
            ],
            [
             0.6,
             "rgb(209,229,240)"
            ],
            [
             0.7,
             "rgb(146,197,222)"
            ],
            [
             0.8,
             "rgb(67,147,195)"
            ],
            [
             0.9,
             "rgb(33,102,172)"
            ],
            [
             1,
             "rgb(5,48,97)"
            ]
           ],
           "sequential": [
            [
             0,
             "#440154"
            ],
            [
             0.1111111111111111,
             "#482878"
            ],
            [
             0.2222222222222222,
             "#3e4989"
            ],
            [
             0.3333333333333333,
             "#31688e"
            ],
            [
             0.4444444444444444,
             "#26828e"
            ],
            [
             0.5555555555555556,
             "#1f9e89"
            ],
            [
             0.6666666666666666,
             "#35b779"
            ],
            [
             0.7777777777777778,
             "#6ece58"
            ],
            [
             0.8888888888888888,
             "#b5de2b"
            ],
            [
             1,
             "#fde725"
            ]
           ],
           "sequentialminus": [
            [
             0,
             "#440154"
            ],
            [
             0.1111111111111111,
             "#482878"
            ],
            [
             0.2222222222222222,
             "#3e4989"
            ],
            [
             0.3333333333333333,
             "#31688e"
            ],
            [
             0.4444444444444444,
             "#26828e"
            ],
            [
             0.5555555555555556,
             "#1f9e89"
            ],
            [
             0.6666666666666666,
             "#35b779"
            ],
            [
             0.7777777777777778,
             "#6ece58"
            ],
            [
             0.8888888888888888,
             "#b5de2b"
            ],
            [
             1,
             "#fde725"
            ]
           ]
          },
          "colorway": [
           "#1F77B4",
           "#FF7F0E",
           "#2CA02C",
           "#D62728",
           "#9467BD",
           "#8C564B",
           "#E377C2",
           "#7F7F7F",
           "#BCBD22",
           "#17BECF"
          ],
          "font": {
           "color": "rgb(36,36,36)"
          },
          "geo": {
           "bgcolor": "white",
           "lakecolor": "white",
           "landcolor": "white",
           "showlakes": true,
           "showland": true,
           "subunitcolor": "white"
          },
          "hoverlabel": {
           "align": "left"
          },
          "hovermode": "closest",
          "mapbox": {
           "style": "light"
          },
          "paper_bgcolor": "white",
          "plot_bgcolor": "white",
          "polar": {
           "angularaxis": {
            "gridcolor": "rgb(232,232,232)",
            "linecolor": "rgb(36,36,36)",
            "showgrid": false,
            "showline": true,
            "ticks": "outside"
           },
           "bgcolor": "white",
           "radialaxis": {
            "gridcolor": "rgb(232,232,232)",
            "linecolor": "rgb(36,36,36)",
            "showgrid": false,
            "showline": true,
            "ticks": "outside"
           }
          },
          "scene": {
           "xaxis": {
            "backgroundcolor": "white",
            "gridcolor": "rgb(232,232,232)",
            "gridwidth": 2,
            "linecolor": "rgb(36,36,36)",
            "showbackground": true,
            "showgrid": false,
            "showline": true,
            "ticks": "outside",
            "zeroline": false,
            "zerolinecolor": "rgb(36,36,36)"
           },
           "yaxis": {
            "backgroundcolor": "white",
            "gridcolor": "rgb(232,232,232)",
            "gridwidth": 2,
            "linecolor": "rgb(36,36,36)",
            "showbackground": true,
            "showgrid": false,
            "showline": true,
            "ticks": "outside",
            "zeroline": false,
            "zerolinecolor": "rgb(36,36,36)"
           },
           "zaxis": {
            "backgroundcolor": "white",
            "gridcolor": "rgb(232,232,232)",
            "gridwidth": 2,
            "linecolor": "rgb(36,36,36)",
            "showbackground": true,
            "showgrid": false,
            "showline": true,
            "ticks": "outside",
            "zeroline": false,
            "zerolinecolor": "rgb(36,36,36)"
           }
          },
          "shapedefaults": {
           "fillcolor": "black",
           "line": {
            "width": 0
           },
           "opacity": 0.3
          },
          "ternary": {
           "aaxis": {
            "gridcolor": "rgb(232,232,232)",
            "linecolor": "rgb(36,36,36)",
            "showgrid": false,
            "showline": true,
            "ticks": "outside"
           },
           "baxis": {
            "gridcolor": "rgb(232,232,232)",
            "linecolor": "rgb(36,36,36)",
            "showgrid": false,
            "showline": true,
            "ticks": "outside"
           },
           "bgcolor": "white",
           "caxis": {
            "gridcolor": "rgb(232,232,232)",
            "linecolor": "rgb(36,36,36)",
            "showgrid": false,
            "showline": true,
            "ticks": "outside"
           }
          },
          "title": {
           "x": 0.05
          },
          "xaxis": {
           "automargin": true,
           "gridcolor": "rgb(232,232,232)",
           "linecolor": "rgb(36,36,36)",
           "showgrid": false,
           "showline": true,
           "ticks": "outside",
           "title": {
            "standoff": 15
           },
           "zeroline": false,
           "zerolinecolor": "rgb(36,36,36)"
          },
          "yaxis": {
           "automargin": true,
           "gridcolor": "rgb(232,232,232)",
           "linecolor": "rgb(36,36,36)",
           "showgrid": false,
           "showline": true,
           "ticks": "outside",
           "title": {
            "standoff": 15
           },
           "zeroline": false,
           "zerolinecolor": "rgb(36,36,36)"
          }
         }
        },
        "width": 800,
        "xaxis": {
         "anchor": "y",
         "domain": [
          0,
          0.45
         ],
         "showgrid": true,
         "title": {
          "text": "Pile Head Displacement (mm)"
         }
        },
        "xaxis2": {
         "anchor": "y2",
         "domain": [
          0.55,
          1
         ],
         "title": {
          "text": "Pile Head Rotation (rad)"
         }
        },
        "xaxis3": {
         "anchor": "y3",
         "domain": [
          0,
          0.45
         ],
         "title": {
          "text": "Pile Head Rotation (rad)"
         }
        },
        "xaxis4": {
         "anchor": "y4",
         "domain": [
          0.55,
          1
         ],
         "title": {
          "text": "Pile Head Displacement (mm)"
         }
        },
        "yaxis": {
         "anchor": "x",
         "domain": [
          0.575,
          1
         ],
         "showgrid": true,
         "title": {
          "text": "Applied Lateral Force(H=H0, M=0) at Pile Head(kN)"
         }
        },
        "yaxis2": {
         "anchor": "x2",
         "domain": [
          0.575,
          1
         ]
        },
        "yaxis3": {
         "anchor": "x3",
         "domain": [
          0,
          0.425
         ],
         "title": {
          "text": "Applied Lateral Force at Pile Head(kN)"
         }
        },
        "yaxis4": {
         "anchor": "x4",
         "domain": [
          0,
          0.425
         ]
        }
       }
      }
     },
     "metadata": {},
     "output_type": "display_data"
    }
   ],
   "source": [
    "fig = plot_load_disp(df_load_disp_static,'Static','circle')\n",
    "plot_load_disp(df_load_disp_cyclic,'cyclic','circle-open',fig=fig)"
   ]
  },
  {
   "cell_type": "markdown",
   "metadata": {},
   "source": [
    "# Estimate Stiffness matrices using ALP\n",
    "\n",
    "$$\n",
    "\\begin{equation}\n",
    "\\begin{bmatrix} H\\\\ M\\\\ \\end{bmatrix} = \\overbrace{\\begin{bmatrix} K_L & K_{LR} \\\\ k_{LR} & K_R \\end{bmatrix}}^{\\text{Stiffness Matrix}} \\begin{bmatrix} \\rho\\\\ \\theta \\end{bmatrix}\n",
    "\\Rightarrow\n",
    "\\begin{bmatrix} \\rho\\\\ \\theta\\\\ \\end{bmatrix} = \\begin{bmatrix} K_L & K_{LR} \\\\ k_{LR} & K_R \\end{bmatrix}^{-1} \\begin{bmatrix} H \\\\ M \\end{bmatrix}\n",
    "\\Rightarrow\n",
    "\\begin{bmatrix} \\rho\\\\ \\theta\\\\ \\end{bmatrix} = \\begin{bmatrix} I_L & I_{LR} \\\\ I_{LR} & I_R \\end{bmatrix} \\begin{bmatrix} H \\\\ M \\end{bmatrix}\n",
    "\\end{equation}\n",
    "$$\n",
    "\n",
    "To obtain this stiffness matrix, it is easier to run the analysis in two runs:\n",
    "\n",
    "    H = H0 and M=0\n",
    "\n",
    "    H = 0 and M=M0\n",
    "\n",
    "$$\n",
    "\\begin{equation}\n",
    "\\begin{bmatrix} \\rho_0\\\\ \\theta_0\\\\ \\end{bmatrix} = \\begin{bmatrix} I_L & I_{LR} \\\\ I_{LR} & I_R \\end{bmatrix} \\begin{bmatrix} H \\\\ 0 \\end{bmatrix} \\Rightarrow\n",
    "\\begin{bmatrix}\n",
    "\\rho_0 = H_0 \\cdot I_L \\\\ \\theta_0 = H_0 \\cdot I_{LR} \\end{bmatrix} \\Rightarrow\n",
    "\\begin{bmatrix} I_L = \\frac{\\rho_0}{H_0} \\\\ I_{LR} = \\frac{\\theta_0}{H_0} \\end{bmatrix} \n",
    "\\end{equation}\n",
    "$$\n",
    "\n",
    "\n",
    "$$\n",
    "\\begin{equation}\n",
    "\\begin{bmatrix} \\rho_1\\\\ \\theta_1\\\\ \\end{bmatrix} = \\begin{bmatrix} I_L & I_{LR} \\\\ I_{LR} & I_R \\end{bmatrix} \\begin{bmatrix} 0 \\\\ M_0 \\end{bmatrix} \\Rightarrow\n",
    "\\begin{bmatrix}\n",
    "\\rho_1 = M_0 \\cdot I_{LR} \\\\ \\theta_1 = M_0 \\cdot I_{R} \\end{bmatrix} \\Rightarrow\n",
    "\\begin{bmatrix} I_{LR} = \\frac{\\rho_1}{M_0} \\\\ I_{R} = \\frac{\\theta_1}{M_0} \\end{bmatrix} \n",
    "\\end{equation}\n",
    "$$\n",
    "\n",
    "\n"
   ]
  },
  {
   "cell_type": "code",
   "execution_count": 66,
   "metadata": {},
   "outputs": [],
   "source": [
    "from scipy.interpolate import interp1d\n",
    "\n",
    "H0 = 300\n",
    "M0 = 300\n",
    "\n",
    "f_u0 = interp1d(df_load_disp_curve.H0,df_load_disp_curve.u0)\n",
    "f_u1 = interp1d(df_load_disp_curve.M0,df_load_disp_curve.u1)\n",
    "f_theta0 = interp1d(df_load_disp_curve.H0,df_load_disp_curve.theta0)\n",
    "f_theta1 = interp1d(df_load_disp_curve.M0,df_load_disp_curve.theta1)\n",
    "\n",
    "u0 = f_u0(H0)\n",
    "u1 = f_u1(M0)\n",
    "rho0 = f_rho0(H0)\n",
    "rho1 = f_rho1(M0)\n",
    "\n",
    "I_matrix = np.array([[u0/H0,rho0/H0],[u1/M0,rho1/M0]])"
   ]
  }
 ],
 "metadata": {
  "kernelspec": {
   "display_name": "UnitCPT",
   "language": "python",
   "name": "python3"
  },
  "language_info": {
   "codemirror_mode": {
    "name": "ipython",
    "version": 3
   },
   "file_extension": ".py",
   "mimetype": "text/x-python",
   "name": "python",
   "nbconvert_exporter": "python",
   "pygments_lexer": "ipython3",
   "version": "3.9.16"
  }
 },
 "nbformat": 4,
 "nbformat_minor": 2
}
