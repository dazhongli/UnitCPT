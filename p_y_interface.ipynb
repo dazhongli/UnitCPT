{
 "cells": [
  {
   "cell_type": "markdown",
   "metadata": {},
   "source": [
    "## p-y for sand"
   ]
  },
  {
   "cell_type": "markdown",
   "metadata": {},
   "source": [
    "# Notes\n",
    "\n",
    "Need to run the code below again to reinstall the package\n",
    "\n",
    "```shell\n",
    "pip install -e . \n",
    "```\n",
    "\n",
    "The code has been moved to the source folder for house keeping"
   ]
  },
  {
   "cell_type": "code",
   "execution_count": 18,
   "metadata": {},
   "outputs": [],
   "source": [
    "from src.cpt import CPT\n",
    "from pathlib import Path\n",
    "import os\n",
    "import plotly.io as pio\n",
    "import numpy as np\n",
    "import pandas as pd\n",
    "from numpy import degrees, log10, pi, radians, tan, sin, cos\n",
    "from src.p_y_sand import *\n",
    "from src.p_y_clay import *\n",
    "from src.pile import PipePile\n",
    "import unittest\n",
    "from src.p_y_unittests import *"
   ]
  },
  {
   "cell_type": "markdown",
   "metadata": {},
   "source": [
    "### Import data from CPT file\n",
    "#### - Data format - \n",
    "\n",
    "`key` is the identifier in the txt file, for locating the data, it shoudl be a unit identifier just above the data\n",
    "`patter` - an regular experss to specify the pattern of the data, you can see the example below\n",
    "\n",
    "After reading the data, need to change the column name, so that all calculation can know the location of the data\n",
    "\n",
    "#### - Rename Columns - \n",
    "```python\n",
    "cpt_data.update_data_column_name(['Reading','SCPT_DPTH','SCPT_RES','SCPT_FRES','SCPT_PWP2','slopex','slopey'])\n",
    "```\n",
    "\n",
    "- `SCPT_DPTH` - depth below seabed\n",
    "- `SCPT_RES` - raw `qc` value\n",
    "- `SCPT_FRES` - shaft resistance $f_s$\n",
    "- `SCPT_RES` - tip resistance $q_c$\n",
    "\n",
    "#### - Specify Unit - \n",
    "\n",
    "Need to update the unit, differnet contactor may output data in different unit, this is one by \n",
    "\n",
    "```python\n",
    "cpt_data.set_data_unit(['MPa','MPa','MPa'])\n",
    "```\n",
    "\n",
    "unit is assigned in a sequence [$q_c$, $f_s$,$u_2$]\n",
    "\n",
    "#### - init_CPT - \n",
    "\n",
    "This is calculate $\\gamma_{soil}$ and calculate the overburnden stress $\\sigma_v$ \n"
   ]
  },
  {
   "cell_type": "code",
   "execution_count": 19,
   "metadata": {},
   "outputs": [
    {
     "name": "stderr",
     "output_type": "stream",
     "text": [
      "23-10-27 16:00:08 -C:\\Users\\dazhong.li\\OneDrive - Arup\\01 - Project\\UnitCPT\\UnitCPT\\src\\cpt.py:327 DEBUG - Data unit is set to ['MPa', 'MPa', 'MPa']\n",
      "C:\\Users\\dazhong.li\\OneDrive - Arup\\01 - Project\\UnitCPT\\UnitCPT\\src\\cpt.py:591: RuntimeWarning: invalid value encountered in log10\n",
      "  Ic = ((3.47-np.log10(Qtn))**2+(np.log10(Fr)+1.22)**2)**0.5\n",
      "C:\\Users\\dazhong.li\\OneDrive - Arup\\01 - Project\\UnitCPT\\UnitCPT\\src\\cpt.py:591: RuntimeWarning: invalid value encountered in log10\n",
      "  Ic = ((3.47-np.log10(Qtn))**2+(np.log10(Fr)+1.22)**2)**0.5\n",
      "23-10-27 16:00:09 -C:\\Users\\dazhong.li\\OneDrive - Arup\\01 - Project\\UnitCPT\\UnitCPT\\src\\cpt.py:155 DEBUG - qt calculated using net area ratio of 0.85\n"
     ]
    }
   ],
   "source": [
    "filename ='CPT4.A00'\n",
    "fileloc = Path(r'G:\\Name Folders\\Current Staff\\CC213\\10 IiA funding\\Unified CPT Methods\\01 Data\\CPT Data\\18 0091 05 R002 CPT ASCII')\n",
    "\n",
    "cpt_data = CPT()\n",
    "cpt_data.read_ASCII(fileloc / filename,key='Data--',pattern= r'(.{7})(.{10})(.{11})(.{11})(.{11})(.{11})(.{11})')\n",
    "cpt_data.update_data_column_name(['Reading','SCPT_DPTH','SCPT_RES','SCPT_FRES','SCPT_PWP2','slopex','slopey'])\n",
    "cpt_data.set_data_unit(['MPa','MPa','MPa'])\n",
    "cpt_data.init_CPT()"
   ]
  },
  {
   "cell_type": "markdown",
   "metadata": {},
   "source": [
    "### Input external parameters"
   ]
  },
  {
   "cell_type": "code",
   "execution_count": 20,
   "metadata": {},
   "outputs": [],
   "source": [
    "Diameter = 2.0\n",
    "Loading = 'Cyclic' # 'Monotonic' or 'Cyclic'\n",
    "nkt = 12\n",
    "N1 = 12\n",
    "N2 = 3.22\n",
    "interval = 1 #depth interval for sampling the raw CPT data\n",
    "y_interval = 15 #identify the y[i] of p-y curve for sand\n",
    "Isotropy = 'true'\n",
    "I_p = 35\n",
    "Clay_type = 'Gulf of Mexico' #identify clay type for cyclic p-y curves: 'Gulf of Mexico', 'North Sea soft clay', 'North Sea stiff clay'"
   ]
  },
  {
   "cell_type": "markdown",
   "metadata": {},
   "source": [
    "### Resample cpt_data"
   ]
  },
  {
   "cell_type": "code",
   "execution_count": 21,
   "metadata": {},
   "outputs": [],
   "source": [
    "# %%timeit\n",
    "resampled_cpt_data = interpolate_cpt_data(cpt_data.df, interval)"
   ]
  },
  {
   "cell_type": "code",
   "execution_count": 5,
   "metadata": {
    "scrolled": true
   },
   "outputs": [
    {
     "data": {
      "text/plain": [
       "0      0\n",
       "1      1\n",
       "2      2\n",
       "3      3\n",
       "4      4\n",
       "      ..\n",
       "70    70\n",
       "71    71\n",
       "72    72\n",
       "73    73\n",
       "74    74\n",
       "Name: SCPT_DPTH, Length: 75, dtype: int32"
      ]
     },
     "execution_count": 5,
     "metadata": {},
     "output_type": "execute_result"
    }
   ],
   "source": [
    "resampled_cpt_data['SCPT_DPTH']"
   ]
  },
  {
   "cell_type": "markdown",
   "metadata": {},
   "source": [
    "### Determine soil type based on Ic\n",
    "Ic<2.6 for sand, >2.6 for clay"
   ]
  },
  {
   "cell_type": "code",
   "execution_count": 23,
   "metadata": {},
   "outputs": [],
   "source": [
    "resampled_cpt_data ['soil_type'] = resampled_cpt_data.apply(lambda row:determine_soil_type(ic = row['Ic']), axis = 1)"
   ]
  },
  {
   "cell_type": "markdown",
   "metadata": {},
   "source": [
    "### Calculate p-y parameters for sand"
   ]
  },
  {
   "cell_type": "code",
   "execution_count": 24,
   "metadata": {},
   "outputs": [],
   "source": [
    "resampled_cpt_data ['phi_e'] = resampled_cpt_data.apply(lambda row:calc_phi_e(qt = row['qt'], sigma_v = row['sigma_v'], sigma_v_e = row['sigma_v_e']) if row['soil_type'] == 'sand' else None, axis = 1)\n",
    "resampled_cpt_data ['C1'] = resampled_cpt_data.apply(lambda row:calc_C1(phi_e = row['phi_e']) if row['soil_type'] == 'sand' else None, axis = 1)\n",
    "resampled_cpt_data ['C2'] = resampled_cpt_data.apply(lambda row:calc_C2(phi_e = row['phi_e']) if row['soil_type'] == 'sand' else None, axis = 1)\n",
    "resampled_cpt_data ['C3'] = resampled_cpt_data.apply(lambda row:calc_C3(phi_e = row['phi_e']) if row['soil_type'] == 'sand' else None, axis = 1)\n",
    "resampled_cpt_data ['k'] = resampled_cpt_data.apply(lambda row:calc_k(phi_e = row['phi_e']) if row['soil_type'] == 'sand' else None, axis = 1)\n",
    "resampled_cpt_data ['pr'] = resampled_cpt_data.apply(lambda row:calc_pr(D = Diameter, gamma = row['gamma'], \n",
    "                                                                        z = row['SCPT_DPTH'], \n",
    "                                                                        C1 = row['C1'],\n",
    "                                                                        C2 = row['C2'],\n",
    "                                                                        C3 = row['C3']) if row['soil_type'] == 'sand' else None, axis = 1)\n",
    "resampled_cpt_data ['A'] = resampled_cpt_data.apply(lambda row:calc_A(D = Diameter, \n",
    "                                                                      z = row['SCPT_DPTH'],\n",
    "                                                                      loading = Loading) if row['soil_type'] == 'sand' else None, axis = 1)"
   ]
  },
  {
   "cell_type": "markdown",
   "metadata": {},
   "source": [
    "### Calculate undrained shear strength (su) for clay"
   ]
  },
  {
   "cell_type": "code",
   "execution_count": 8,
   "metadata": {},
   "outputs": [],
   "source": [
    "resampled_cpt_data ['su'] = resampled_cpt_data.apply(lambda row:calc_su(qt = row['qt'], sigma_v = row['sigma_v'], nkt = nkt) if row['soil_type'] == 'clay' else None, axis = 1)"
   ]
  },
  {
   "cell_type": "markdown",
   "metadata": {},
   "source": [
    "### Identify initial undrained shear strength (su0) for each clay layer"
   ]
  },
  {
   "cell_type": "code",
   "execution_count": 9,
   "metadata": {},
   "outputs": [],
   "source": [
    "identify_soil_layers(resampled_cpt_data)"
   ]
  },
  {
   "cell_type": "markdown",
   "metadata": {},
   "source": [
    "### Calculate p-y parameters for clay"
   ]
  },
  {
   "cell_type": "code",
   "execution_count": 10,
   "metadata": {},
   "outputs": [],
   "source": [
    "resampled_cpt_data ['su1'] = resampled_cpt_data.apply(lambda row:calc_su1(su = row['su'], su0 = row['su0'], z= row['SCPT_DPTH']) if row['soil_type'] == 'clay' else None, axis = 1)\n",
    "resampled_cpt_data ['alpha'] = resampled_cpt_data.apply(lambda row:calc_alpha(su = row['su'], sigma_v_e = row['sigma_v_e']) if row['soil_type'] == 'clay' else None, axis = 1)\n",
    "resampled_cpt_data ['N_pd'] = resampled_cpt_data.apply(lambda row:calc_N_pd(alpha = row['alpha']) if row['soil_type'] == 'clay' else None, axis = 1)\n",
    "resampled_cpt_data ['d'] = resampled_cpt_data.apply(lambda row:calc_d(su0 = row['su0'], su1 = row['su1'], D = Diameter) if row['soil_type'] == 'clay' else None, axis = 1)\n",
    "resampled_cpt_data ['N_p0'] = resampled_cpt_data.apply(lambda row:calc_N_p0(N_1 = N1, N_2 = N2, alpha = row['alpha'], d = row['d'], D = Diameter, N_pd = row['N_pd'], z = row['SCPT_DPTH']) if row['soil_type'] == 'clay' else None, axis = 1)\n",
    "resampled_cpt_data ['N_P'] = resampled_cpt_data.apply(lambda row:calc_N_P(N_pd = row['N_pd'], N_p0 = row['N_p0'], gamma = row['gamma'], z = row['SCPT_DPTH'], su = row['su'], isotropy = Isotropy) if row['soil_type'] == 'clay' else None, axis = 1)\n",
    "resampled_cpt_data ['pu'] = resampled_cpt_data.apply(lambda row:calc_pu(su = row['su'], D = Diameter, N_P = row['N_P']) if row['soil_type'] == 'clay' else None, axis = 1)\n",
    "resampled_cpt_data ['OCR'] = resampled_cpt_data.apply(lambda row:calc_OCR(Qt1 = row['Qt1']) if row['soil_type'] == 'clay' else None, axis = 1)"
   ]
  },
  {
   "cell_type": "markdown",
   "metadata": {},
   "source": [
    "### Generate p-y curves"
   ]
  },
  {
   "cell_type": "code",
   "execution_count": 11,
   "metadata": {},
   "outputs": [],
   "source": [
    "for i in range(12):\n",
    "    resampled_cpt_data [f'y{i}'] = resampled_cpt_data.apply(lambda row:calc_y_mo(I_p = I_p, OCR = row['OCR'], D= Diameter, id_p = i) if row['soil_type'] == 'clay' else calc_y(y_interval = y_interval, i = i), axis = 1)\n",
    "    resampled_cpt_data [f'p{i}'] = resampled_cpt_data.apply(lambda row:calc_p_mo(pu = row['pu'], id_p = i) if row['soil_type'] == 'clay' else calc_p(y = row[f'y{i}'], A = row['A'], pr = row['pr'], z = row['SCPT_DPTH'], k = row['k']), axis = 1)"
   ]
  },
  {
   "cell_type": "markdown",
   "metadata": {},
   "source": [
    "### Identify cyclic p-y curves for clay"
   ]
  },
  {
   "cell_type": "code",
   "execution_count": 12,
   "metadata": {},
   "outputs": [],
   "source": [
    "if Loading == 'Cyclic':\n",
    "   for i in range(12):\n",
    "     resampled_cpt_data [f'h_f{i}'] = resampled_cpt_data.apply(lambda row:calc_h_f(p_mo = row[f'p{i}'], p_u = row['pu'], z= row['SCPT_DPTH'], D = Diameter) if row['soil_type'] == 'clay' else None, axis = 1)\n",
    "     resampled_cpt_data [f'N_eq{i}'] = resampled_cpt_data.apply(lambda row:calc_N_eq(h_f = row[f'h_f{i}'], clay_type = Clay_type) if row['soil_type'] == 'clay' else None, axis = 1)\n",
    "     resampled_cpt_data [f'p_cy{i}'] = resampled_cpt_data.apply(lambda row:calc_p_y_mod(N_eq = row[f'N_eq{i}'], clay_type = Clay_type)[0] * row[f'p{i}'] if row['soil_type'] == 'clay' else None, axis = 1)\n",
    "     resampled_cpt_data [f'y_cy{i}'] = resampled_cpt_data.apply(lambda row:calc_p_y_mod(N_eq = row[f'N_eq{i}'], clay_type = Clay_type)[1] * row[f'y{i}'] if row['soil_type'] == 'clay' else None, axis = 1) "
   ]
  },
  {
   "cell_type": "markdown",
   "metadata": {},
   "source": [
    "### Export results and plot figures"
   ]
  },
  {
   "cell_type": "code",
   "execution_count": 13,
   "metadata": {},
   "outputs": [
    {
     "name": "stdout",
     "output_type": "stream",
     "text": [
      "cpt_data_resampled.xlsx has been exported successfully.\n"
     ]
    },
    {
     "data": {
      "image/png": "[encoded data removed]",
      "text/plain": [
       "<Figure size 432x288 with 1 Axes>"
      ]
     },
     "metadata": {},
     "output_type": "display_data"
    },
    {
     "data": {
      "image/png": "[encoded data removed]",
      "text/plain": [
       "<Figure size 432x288 with 1 Axes>"
      ]
     },
     "execution_count": 13,
     "metadata": {},
     "output_type": "execute_result"
    }
   ],
   "source": [
    "export_p_y_sand(resampled_cpt_data, \"cpt_data_resampled.xlsx\")\n",
    "plot_p_y_curve(resampled_cpt_data, 8)"
   ]
  },
  {
   "cell_type": "code",
   "execution_count": 14,
   "metadata": {},
   "outputs": [
    {
     "data": {
      "image/png": "[encoded data removed]",
      "text/plain": [
       "<Figure size 432x288 with 1 Axes>"
      ]
     },
     "metadata": {},
     "output_type": "display_data"
    },
    {
     "data": {
      "image/png": "[encoded data removed]",
      "text/plain": [
       "<Figure size 432x288 with 1 Axes>"
      ]
     },
     "execution_count": 14,
     "metadata": {},
     "output_type": "execute_result"
    }
   ],
   "source": [
    "plot_p_y_cyclic(resampled_cpt_data, 8)"
   ]
  },
  {
   "cell_type": "markdown",
   "metadata": {},
   "source": [
    "### Unittests"
   ]
  },
  {
   "cell_type": "code",
   "execution_count": 15,
   "metadata": {},
   "outputs": [
    {
     "name": "stderr",
     "output_type": "stream",
     "text": [
      "...\n",
      "----------------------------------------------------------------------\n",
      "Ran 3 tests in 0.005s\n",
      "\n",
      "OK\n"
     ]
    },
    {
     "data": {
      "text/plain": [
       "<unittest.runner.TextTestResult run=3 errors=0 failures=0>"
      ]
     },
     "execution_count": 15,
     "metadata": {},
     "output_type": "execute_result"
    }
   ],
   "source": [
    "# Create a TestSuite object\n",
    "suite = unittest.TestSuite()\n",
    "\n",
    "# Add the test_p_y_sand_monotonic method to the TestSuite\n",
    "suite.addTest(TestUnifiedCPT('test_p_y_sand_monotonic'))\n",
    "suite.addTest(TestUnifiedCPT('test_p_y_sand_cyclic'))\n",
    "suite.addTest(TestUnifiedCPT('test_p_y_clay_monotonic'))\n",
    "\n",
    "# Create a TestRunner object\n",
    "runner = unittest.TextTestRunner()\n",
    "\n",
    "# Run the TestSuite using the TestRunner\n",
    "runner.run(suite)"
   ]
  },
  {
   "cell_type": "code",
   "execution_count": 16,
   "metadata": {},
   "outputs": [
    {
     "name": "stdout",
     "output_type": "stream",
     "text": [
      "   depth soil type  strength  strength_0\n",
      "0    0.0      clay        10          10\n",
      "1    1.5      clay        12          10\n",
      "2    3.0      sand        20          20\n",
      "3    4.5      sand        22          20\n",
      "4    6.0      sand        24          20\n",
      "5    7.5      clay        15          15\n",
      "6    9.0      clay        18          15\n",
      "7   10.0      sand        19          19\n",
      "8   12.0      clay        20          20\n",
      "9   15.0      sand        20          20\n"
     ]
    }
   ],
   "source": [
    "def identify_soil_layers(cpt_data):\n",
    "    # Initialize variables\n",
    "    prev_soil_type = None\n",
    "    layer_counts = []\n",
    "    layer_thicknesses = []\n",
    "    layer_types = []\n",
    "    layer_strengths_0 = []\n",
    "\n",
    "    # Iterate over rows in the DataFrame\n",
    "    for i, row in cpt_data.iterrows():\n",
    "        # Check if this row has a different soil type than the previous row\n",
    "        if row['soil type'] != prev_soil_type:\n",
    "            # If this is not the first layer, record the count, thickness, soil type, and initial strength of the previous layer\n",
    "            if prev_soil_type is not None:\n",
    "                layer_counts.append(layer_count)\n",
    "                layer_thickness = cpt_data.loc[i-1, 'depth'] - cpt_data.loc[i-layer_count, 'depth']\n",
    "                layer_thicknesses.append(layer_thickness)\n",
    "                layer_types.append(prev_soil_type)\n",
    "                layer_strengths_0.append(cpt_data.loc[i-layer_count, 'strength'])\n",
    "            # Reset the layer count and update the previous soil type\n",
    "            layer_count = 1\n",
    "            prev_soil_type = row['soil type']\n",
    "        else:\n",
    "            # Increment the layer count if the soil type is the same as the previous row\n",
    "            layer_count += 1\n",
    "\n",
    "    # Record the count, thickness, soil type, and initial strength of the last layer\n",
    "    layer_counts.append(layer_count)\n",
    "    layer_thickness = cpt_data['depth'].max() - cpt_data.loc[len(cpt_data)-layer_count, 'depth']\n",
    "    layer_thicknesses.append(layer_thickness)\n",
    "    layer_types.append(prev_soil_type)\n",
    "    layer_strengths_0.append(cpt_data.loc[len(cpt_data)-layer_count, 'strength'])\n",
    "\n",
    "    # Add the 'strength_0' column to the DataFrame\n",
    "    cpt_data['strength_0'] = pd.Series([val for val, count in zip(layer_strengths_0, layer_counts) for i in range(count)], index=cpt_data.index)\n",
    "\n",
    "    # Append the 'strength_0' value to each row of the DataFrame\n",
    "    for i, row in cpt_data.iterrows():\n",
    "        row['strength_0'] = layer_strengths_0[layer_types.index(row['soil type'])]\n",
    "\n",
    "    # Print the results\n",
    "    print(cpt_data)\n",
    "\n",
    "# Initialize sample DataFrame\n",
    "cpt_data = pd.DataFrame({\n",
    "    'depth': [0.0, 1.5, 3.0, 4.5, 6.0, 7.5, 9.0, 10.0, 12.0, 15.0],\n",
    "    'soil type': ['clay', 'clay', 'sand', 'sand', 'sand', 'clay', 'clay', 'sand', 'clay', 'sand'],\n",
    "    'strength': [10, 12, 20, 22, 24, 15, 18, 19, 20, 20]\n",
    "})\n",
    "\n",
    "# Call the identify_soil_layers function\n",
    "identify_soil_layers(cpt_data)\n"
   ]
  },
  {
   "cell_type": "markdown",
   "metadata": {},
   "source": []
  },
  {
   "cell_type": "markdown",
   "metadata": {},
   "source": [
    "# Sampling the P-y points\n",
    "\n",
    "** To-Do** \n",
    "\n",
    "[ ]Need to read original paper to workout the points. \n",
    "\n",
    "Appendix `A.8.5.2.1.3` provides more detailed discussion on the rational of determining the p-y points. It will be more elegant to implement the p-y curves for clay in this way\n",
    "\n",
    "The p-y points are based on scaling the DSS stress-strain curves as follows:\n",
    "\n",
    "$$\n",
    "\\begin{equation}\n",
    "\\frac{\\tau}{s_u} = \\frac{\\tanh\\bigg(a \\cdot (\\frac{\\gamma}{\\gamma_f})^{0.5}\\bigg)}{\\tanh{a}}\n",
    "\\end{equation}\n",
    "$$\n",
    "\n",
    "From the test data, the parameters in this equation will be fitted to get $a$ and $\\gamma_f$\n",
    "\n",
    "And the final p-y curve will be in the format of\n",
    "\n",
    "$$\n",
    "\\begin{equation}\n",
    "\\frac{p}{p_u} = \\frac{\\tanh{\\bigg[A\\cdot \\bigg(\\frac{y/D}{y/D_f}\\bigg)^{0.5}\\bigg]}}{\\tanh{A}}\n",
    "\\end{equation}\n",
    "$$\n",
    "\n",
    "where:\n",
    "\n",
    "$ A = 1.33+0.45\\cdot a$, and \n",
    "\n",
    "$(y/D)_f = \\gamma_f (2.5-1.2\\ln(a))$\n",
    "\n",
    "$$\n",
    "\\begin{equation}\n",
    "\\frac{y}{D} = \\bigg[\\tanh^{-1}\\bigg({\\frac{p}{p_u}\\tanh(A)}\\bigg)/A\\bigg]^2 \\cdot (\\frac{y}{D})_f\n",
    "\\end{equation}\n",
    "$$\n",
    "In the code $\\gamma_f$, i.e., the shear strength at the failure is assumed to be 0.15 for all OCR while $a$ varies with OCR as below:\n",
    "\n",
    "|OCR|$\\gamma_f$|$a$|\n",
    "|--|--:|--:|\n",
    "|$\\le 2$|0.15|2.38|\n",
    "|4|0.15|1.5|\n",
    "|10|0.15|1.0|\n",
    "\n",
    "Assuming the hyperbolic function for $a$ fitted from the three points proposed.\n",
    "\n",
    "``` python\n",
    "\n",
    "f_model_a = lambda ocr: 3.457/ocr + 0.647\n",
    "\n",
    "```\n"
   ]
  },
  {
   "cell_type": "code",
   "execution_count": 17,
   "metadata": {},
   "outputs": [],
   "source": [
    "from scipy.interpolate import interp1d\n",
    "def calc_y_mo(Ip, OCR, p_pu):\n",
    "    gamma_f = 0.15 \n",
    "    f_model_a = lambda ocr: 3.457/ocr + 0.647\n",
    "    a = f_model_a(OCR)\n",
    "    A = 1.33+0.45*a\n",
    "    yD_f = gamma_f*(2.5-1.2*np.log(a))\n",
    "    y_D = (1/A*np.arctanh(p_pu*np.tanh(A)))**2 *yD_f\n",
    "    f_multiplier = interp1d(x=[2,4,10],y=[0.33,0.5,0.66],fill_value = (0.33, 0.66),bounds_error=False)\n",
    "    if Ip>30:\n",
    "        y_D_multiplier = f_multiplier([OCR])[0]\n",
    "    else:\n",
    "        y_D_multiplier  = 1.0\n",
    "    return y_D*y_D_multiplier"
   ]
  },
  {
   "cell_type": "code",
   "execution_count": 18,
   "metadata": {},
   "outputs": [
    {
     "data": {
      "application/vnd.plotly.v1+json": {
       "config": {
        "plotlyServerURL": "https://plot.ly"
       },
       "data": [
        {
         "name": "OCR=2",
         "type": "scatter",
         "x": [
          0,
          9.230557664895406e-05,
          0.0015137171979653895,
          0.0035240899577656565,
          0.006589553052791736,
          0.011046349852746107,
          0.017510889928713556,
          0.02721594954827342,
          0.043072748597202705,
          0.0746373561686024,
          0.14249465174729053,
          0.21926257050392875
         ],
         "y": [
          0,
          0.05,
          0.2,
          0.3,
          0.4,
          0.5,
          0.6,
          0.7,
          0.8,
          0.9,
          0.975,
          1
         ]
        },
        {
         "name": "OCR=4",
         "type": "scatter",
         "x": [
          0,
          0.00017342044218622902,
          0.0028412050394582013,
          0.006605547953477622,
          0.01232500194714933,
          0.020594358703513997,
          0.03248636367113621,
          0.05009243142085788,
          0.07814301675098162,
          0.1308379681778009,
          0.22617238408925486,
          0.30067131786956436
         ],
         "y": [
          0,
          0.05,
          0.2,
          0.3,
          0.4,
          0.5,
          0.6,
          0.7,
          0.8,
          0.9,
          0.975,
          1
         ]
        },
        {
         "name": "OCR=10",
         "type": "scatter",
         "x": [
          0,
          0.00026617299256041375,
          0.004356411964090268,
          0.010113661721705776,
          0.018828352108486192,
          0.031355780918862174,
          0.049212653299597675,
          0.07527983373959338,
          0.11579953588628716,
          0.18800649096132624,
          0.30282816828721726,
          0.3763188195695631
         ],
         "y": [
          0,
          0.05,
          0.2,
          0.3,
          0.4,
          0.5,
          0.6,
          0.7,
          0.8,
          0.9,
          0.975,
          1
         ]
        }
       ],
       "layout": {
        "height": 800,
        "images": [
         {
          "sizex": 0.2,
          "sizey": 0.3,
          "source": "https://gitlab.com/dazhong.li/utility/-/blob/master/image/arup_logo.png",
          "x": 0.1,
          "xanchor": "center",
          "xref": "paper",
          "y": 1,
          "yanchor": "bottom",
          "yref": "paper"
         }
        ],
        "margin": {
         "b": 20,
         "l": 20,
         "r": 20,
         "t": 20
        },
        "template": {
         "data": {
          "bar": [
           {
            "error_x": {
             "color": "rgb(36,36,36)"
            },
            "error_y": {
             "color": "rgb(36,36,36)"
            },
            "marker": {
             "line": {
              "color": "white",
              "width": 0.5
             },
             "pattern": {
              "fillmode": "overlay",
              "size": 10,
              "solidity": 0.2
             }
            },
            "type": "bar"
           }
          ],
          "barpolar": [
           {
            "marker": {
             "line": {
              "color": "white",
              "width": 0.5
             },
             "pattern": {
              "fillmode": "overlay",
              "size": 10,
              "solidity": 0.2
             }
            },
            "type": "barpolar"
           }
          ],
          "carpet": [
           {
            "aaxis": {
             "endlinecolor": "rgb(36,36,36)",
             "gridcolor": "white",
             "linecolor": "white",
             "minorgridcolor": "white",
             "startlinecolor": "rgb(36,36,36)"
            },
            "baxis": {
             "endlinecolor": "rgb(36,36,36)",
             "gridcolor": "white",
             "linecolor": "white",
             "minorgridcolor": "white",
             "startlinecolor": "rgb(36,36,36)"
            },
            "type": "carpet"
           }
          ],
          "choropleth": [
           {
            "colorbar": {
             "outlinewidth": 1,
             "tickcolor": "rgb(36,36,36)",
             "ticks": "outside"
            },
            "type": "choropleth"
           }
          ],
          "contour": [
           {
            "colorbar": {
             "outlinewidth": 1,
             "tickcolor": "rgb(36,36,36)",
             "ticks": "outside"
            },
            "colorscale": [
             [
              0,
              "#440154"
             ],
             [
              0.1111111111111111,
              "#482878"
             ],
             [
              0.2222222222222222,
              "#3e4989"
             ],
             [
              0.3333333333333333,
              "#31688e"
             ],
             [
              0.4444444444444444,
              "#26828e"
             ],
             [
              0.5555555555555556,
              "#1f9e89"
             ],
             [
              0.6666666666666666,
              "#35b779"
             ],
             [
              0.7777777777777778,
              "#6ece58"
             ],
             [
              0.8888888888888888,
              "#b5de2b"
             ],
             [
              1,
              "#fde725"
             ]
            ],
            "type": "contour"
           }
          ],
          "contourcarpet": [
           {
            "colorbar": {
             "outlinewidth": 1,
             "tickcolor": "rgb(36,36,36)",
             "ticks": "outside"
            },
            "type": "contourcarpet"
           }
          ],
          "heatmap": [
           {
            "colorbar": {
             "outlinewidth": 1,
             "tickcolor": "rgb(36,36,36)",
             "ticks": "outside"
            },
            "colorscale": [
             [
              0,
              "#440154"
             ],
             [
              0.1111111111111111,
              "#482878"
             ],
             [
              0.2222222222222222,
              "#3e4989"
             ],
             [
              0.3333333333333333,
              "#31688e"
             ],
             [
              0.4444444444444444,
              "#26828e"
             ],
             [
              0.5555555555555556,
              "#1f9e89"
             ],
             [
              0.6666666666666666,
              "#35b779"
             ],
             [
              0.7777777777777778,
              "#6ece58"
             ],
             [
              0.8888888888888888,
              "#b5de2b"
             ],
             [
              1,
              "#fde725"
             ]
            ],
            "type": "heatmap"
           }
          ],
          "heatmapgl": [
           {
            "colorbar": {
             "outlinewidth": 1,
             "tickcolor": "rgb(36,36,36)",
             "ticks": "outside"
            },
            "colorscale": [
             [
              0,
              "#440154"
             ],
             [
              0.1111111111111111,
              "#482878"
             ],
             [
              0.2222222222222222,
              "#3e4989"
             ],
             [
              0.3333333333333333,
              "#31688e"
             ],
             [
              0.4444444444444444,
              "#26828e"
             ],
             [
              0.5555555555555556,
              "#1f9e89"
             ],
             [
              0.6666666666666666,
              "#35b779"
             ],
             [
              0.7777777777777778,
              "#6ece58"
             ],
             [
              0.8888888888888888,
              "#b5de2b"
             ],
             [
              1,
              "#fde725"
             ]
            ],
            "type": "heatmapgl"
           }
          ],
          "histogram": [
           {
            "marker": {
             "line": {
              "color": "white",
              "width": 0.6
             }
            },
            "type": "histogram"
           }
          ],
          "histogram2d": [
           {
            "colorbar": {
             "outlinewidth": 1,
             "tickcolor": "rgb(36,36,36)",
             "ticks": "outside"
            },
            "colorscale": [
             [
              0,
              "#440154"
             ],
             [
              0.1111111111111111,
              "#482878"
             ],
             [
              0.2222222222222222,
              "#3e4989"
             ],
             [
              0.3333333333333333,
              "#31688e"
             ],
             [
              0.4444444444444444,
              "#26828e"
             ],
             [
              0.5555555555555556,
              "#1f9e89"
             ],
             [
              0.6666666666666666,
              "#35b779"
             ],
             [
              0.7777777777777778,
              "#6ece58"
             ],
             [
              0.8888888888888888,
              "#b5de2b"
             ],
             [
              1,
              "#fde725"
             ]
            ],
            "type": "histogram2d"
           }
          ],
          "histogram2dcontour": [
           {
            "colorbar": {
             "outlinewidth": 1,
             "tickcolor": "rgb(36,36,36)",
             "ticks": "outside"
            },
            "colorscale": [
             [
              0,
              "#440154"
             ],
             [
              0.1111111111111111,
              "#482878"
             ],
             [
              0.2222222222222222,
              "#3e4989"
             ],
             [
              0.3333333333333333,
              "#31688e"
             ],
             [
              0.4444444444444444,
              "#26828e"
             ],
             [
              0.5555555555555556,
              "#1f9e89"
             ],
             [
              0.6666666666666666,
              "#35b779"
             ],
             [
              0.7777777777777778,
              "#6ece58"
             ],
             [
              0.8888888888888888,
              "#b5de2b"
             ],
             [
              1,
              "#fde725"
             ]
            ],
            "type": "histogram2dcontour"
           }
          ],
          "mesh3d": [
           {
            "colorbar": {
             "outlinewidth": 1,
             "tickcolor": "rgb(36,36,36)",
             "ticks": "outside"
            },
            "type": "mesh3d"
           }
          ],
          "parcoords": [
           {
            "line": {
             "colorbar": {
              "outlinewidth": 1,
              "tickcolor": "rgb(36,36,36)",
              "ticks": "outside"
             }
            },
            "type": "parcoords"
           }
          ],
          "pie": [
           {
            "automargin": true,
            "type": "pie"
           }
          ],
          "scatter": [
           {
            "fillpattern": {
             "fillmode": "overlay",
             "size": 10,
             "solidity": 0.2
            },
            "type": "scatter"
           }
          ],
          "scatter3d": [
           {
            "line": {
             "colorbar": {
              "outlinewidth": 1,
              "tickcolor": "rgb(36,36,36)",
              "ticks": "outside"
             }
            },
            "marker": {
             "colorbar": {
              "outlinewidth": 1,
              "tickcolor": "rgb(36,36,36)",
              "ticks": "outside"
             }
            },
            "type": "scatter3d"
           }
          ],
          "scattercarpet": [
           {
            "marker": {
             "colorbar": {
              "outlinewidth": 1,
              "tickcolor": "rgb(36,36,36)",
              "ticks": "outside"
             }
            },
            "type": "scattercarpet"
           }
          ],
          "scattergeo": [
           {
            "marker": {
             "colorbar": {
              "outlinewidth": 1,
              "tickcolor": "rgb(36,36,36)",
              "ticks": "outside"
             }
            },
            "type": "scattergeo"
           }
          ],
          "scattergl": [
           {
            "marker": {
             "colorbar": {
              "outlinewidth": 1,
              "tickcolor": "rgb(36,36,36)",
              "ticks": "outside"
             }
            },
            "type": "scattergl"
           }
          ],
          "scattermapbox": [
           {
            "marker": {
             "colorbar": {
              "outlinewidth": 1,
              "tickcolor": "rgb(36,36,36)",
              "ticks": "outside"
             }
            },
            "type": "scattermapbox"
           }
          ],
          "scatterpolar": [
           {
            "marker": {
             "colorbar": {
              "outlinewidth": 1,
              "tickcolor": "rgb(36,36,36)",
              "ticks": "outside"
             }
            },
            "type": "scatterpolar"
           }
          ],
          "scatterpolargl": [
           {
            "marker": {
             "colorbar": {
              "outlinewidth": 1,
              "tickcolor": "rgb(36,36,36)",
              "ticks": "outside"
             }
            },
            "type": "scatterpolargl"
           }
          ],
          "scatterternary": [
           {
            "marker": {
             "colorbar": {
              "outlinewidth": 1,
              "tickcolor": "rgb(36,36,36)",
              "ticks": "outside"
             }
            },
            "type": "scatterternary"
           }
          ],
          "surface": [
           {
            "colorbar": {
             "outlinewidth": 1,
             "tickcolor": "rgb(36,36,36)",
             "ticks": "outside"
            },
            "colorscale": [
             [
              0,
              "#440154"
             ],
             [
              0.1111111111111111,
              "#482878"
             ],
             [
              0.2222222222222222,
              "#3e4989"
             ],
             [
              0.3333333333333333,
              "#31688e"
             ],
             [
              0.4444444444444444,
              "#26828e"
             ],
             [
              0.5555555555555556,
              "#1f9e89"
             ],
             [
              0.6666666666666666,
              "#35b779"
             ],
             [
              0.7777777777777778,
              "#6ece58"
             ],
             [
              0.8888888888888888,
              "#b5de2b"
             ],
             [
              1,
              "#fde725"
             ]
            ],
            "type": "surface"
           }
          ],
          "table": [
           {
            "cells": {
             "fill": {
              "color": "rgb(237,237,237)"
             },
             "line": {
              "color": "white"
             }
            },
            "header": {
             "fill": {
              "color": "rgb(217,217,217)"
             },
             "line": {
              "color": "white"
             }
            },
            "type": "table"
           }
          ]
         },
         "layout": {
          "annotationdefaults": {
           "arrowhead": 0,
           "arrowwidth": 1
          },
          "autotypenumbers": "strict",
          "coloraxis": {
           "colorbar": {
            "outlinewidth": 1,
            "tickcolor": "rgb(36,36,36)",
            "ticks": "outside"
           }
          },
          "colorscale": {
           "diverging": [
            [
             0,
             "rgb(103,0,31)"
            ],
            [
             0.1,
             "rgb(178,24,43)"
            ],
            [
             0.2,
             "rgb(214,96,77)"
            ],
            [
             0.3,
             "rgb(244,165,130)"
            ],
            [
             0.4,
             "rgb(253,219,199)"
            ],
            [
             0.5,
             "rgb(247,247,247)"
            ],
            [
             0.6,
             "rgb(209,229,240)"
            ],
            [
             0.7,
             "rgb(146,197,222)"
            ],
            [
             0.8,
             "rgb(67,147,195)"
            ],
            [
             0.9,
             "rgb(33,102,172)"
            ],
            [
             1,
             "rgb(5,48,97)"
            ]
           ],
           "sequential": [
            [
             0,
             "#440154"
            ],
            [
             0.1111111111111111,
             "#482878"
            ],
            [
             0.2222222222222222,
             "#3e4989"
            ],
            [
             0.3333333333333333,
             "#31688e"
            ],
            [
             0.4444444444444444,
             "#26828e"
            ],
            [
             0.5555555555555556,
             "#1f9e89"
            ],
            [
             0.6666666666666666,
             "#35b779"
            ],
            [
             0.7777777777777778,
             "#6ece58"
            ],
            [
             0.8888888888888888,
             "#b5de2b"
            ],
            [
             1,
             "#fde725"
            ]
           ],
           "sequentialminus": [
            [
             0,
             "#440154"
            ],
            [
             0.1111111111111111,
             "#482878"
            ],
            [
             0.2222222222222222,
             "#3e4989"
            ],
            [
             0.3333333333333333,
             "#31688e"
            ],
            [
             0.4444444444444444,
             "#26828e"
            ],
            [
             0.5555555555555556,
             "#1f9e89"
            ],
            [
             0.6666666666666666,
             "#35b779"
            ],
            [
             0.7777777777777778,
             "#6ece58"
            ],
            [
             0.8888888888888888,
             "#b5de2b"
            ],
            [
             1,
             "#fde725"
            ]
           ]
          },
          "colorway": [
           "#1F77B4",
           "#FF7F0E",
           "#2CA02C",
           "#D62728",
           "#9467BD",
           "#8C564B",
           "#E377C2",
           "#7F7F7F",
           "#BCBD22",
           "#17BECF"
          ],
          "font": {
           "color": "rgb(36,36,36)"
          },
          "geo": {
           "bgcolor": "white",
           "lakecolor": "white",
           "landcolor": "white",
           "showlakes": true,
           "showland": true,
           "subunitcolor": "white"
          },
          "hoverlabel": {
           "align": "left"
          },
          "hovermode": "closest",
          "mapbox": {
           "style": "light"
          },
          "paper_bgcolor": "white",
          "plot_bgcolor": "white",
          "polar": {
           "angularaxis": {
            "gridcolor": "rgb(232,232,232)",
            "linecolor": "rgb(36,36,36)",
            "showgrid": false,
            "showline": true,
            "ticks": "outside"
           },
           "bgcolor": "white",
           "radialaxis": {
            "gridcolor": "rgb(232,232,232)",
            "linecolor": "rgb(36,36,36)",
            "showgrid": false,
            "showline": true,
            "ticks": "outside"
           }
          },
          "scene": {
           "xaxis": {
            "backgroundcolor": "white",
            "gridcolor": "rgb(232,232,232)",
            "gridwidth": 2,
            "linecolor": "rgb(36,36,36)",
            "showbackground": true,
            "showgrid": false,
            "showline": true,
            "ticks": "outside",
            "zeroline": false,
            "zerolinecolor": "rgb(36,36,36)"
           },
           "yaxis": {
            "backgroundcolor": "white",
            "gridcolor": "rgb(232,232,232)",
            "gridwidth": 2,
            "linecolor": "rgb(36,36,36)",
            "showbackground": true,
            "showgrid": false,
            "showline": true,
            "ticks": "outside",
            "zeroline": false,
            "zerolinecolor": "rgb(36,36,36)"
           },
           "zaxis": {
            "backgroundcolor": "white",
            "gridcolor": "rgb(232,232,232)",
            "gridwidth": 2,
            "linecolor": "rgb(36,36,36)",
            "showbackground": true,
            "showgrid": false,
            "showline": true,
            "ticks": "outside",
            "zeroline": false,
            "zerolinecolor": "rgb(36,36,36)"
           }
          },
          "shapedefaults": {
           "fillcolor": "black",
           "line": {
            "width": 0
           },
           "opacity": 0.3
          },
          "ternary": {
           "aaxis": {
            "gridcolor": "rgb(232,232,232)",
            "linecolor": "rgb(36,36,36)",
            "showgrid": false,
            "showline": true,
            "ticks": "outside"
           },
           "baxis": {
            "gridcolor": "rgb(232,232,232)",
            "linecolor": "rgb(36,36,36)",
            "showgrid": false,
            "showline": true,
            "ticks": "outside"
           },
           "bgcolor": "white",
           "caxis": {
            "gridcolor": "rgb(232,232,232)",
            "linecolor": "rgb(36,36,36)",
            "showgrid": false,
            "showline": true,
            "ticks": "outside"
           }
          },
          "title": {
           "x": 0.05
          },
          "xaxis": {
           "automargin": true,
           "gridcolor": "rgb(232,232,232)",
           "linecolor": "rgb(36,36,36)",
           "showgrid": false,
           "showline": true,
           "ticks": "outside",
           "title": {
            "standoff": 15
           },
           "zeroline": false,
           "zerolinecolor": "rgb(36,36,36)"
          },
          "yaxis": {
           "automargin": true,
           "gridcolor": "rgb(232,232,232)",
           "linecolor": "rgb(36,36,36)",
           "showgrid": false,
           "showline": true,
           "ticks": "outside",
           "title": {
            "standoff": 15
           },
           "zeroline": false,
           "zerolinecolor": "rgb(36,36,36)"
          }
         }
        },
        "width": 566,
        "xaxis": {
         "anchor": "y",
         "domain": [
          0,
          1
         ],
         "showgrid": true
        },
        "yaxis": {
         "anchor": "x",
         "domain": [
          0,
          1
         ],
         "showgrid": true
        }
       }
      }
     },
     "metadata": {},
     "output_type": "display_data"
    }
   ],
   "source": [
    "import src\n",
    "import plotly.graph_objects as go\n",
    "p=np.array([0.000, 0.050, 0.200, 0.300, 0.400, 0.500, 0.600, 0.700, 0.800, 0.900, 0.975, 1.000])\n",
    "fig = src.geoplot.GEOPlot.get_figure()\n",
    "fig.add_trace(go.Scatter(y=p, x=calc_y_mo(Ip=29,OCR=2,p_pu=p),name='OCR=2'))\n",
    "fig.add_trace(go.Scatter(y=p, x=calc_y_mo(Ip=29,OCR=4,p_pu=p),name='OCR=4'))\n",
    "fig.add_trace(go.Scatter(y=p, x=calc_y_mo(Ip=29,OCR=10,p_pu=p),name='OCR=10'))"
   ]
  },
  {
   "cell_type": "code",
   "execution_count": 19,
   "metadata": {},
   "outputs": [],
   "source": [
    "df = pd.DataFrame()\n",
    "df['pmo_pu'] =p\n",
    "df['OCR=2 & Ip>30'] = calc_y_mo(35,2,p)\n",
    "df['OCR=4 & Ip>30'] = calc_y_mo(35,4,p)\n",
    "df['OCR=8 & Ip>30'] = calc_y_mo(35,8,p)"
   ]
  },
  {
   "cell_type": "code",
   "execution_count": 20,
   "metadata": {},
   "outputs": [
    {
     "data": {
      "text/html": [
       "<div>\n",
       "<style scoped>\n",
       "    .dataframe tbody tr th:only-of-type {\n",
       "        vertical-align: middle;\n",
       "    }\n",
       "\n",
       "    .dataframe tbody tr th {\n",
       "        vertical-align: top;\n",
       "    }\n",
       "\n",
       "    .dataframe thead th {\n",
       "        text-align: right;\n",
       "    }\n",
       "</style>\n",
       "<table border=\"1\" class=\"dataframe\">\n",
       "  <thead>\n",
       "    <tr style=\"text-align: right;\">\n",
       "      <th></th>\n",
       "      <th>pmo_pu</th>\n",
       "      <th>OCR=2 &amp; Ip&gt;30</th>\n",
       "      <th>OCR=4 &amp; Ip&gt;30</th>\n",
       "      <th>OCR=8 &amp; Ip&gt;30</th>\n",
       "    </tr>\n",
       "  </thead>\n",
       "  <tbody>\n",
       "    <tr>\n",
       "      <th>0</th>\n",
       "      <td>0.000</td>\n",
       "      <td>0.000000</td>\n",
       "      <td>0.000000</td>\n",
       "      <td>0.000000</td>\n",
       "    </tr>\n",
       "    <tr>\n",
       "      <th>1</th>\n",
       "      <td>0.050</td>\n",
       "      <td>0.000030</td>\n",
       "      <td>0.000087</td>\n",
       "      <td>0.000150</td>\n",
       "    </tr>\n",
       "    <tr>\n",
       "      <th>2</th>\n",
       "      <td>0.200</td>\n",
       "      <td>0.000500</td>\n",
       "      <td>0.001421</td>\n",
       "      <td>0.002451</td>\n",
       "    </tr>\n",
       "    <tr>\n",
       "      <th>3</th>\n",
       "      <td>0.300</td>\n",
       "      <td>0.001163</td>\n",
       "      <td>0.003303</td>\n",
       "      <td>0.005692</td>\n",
       "    </tr>\n",
       "    <tr>\n",
       "      <th>4</th>\n",
       "      <td>0.400</td>\n",
       "      <td>0.002175</td>\n",
       "      <td>0.006163</td>\n",
       "      <td>0.010602</td>\n",
       "    </tr>\n",
       "    <tr>\n",
       "      <th>5</th>\n",
       "      <td>0.500</td>\n",
       "      <td>0.003645</td>\n",
       "      <td>0.010297</td>\n",
       "      <td>0.017668</td>\n",
       "    </tr>\n",
       "    <tr>\n",
       "      <th>6</th>\n",
       "      <td>0.600</td>\n",
       "      <td>0.005779</td>\n",
       "      <td>0.016243</td>\n",
       "      <td>0.027757</td>\n",
       "    </tr>\n",
       "    <tr>\n",
       "      <th>7</th>\n",
       "      <td>0.700</td>\n",
       "      <td>0.008981</td>\n",
       "      <td>0.025046</td>\n",
       "      <td>0.042525</td>\n",
       "    </tr>\n",
       "    <tr>\n",
       "      <th>8</th>\n",
       "      <td>0.800</td>\n",
       "      <td>0.014214</td>\n",
       "      <td>0.039072</td>\n",
       "      <td>0.065589</td>\n",
       "    </tr>\n",
       "    <tr>\n",
       "      <th>9</th>\n",
       "      <td>0.900</td>\n",
       "      <td>0.024630</td>\n",
       "      <td>0.065419</td>\n",
       "      <td>0.107095</td>\n",
       "    </tr>\n",
       "    <tr>\n",
       "      <th>10</th>\n",
       "      <td>0.975</td>\n",
       "      <td>0.047023</td>\n",
       "      <td>0.113086</td>\n",
       "      <td>0.174596</td>\n",
       "    </tr>\n",
       "    <tr>\n",
       "      <th>11</th>\n",
       "      <td>1.000</td>\n",
       "      <td>0.072357</td>\n",
       "      <td>0.150336</td>\n",
       "      <td>0.219184</td>\n",
       "    </tr>\n",
       "  </tbody>\n",
       "</table>\n",
       "</div>"
      ],
      "text/plain": [
       "    pmo_pu  OCR=2 & Ip>30  OCR=4 & Ip>30  OCR=8 & Ip>30\n",
       "0    0.000       0.000000       0.000000       0.000000\n",
       "1    0.050       0.000030       0.000087       0.000150\n",
       "2    0.200       0.000500       0.001421       0.002451\n",
       "3    0.300       0.001163       0.003303       0.005692\n",
       "4    0.400       0.002175       0.006163       0.010602\n",
       "5    0.500       0.003645       0.010297       0.017668\n",
       "6    0.600       0.005779       0.016243       0.027757\n",
       "7    0.700       0.008981       0.025046       0.042525\n",
       "8    0.800       0.014214       0.039072       0.065589\n",
       "9    0.900       0.024630       0.065419       0.107095\n",
       "10   0.975       0.047023       0.113086       0.174596\n",
       "11   1.000       0.072357       0.150336       0.219184"
      ]
     },
     "execution_count": 20,
     "metadata": {},
     "output_type": "execute_result"
    }
   ],
   "source": [
    "df"
   ]
  },
  {
   "cell_type": "code",
   "execution_count": 21,
   "metadata": {},
   "outputs": [],
   "source": [
    "import plotly.express as px\n",
    "import plotly.graph_objects as go"
   ]
  },
  {
   "cell_type": "code",
   "execution_count": 22,
   "metadata": {},
   "outputs": [
    {
     "name": "stdout",
     "output_type": "stream",
     "text": [
      "[3.45714286 0.64714286]\n"
     ]
    }
   ],
   "source": [
    "import numpy as np\n",
    "from scipy.optimize import curve_fit\n",
    "def tanh_function(x, a, b):\n",
    "    return a * 1/x + b\n",
    "\n",
    "# Three example points\n",
    "y_data = np.array([2.38,1.5,1.0])\n",
    "x_data = np.array([2,4,10])\n",
    "\n",
    "# Perform the curve fit\n",
    "popt, _ = curve_fit(tanh_function, x_data, y_data)\n",
    "print(popt)\n",
    "model_a = lambda ocr: 3.457/ocr + 0.647"
   ]
  },
  {
   "cell_type": "code",
   "execution_count": 23,
   "metadata": {},
   "outputs": [],
   "source": [
    "x_fit = np.linspace(min(x_data), max(x_data), 100)\n",
    "y_fit = tanh_function(x_fit, *popt)"
   ]
  },
  {
   "cell_type": "code",
   "execution_count": 24,
   "metadata": {},
   "outputs": [
    {
     "data": {
      "application/vnd.plotly.v1+json": {
       "config": {
        "plotlyServerURL": "https://plot.ly"
       },
       "data": [
        {
         "mode": "markers",
         "name": "ISO Points",
         "type": "scatter",
         "x": [
          2,
          4,
          10
         ],
         "y": [
          2.38,
          1.5,
          1
         ]
        },
        {
         "mode": "markers",
         "name": "ISO Points",
         "type": "scatter",
         "x": [
          2,
          4,
          10
         ],
         "y": [
          2.3754999999999997,
          1.51125,
          0.9927
         ]
        },
        {
         "name": "Fitted Hyperbolic function",
         "type": "scatter",
         "x": [
          2,
          2.080808080808081,
          2.1616161616161618,
          2.242424242424242,
          2.323232323232323,
          2.404040404040404,
          2.484848484848485,
          2.5656565656565657,
          2.6464646464646466,
          2.7272727272727275,
          2.808080808080808,
          2.888888888888889,
          2.9696969696969697,
          3.0505050505050506,
          3.1313131313131315,
          3.212121212121212,
          3.2929292929292933,
          3.3737373737373737,
          3.4545454545454546,
          3.5353535353535355,
          3.6161616161616164,
          3.6969696969696972,
          3.7777777777777777,
          3.858585858585859,
          3.9393939393939394,
          4.020202020202021,
          4.101010101010101,
          4.181818181818182,
          4.262626262626263,
          4.343434343434343,
          4.424242424242424,
          4.505050505050505,
          4.5858585858585865,
          4.666666666666667,
          4.747474747474747,
          4.828282828282829,
          4.909090909090909,
          4.98989898989899,
          5.070707070707071,
          5.151515151515152,
          5.232323232323233,
          5.313131313131313,
          5.3939393939393945,
          5.474747474747475,
          5.555555555555555,
          5.636363636363637,
          5.717171717171718,
          5.7979797979797985,
          5.878787878787879,
          5.95959595959596,
          6.040404040404041,
          6.121212121212122,
          6.202020202020202,
          6.282828282828283,
          6.363636363636364,
          6.444444444444445,
          6.525252525252526,
          6.606060606060606,
          6.686868686868687,
          6.767676767676768,
          6.848484848484849,
          6.92929292929293,
          7.01010101010101,
          7.090909090909092,
          7.171717171717172,
          7.252525252525253,
          7.333333333333334,
          7.414141414141414,
          7.494949494949496,
          7.575757575757576,
          7.6565656565656575,
          7.737373737373738,
          7.818181818181818,
          7.8989898989899,
          7.97979797979798,
          8.060606060606062,
          8.141414141414142,
          8.222222222222221,
          8.303030303030305,
          8.383838383838384,
          8.464646464646465,
          8.545454545454547,
          8.626262626262626,
          8.707070707070708,
          8.787878787878789,
          8.868686868686869,
          8.94949494949495,
          9.030303030303031,
          9.11111111111111,
          9.191919191919194,
          9.272727272727273,
          9.353535353535353,
          9.434343434343436,
          9.515151515151516,
          9.595959595959597,
          9.676767676767678,
          9.757575757575758,
          9.83838383838384,
          9.91919191919192,
          10
         ],
         "y": [
          2.3757142856893365,
          2.3085852981771833,
          2.246475300385565,
          2.1888416988311805,
          2.1352173912979704,
          2.085198079229178,
          2.0384320557502256,
          1.994611923514042,
          1.9534678298877015,
          1.9147619047725515,
          1.87828365880072,
          1.8438461538622772,
          1.811282798852457,
          1.7804446547040844,
          1.7511981567053052,
          1.7234231806184148,
          1.6970113935419233,
          1.6718648417744855,
          1.6478947368733605,
          1.625020408196287,
          1.6031683958846692,
          1.5822716627997888,
          1.5622689076008927,
          1.543103964138076,
          1.5247252747660416,
          1.5070854271778074,
          1.4901407459969913,
          1.473850931721714,
          1.4581787407364946,
          1.4430897010437487,
          1.428551859147998,
          1.4145355541812425,
          1.401013215909351,
          1.3879591837247975,
          1.3753495441252503,
          1.3631619845122986,
          1.351375661429815,
          1.339971081605063,
          1.328929994364367,
          1.3182352941743596,
          1.3078709322141595,
          1.297821836017007,
          1.2880738363351252,
          1.2786136004814908,
          1.269428571489053,
          1.2605069125035668,
          1.2518374558922285,
          1.2434096566080357,
          1.2352135494003844,
          1.2272397095068388,
          1.219479216500077,
          1.2119236209984443,
          1.2045649139789387,
          1.1973954984583273,
          1.19040816333189,
          1.1835960591804104,
          1.1769526758747877,
          1.1704718218243486,
          1.1641476047298116,
          1.1579744137151438,
          1.1519469027244211,
          1.1460599750804208,
          1.1403087691112102,
          1.1346886447595312,
          1.129195171097468,
          1.1238241146757846,
          1.1185714286435597,
          1.11343324257934,
          1.1084058529801168,
          1.1034857143590104,
          1.0986694309066873,
          1.0939537486753004,
          1.0893355482471465,
          1.084811837853328,
          1.0803797469105236,
          1.0760365199465223,
          1.0717795108875134,
          1.0676061776822445,
          1.063514077240095,
          1.0595008606618908,
          1.0555642687438909,
          1.0517021277368697,
          1.047912345343563,
          1.0441929069389952,
          1.0405418719993391,
          1.0369573707260096,
          1.0334376008526496,
          1.0299808246235553,
          1.0265853659328932,
          1.023249607614814,
          1.0199719888752636,
          1.0167510028569149,
          1.0135851943292444,
          1.0104731574963115,
          1.0074135339153016,
          1.004405010519361,
          1.0014463177386739,
          0.9985362277141376,
          0.9956735525983516,
          0.9928571429389822
         ]
        }
       ],
       "layout": {
        "height": 400,
        "images": [
         {
          "sizex": 0.2,
          "sizey": 0.3,
          "source": "https://gitlab.com/dazhong.li/utility/-/blob/master/image/arup_logo.png",
          "x": 0.1,
          "xanchor": "center",
          "xref": "paper",
          "y": 1,
          "yanchor": "bottom",
          "yref": "paper"
         }
        ],
        "margin": {
         "b": 20,
         "l": 20,
         "r": 20,
         "t": 20
        },
        "template": {
         "data": {
          "bar": [
           {
            "error_x": {
             "color": "rgb(36,36,36)"
            },
            "error_y": {
             "color": "rgb(36,36,36)"
            },
            "marker": {
             "line": {
              "color": "white",
              "width": 0.5
             },
             "pattern": {
              "fillmode": "overlay",
              "size": 10,
              "solidity": 0.2
             }
            },
            "type": "bar"
           }
          ],
          "barpolar": [
           {
            "marker": {
             "line": {
              "color": "white",
              "width": 0.5
             },
             "pattern": {
              "fillmode": "overlay",
              "size": 10,
              "solidity": 0.2
             }
            },
            "type": "barpolar"
           }
          ],
          "carpet": [
           {
            "aaxis": {
             "endlinecolor": "rgb(36,36,36)",
             "gridcolor": "white",
             "linecolor": "white",
             "minorgridcolor": "white",
             "startlinecolor": "rgb(36,36,36)"
            },
            "baxis": {
             "endlinecolor": "rgb(36,36,36)",
             "gridcolor": "white",
             "linecolor": "white",
             "minorgridcolor": "white",
             "startlinecolor": "rgb(36,36,36)"
            },
            "type": "carpet"
           }
          ],
          "choropleth": [
           {
            "colorbar": {
             "outlinewidth": 1,
             "tickcolor": "rgb(36,36,36)",
             "ticks": "outside"
            },
            "type": "choropleth"
           }
          ],
          "contour": [
           {
            "colorbar": {
             "outlinewidth": 1,
             "tickcolor": "rgb(36,36,36)",
             "ticks": "outside"
            },
            "colorscale": [
             [
              0,
              "#440154"
             ],
             [
              0.1111111111111111,
              "#482878"
             ],
             [
              0.2222222222222222,
              "#3e4989"
             ],
             [
              0.3333333333333333,
              "#31688e"
             ],
             [
              0.4444444444444444,
              "#26828e"
             ],
             [
              0.5555555555555556,
              "#1f9e89"
             ],
             [
              0.6666666666666666,
              "#35b779"
             ],
             [
              0.7777777777777778,
              "#6ece58"
             ],
             [
              0.8888888888888888,
              "#b5de2b"
             ],
             [
              1,
              "#fde725"
             ]
            ],
            "type": "contour"
           }
          ],
          "contourcarpet": [
           {
            "colorbar": {
             "outlinewidth": 1,
             "tickcolor": "rgb(36,36,36)",
             "ticks": "outside"
            },
            "type": "contourcarpet"
           }
          ],
          "heatmap": [
           {
            "colorbar": {
             "outlinewidth": 1,
             "tickcolor": "rgb(36,36,36)",
             "ticks": "outside"
            },
            "colorscale": [
             [
              0,
              "#440154"
             ],
             [
              0.1111111111111111,
              "#482878"
             ],
             [
              0.2222222222222222,
              "#3e4989"
             ],
             [
              0.3333333333333333,
              "#31688e"
             ],
             [
              0.4444444444444444,
              "#26828e"
             ],
             [
              0.5555555555555556,
              "#1f9e89"
             ],
             [
              0.6666666666666666,
              "#35b779"
             ],
             [
              0.7777777777777778,
              "#6ece58"
             ],
             [
              0.8888888888888888,
              "#b5de2b"
             ],
             [
              1,
              "#fde725"
             ]
            ],
            "type": "heatmap"
           }
          ],
          "heatmapgl": [
           {
            "colorbar": {
             "outlinewidth": 1,
             "tickcolor": "rgb(36,36,36)",
             "ticks": "outside"
            },
            "colorscale": [
             [
              0,
              "#440154"
             ],
             [
              0.1111111111111111,
              "#482878"
             ],
             [
              0.2222222222222222,
              "#3e4989"
             ],
             [
              0.3333333333333333,
              "#31688e"
             ],
             [
              0.4444444444444444,
              "#26828e"
             ],
             [
              0.5555555555555556,
              "#1f9e89"
             ],
             [
              0.6666666666666666,
              "#35b779"
             ],
             [
              0.7777777777777778,
              "#6ece58"
             ],
             [
              0.8888888888888888,
              "#b5de2b"
             ],
             [
              1,
              "#fde725"
             ]
            ],
            "type": "heatmapgl"
           }
          ],
          "histogram": [
           {
            "marker": {
             "line": {
              "color": "white",
              "width": 0.6
             }
            },
            "type": "histogram"
           }
          ],
          "histogram2d": [
           {
            "colorbar": {
             "outlinewidth": 1,
             "tickcolor": "rgb(36,36,36)",
             "ticks": "outside"
            },
            "colorscale": [
             [
              0,
              "#440154"
             ],
             [
              0.1111111111111111,
              "#482878"
             ],
             [
              0.2222222222222222,
              "#3e4989"
             ],
             [
              0.3333333333333333,
              "#31688e"
             ],
             [
              0.4444444444444444,
              "#26828e"
             ],
             [
              0.5555555555555556,
              "#1f9e89"
             ],
             [
              0.6666666666666666,
              "#35b779"
             ],
             [
              0.7777777777777778,
              "#6ece58"
             ],
             [
              0.8888888888888888,
              "#b5de2b"
             ],
             [
              1,
              "#fde725"
             ]
            ],
            "type": "histogram2d"
           }
          ],
          "histogram2dcontour": [
           {
            "colorbar": {
             "outlinewidth": 1,
             "tickcolor": "rgb(36,36,36)",
             "ticks": "outside"
            },
            "colorscale": [
             [
              0,
              "#440154"
             ],
             [
              0.1111111111111111,
              "#482878"
             ],
             [
              0.2222222222222222,
              "#3e4989"
             ],
             [
              0.3333333333333333,
              "#31688e"
             ],
             [
              0.4444444444444444,
              "#26828e"
             ],
             [
              0.5555555555555556,
              "#1f9e89"
             ],
             [
              0.6666666666666666,
              "#35b779"
             ],
             [
              0.7777777777777778,
              "#6ece58"
             ],
             [
              0.8888888888888888,
              "#b5de2b"
             ],
             [
              1,
              "#fde725"
             ]
            ],
            "type": "histogram2dcontour"
           }
          ],
          "mesh3d": [
           {
            "colorbar": {
             "outlinewidth": 1,
             "tickcolor": "rgb(36,36,36)",
             "ticks": "outside"
            },
            "type": "mesh3d"
           }
          ],
          "parcoords": [
           {
            "line": {
             "colorbar": {
              "outlinewidth": 1,
              "tickcolor": "rgb(36,36,36)",
              "ticks": "outside"
             }
            },
            "type": "parcoords"
           }
          ],
          "pie": [
           {
            "automargin": true,
            "type": "pie"
           }
          ],
          "scatter": [
           {
            "fillpattern": {
             "fillmode": "overlay",
             "size": 10,
             "solidity": 0.2
            },
            "type": "scatter"
           }
          ],
          "scatter3d": [
           {
            "line": {
             "colorbar": {
              "outlinewidth": 1,
              "tickcolor": "rgb(36,36,36)",
              "ticks": "outside"
             }
            },
            "marker": {
             "colorbar": {
              "outlinewidth": 1,
              "tickcolor": "rgb(36,36,36)",
              "ticks": "outside"
             }
            },
            "type": "scatter3d"
           }
          ],
          "scattercarpet": [
           {
            "marker": {
             "colorbar": {
              "outlinewidth": 1,
              "tickcolor": "rgb(36,36,36)",
              "ticks": "outside"
             }
            },
            "type": "scattercarpet"
           }
          ],
          "scattergeo": [
           {
            "marker": {
             "colorbar": {
              "outlinewidth": 1,
              "tickcolor": "rgb(36,36,36)",
              "ticks": "outside"
             }
            },
            "type": "scattergeo"
           }
          ],
          "scattergl": [
           {
            "marker": {
             "colorbar": {
              "outlinewidth": 1,
              "tickcolor": "rgb(36,36,36)",
              "ticks": "outside"
             }
            },
            "type": "scattergl"
           }
          ],
          "scattermapbox": [
           {
            "marker": {
             "colorbar": {
              "outlinewidth": 1,
              "tickcolor": "rgb(36,36,36)",
              "ticks": "outside"
             }
            },
            "type": "scattermapbox"
           }
          ],
          "scatterpolar": [
           {
            "marker": {
             "colorbar": {
              "outlinewidth": 1,
              "tickcolor": "rgb(36,36,36)",
              "ticks": "outside"
             }
            },
            "type": "scatterpolar"
           }
          ],
          "scatterpolargl": [
           {
            "marker": {
             "colorbar": {
              "outlinewidth": 1,
              "tickcolor": "rgb(36,36,36)",
              "ticks": "outside"
             }
            },
            "type": "scatterpolargl"
           }
          ],
          "scatterternary": [
           {
            "marker": {
             "colorbar": {
              "outlinewidth": 1,
              "tickcolor": "rgb(36,36,36)",
              "ticks": "outside"
             }
            },
            "type": "scatterternary"
           }
          ],
          "surface": [
           {
            "colorbar": {
             "outlinewidth": 1,
             "tickcolor": "rgb(36,36,36)",
             "ticks": "outside"
            },
            "colorscale": [
             [
              0,
              "#440154"
             ],
             [
              0.1111111111111111,
              "#482878"
             ],
             [
              0.2222222222222222,
              "#3e4989"
             ],
             [
              0.3333333333333333,
              "#31688e"
             ],
             [
              0.4444444444444444,
              "#26828e"
             ],
             [
              0.5555555555555556,
              "#1f9e89"
             ],
             [
              0.6666666666666666,
              "#35b779"
             ],
             [
              0.7777777777777778,
              "#6ece58"
             ],
             [
              0.8888888888888888,
              "#b5de2b"
             ],
             [
              1,
              "#fde725"
             ]
            ],
            "type": "surface"
           }
          ],
          "table": [
           {
            "cells": {
             "fill": {
              "color": "rgb(237,237,237)"
             },
             "line": {
              "color": "white"
             }
            },
            "header": {
             "fill": {
              "color": "rgb(217,217,217)"
             },
             "line": {
              "color": "white"
             }
            },
            "type": "table"
           }
          ]
         },
         "layout": {
          "annotationdefaults": {
           "arrowhead": 0,
           "arrowwidth": 1
          },
          "autotypenumbers": "strict",
          "coloraxis": {
           "colorbar": {
            "outlinewidth": 1,
            "tickcolor": "rgb(36,36,36)",
            "ticks": "outside"
           }
          },
          "colorscale": {
           "diverging": [
            [
             0,
             "rgb(103,0,31)"
            ],
            [
             0.1,
             "rgb(178,24,43)"
            ],
            [
             0.2,
             "rgb(214,96,77)"
            ],
            [
             0.3,
             "rgb(244,165,130)"
            ],
            [
             0.4,
             "rgb(253,219,199)"
            ],
            [
             0.5,
             "rgb(247,247,247)"
            ],
            [
             0.6,
             "rgb(209,229,240)"
            ],
            [
             0.7,
             "rgb(146,197,222)"
            ],
            [
             0.8,
             "rgb(67,147,195)"
            ],
            [
             0.9,
             "rgb(33,102,172)"
            ],
            [
             1,
             "rgb(5,48,97)"
            ]
           ],
           "sequential": [
            [
             0,
             "#440154"
            ],
            [
             0.1111111111111111,
             "#482878"
            ],
            [
             0.2222222222222222,
             "#3e4989"
            ],
            [
             0.3333333333333333,
             "#31688e"
            ],
            [
             0.4444444444444444,
             "#26828e"
            ],
            [
             0.5555555555555556,
             "#1f9e89"
            ],
            [
             0.6666666666666666,
             "#35b779"
            ],
            [
             0.7777777777777778,
             "#6ece58"
            ],
            [
             0.8888888888888888,
             "#b5de2b"
            ],
            [
             1,
             "#fde725"
            ]
           ],
           "sequentialminus": [
            [
             0,
             "#440154"
            ],
            [
             0.1111111111111111,
             "#482878"
            ],
            [
             0.2222222222222222,
             "#3e4989"
            ],
            [
             0.3333333333333333,
             "#31688e"
            ],
            [
             0.4444444444444444,
             "#26828e"
            ],
            [
             0.5555555555555556,
             "#1f9e89"
            ],
            [
             0.6666666666666666,
             "#35b779"
            ],
            [
             0.7777777777777778,
             "#6ece58"
            ],
            [
             0.8888888888888888,
             "#b5de2b"
            ],
            [
             1,
             "#fde725"
            ]
           ]
          },
          "colorway": [
           "#1F77B4",
           "#FF7F0E",
           "#2CA02C",
           "#D62728",
           "#9467BD",
           "#8C564B",
           "#E377C2",
           "#7F7F7F",
           "#BCBD22",
           "#17BECF"
          ],
          "font": {
           "color": "rgb(36,36,36)"
          },
          "geo": {
           "bgcolor": "white",
           "lakecolor": "white",
           "landcolor": "white",
           "showlakes": true,
           "showland": true,
           "subunitcolor": "white"
          },
          "hoverlabel": {
           "align": "left"
          },
          "hovermode": "closest",
          "mapbox": {
           "style": "light"
          },
          "paper_bgcolor": "white",
          "plot_bgcolor": "white",
          "polar": {
           "angularaxis": {
            "gridcolor": "rgb(232,232,232)",
            "linecolor": "rgb(36,36,36)",
            "showgrid": false,
            "showline": true,
            "ticks": "outside"
           },
           "bgcolor": "white",
           "radialaxis": {
            "gridcolor": "rgb(232,232,232)",
            "linecolor": "rgb(36,36,36)",
            "showgrid": false,
            "showline": true,
            "ticks": "outside"
           }
          },
          "scene": {
           "xaxis": {
            "backgroundcolor": "white",
            "gridcolor": "rgb(232,232,232)",
            "gridwidth": 2,
            "linecolor": "rgb(36,36,36)",
            "showbackground": true,
            "showgrid": false,
            "showline": true,
            "ticks": "outside",
            "zeroline": false,
            "zerolinecolor": "rgb(36,36,36)"
           },
           "yaxis": {
            "backgroundcolor": "white",
            "gridcolor": "rgb(232,232,232)",
            "gridwidth": 2,
            "linecolor": "rgb(36,36,36)",
            "showbackground": true,
            "showgrid": false,
            "showline": true,
            "ticks": "outside",
            "zeroline": false,
            "zerolinecolor": "rgb(36,36,36)"
           },
           "zaxis": {
            "backgroundcolor": "white",
            "gridcolor": "rgb(232,232,232)",
            "gridwidth": 2,
            "linecolor": "rgb(36,36,36)",
            "showbackground": true,
            "showgrid": false,
            "showline": true,
            "ticks": "outside",
            "zeroline": false,
            "zerolinecolor": "rgb(36,36,36)"
           }
          },
          "shapedefaults": {
           "fillcolor": "black",
           "line": {
            "width": 0
           },
           "opacity": 0.3
          },
          "ternary": {
           "aaxis": {
            "gridcolor": "rgb(232,232,232)",
            "linecolor": "rgb(36,36,36)",
            "showgrid": false,
            "showline": true,
            "ticks": "outside"
           },
           "baxis": {
            "gridcolor": "rgb(232,232,232)",
            "linecolor": "rgb(36,36,36)",
            "showgrid": false,
            "showline": true,
            "ticks": "outside"
           },
           "bgcolor": "white",
           "caxis": {
            "gridcolor": "rgb(232,232,232)",
            "linecolor": "rgb(36,36,36)",
            "showgrid": false,
            "showline": true,
            "ticks": "outside"
           }
          },
          "title": {
           "x": 0.05
          },
          "xaxis": {
           "automargin": true,
           "gridcolor": "rgb(232,232,232)",
           "linecolor": "rgb(36,36,36)",
           "showgrid": false,
           "showline": true,
           "ticks": "outside",
           "title": {
            "standoff": 15
           },
           "zeroline": false,
           "zerolinecolor": "rgb(36,36,36)"
          },
          "yaxis": {
           "automargin": true,
           "gridcolor": "rgb(232,232,232)",
           "linecolor": "rgb(36,36,36)",
           "showgrid": false,
           "showline": true,
           "ticks": "outside",
           "title": {
            "standoff": 15
           },
           "zeroline": false,
           "zerolinecolor": "rgb(36,36,36)"
          }
         }
        },
        "width": 800,
        "xaxis": {
         "anchor": "y",
         "domain": [
          0,
          1
         ],
         "showgrid": true,
         "title": {
          "text": "ORC(>2.0)"
         }
        },
        "yaxis": {
         "anchor": "x",
         "domain": [
          0,
          1
         ],
         "showgrid": true,
         "title": {
          "text": "Coefficient (a)"
         }
        }
       }
      }
     },
     "metadata": {},
     "output_type": "display_data"
    }
   ],
   "source": [
    "# fig = px.line(y=[2.38,2.38,1.5,1.0], x=[1,2,4,10])\n",
    "x_data = np.array([2,4,10])\n",
    "y_data = np.array([2.38,1.5,1])\n",
    "from src import geoplot\n",
    "fig = geoplot.GEOPlot.get_figure()\n",
    "fig.add_trace(go.Scatter(x=x_data,y=y_data,mode='markers',name='ISO Points'))\n",
    "fig.add_trace(go.Scatter(x=x_data,y=model_a(x_data),mode='markers',name='ISO Points'))\n",
    "fig.add_trace(go.Scatter(x=x_fit,y=y_fit,name='Fitted Hyperbolic function'))\n",
    "fig.update_layout(width=800,height=400)\n",
    "fig.update_xaxes(title='ORC(>2.0)')\n",
    "fig.update_yaxes(title='Coefficient (a)')"
   ]
  },
  {
   "cell_type": "code",
   "execution_count": 25,
   "metadata": {},
   "outputs": [
    {
     "data": {
      "text/plain": [
       "array([3.45714286, 0.64714286])"
      ]
     },
     "execution_count": 25,
     "metadata": {},
     "output_type": "execute_result"
    }
   ],
   "source": [
    "popt"
   ]
  },
  {
   "cell_type": "code",
   "execution_count": 26,
   "metadata": {},
   "outputs": [
    {
     "name": "stdout",
     "output_type": "stream",
     "text": [
      "[-0.81020408  0.72622449]\n"
     ]
    },
    {
     "data": {
      "application/vnd.plotly.v1+json": {
       "config": {
        "plotlyServerURL": "https://plot.ly"
       },
       "data": [
        {
         "mode": "markers",
         "name": "ISO Points",
         "type": "scatter",
         "x": [
          2,
          4,
          10
         ],
         "y": [
          0.33,
          0.5,
          0.66
         ]
        },
        {
         "name": "Fitted Hyperbolic function",
         "type": "scatter",
         "x": [
          2,
          2.080808080808081,
          2.1616161616161618,
          2.242424242424242,
          2.323232323232323,
          2.404040404040404,
          2.484848484848485,
          2.5656565656565657,
          2.6464646464646466,
          2.7272727272727275,
          2.808080808080808,
          2.888888888888889,
          2.9696969696969697,
          3.0505050505050506,
          3.1313131313131315,
          3.212121212121212,
          3.2929292929292933,
          3.3737373737373737,
          3.4545454545454546,
          3.5353535353535355,
          3.6161616161616164,
          3.6969696969696972,
          3.7777777777777777,
          3.858585858585859,
          3.9393939393939394,
          4.020202020202021,
          4.101010101010101,
          4.181818181818182,
          4.262626262626263,
          4.343434343434343,
          4.424242424242424,
          4.505050505050505,
          4.5858585858585865,
          4.666666666666667,
          4.747474747474747,
          4.828282828282829,
          4.909090909090909,
          4.98989898989899,
          5.070707070707071,
          5.151515151515152,
          5.232323232323233,
          5.313131313131313,
          5.3939393939393945,
          5.474747474747475,
          5.555555555555555,
          5.636363636363637,
          5.717171717171718,
          5.7979797979797985,
          5.878787878787879,
          5.95959595959596,
          6.040404040404041,
          6.121212121212122,
          6.202020202020202,
          6.282828282828283,
          6.363636363636364,
          6.444444444444445,
          6.525252525252526,
          6.606060606060606,
          6.686868686868687,
          6.767676767676768,
          6.848484848484849,
          6.92929292929293,
          7.01010101010101,
          7.090909090909092,
          7.171717171717172,
          7.252525252525253,
          7.333333333333334,
          7.414141414141414,
          7.494949494949496,
          7.575757575757576,
          7.6565656565656575,
          7.737373737373738,
          7.818181818181818,
          7.8989898989899,
          7.97979797979798,
          8.060606060606062,
          8.141414141414142,
          8.222222222222221,
          8.303030303030305,
          8.383838383838384,
          8.464646464646465,
          8.545454545454547,
          8.626262626262626,
          8.707070707070708,
          8.787878787878789,
          8.868686868686869,
          8.94949494949495,
          9.030303030303031,
          9.11111111111111,
          9.191919191919194,
          9.272727272727273,
          9.353535353535353,
          9.434343434343436,
          9.515151515151516,
          9.595959595959597,
          9.676767676767678,
          9.757575757575758,
          9.83838383838384,
          9.91919191919192,
          10
         ],
         "y": [
          0.3211224486908067,
          0.3368545668066418,
          0.351410451792321,
          0.36491726398623947,
          0.37748447185362455,
          0.3892068254105972,
          0.40016674946792935,
          0.4104362846082642,
          0.42007867256445647,
          0.42914965975287434,
          0.4376985757362034,
          0.4457692306855001,
          0.45340066631782827,
          0.4606277874795695,
          0.46748189593618866,
          0.473991143589959,
          0.4801809189662437,
          0.48607417815683807,
          0.491691729315124,
          0.4970524781347454,
          0.5021736404149424,
          0.5070709267484641,
          0.5117587035062201,
          0.5162501335934944,
          0.5205572998823161,
          0.5246913137575171,
          0.5286624108297544,
          0.5324800355513738,
          0.5361529162077185,
          0.5396891315373156,
          0.5430961700512196,
          0.5463809829682122,
          0.5495500315533286,
          0.5526093295380945,
          0.5555644812084853,
          0.5584207156681519,
          0.5611829177176236,
          0.5638556557331044,
          0.5664432068795658,
          0.5689495799508442,
          0.5713785360932799,
          0.5737336076382271,
          0.5760181152417527,
          0.5782351835064289,
          0.5803877552397689,
          0.5824786044861316,
          0.5845103484534451,
          0.5864854584425756,
          0.5884062698753039,
          0.5902749915064667,
          0.592093713896662,
          0.5938644172138487,
          0.5955889784250502,
          0.5972691779330696,
          0.598906705707552,
          0.6005031669547747,
          0.6020600873661528,
          0.603578917981534,
          0.6050610396998666,
          0.6065077674667168,
          0.6079203541653225,
          0.6092999942353894,
          0.6106478270415931,
          0.6119649400117579,
          0.6132523715628769,
          0.6145111138315196,
          0.6157421152237184,
          0.6169462827981036,
          0.618124484494874,
          0.6192775512221134,
          0.6204062788099914,
          0.6215114298425091,
          0.6225937353756466,
          0.6236538965500498,
          0.6246925861057309,
          0.625710449805659,
          0.6267081077745712,
          0.6276861557588365,
          0.628645166312751,
          0.6295856899162287,
          0.6305082560284705,
          0.631413374081852,
          0.6323015344199476,
          0.6331732091833222,
          0.6340288531464509,
          0.6348689045088847,
          0.6356937856435544,
          0.6365039038048967,
          0.6372996517992973,
          0.6380814086201699,
          0.6388495400498291,
          0.6396043992301637,
          0.640346327203983,
          0.6410756534287777,
          0.6417926962645232,
          0.6424977634370412,
          0.6431911524783375,
          0.6438731511452387,
          0.6445440378175672,
          0.6452040818770095
         ]
        }
       ],
       "layout": {
        "height": 400,
        "images": [
         {
          "sizex": 0.2,
          "sizey": 0.3,
          "source": "https://gitlab.com/dazhong.li/utility/-/blob/master/image/arup_logo.png",
          "x": 0.1,
          "xanchor": "center",
          "xref": "paper",
          "y": 1,
          "yanchor": "bottom",
          "yref": "paper"
         }
        ],
        "margin": {
         "b": 20,
         "l": 20,
         "r": 20,
         "t": 20
        },
        "template": {
         "data": {
          "bar": [
           {
            "error_x": {
             "color": "rgb(36,36,36)"
            },
            "error_y": {
             "color": "rgb(36,36,36)"
            },
            "marker": {
             "line": {
              "color": "white",
              "width": 0.5
             },
             "pattern": {
              "fillmode": "overlay",
              "size": 10,
              "solidity": 0.2
             }
            },
            "type": "bar"
           }
          ],
          "barpolar": [
           {
            "marker": {
             "line": {
              "color": "white",
              "width": 0.5
             },
             "pattern": {
              "fillmode": "overlay",
              "size": 10,
              "solidity": 0.2
             }
            },
            "type": "barpolar"
           }
          ],
          "carpet": [
           {
            "aaxis": {
             "endlinecolor": "rgb(36,36,36)",
             "gridcolor": "white",
             "linecolor": "white",
             "minorgridcolor": "white",
             "startlinecolor": "rgb(36,36,36)"
            },
            "baxis": {
             "endlinecolor": "rgb(36,36,36)",
             "gridcolor": "white",
             "linecolor": "white",
             "minorgridcolor": "white",
             "startlinecolor": "rgb(36,36,36)"
            },
            "type": "carpet"
           }
          ],
          "choropleth": [
           {
            "colorbar": {
             "outlinewidth": 1,
             "tickcolor": "rgb(36,36,36)",
             "ticks": "outside"
            },
            "type": "choropleth"
           }
          ],
          "contour": [
           {
            "colorbar": {
             "outlinewidth": 1,
             "tickcolor": "rgb(36,36,36)",
             "ticks": "outside"
            },
            "colorscale": [
             [
              0,
              "#440154"
             ],
             [
              0.1111111111111111,
              "#482878"
             ],
             [
              0.2222222222222222,
              "#3e4989"
             ],
             [
              0.3333333333333333,
              "#31688e"
             ],
             [
              0.4444444444444444,
              "#26828e"
             ],
             [
              0.5555555555555556,
              "#1f9e89"
             ],
             [
              0.6666666666666666,
              "#35b779"
             ],
             [
              0.7777777777777778,
              "#6ece58"
             ],
             [
              0.8888888888888888,
              "#b5de2b"
             ],
             [
              1,
              "#fde725"
             ]
            ],
            "type": "contour"
           }
          ],
          "contourcarpet": [
           {
            "colorbar": {
             "outlinewidth": 1,
             "tickcolor": "rgb(36,36,36)",
             "ticks": "outside"
            },
            "type": "contourcarpet"
           }
          ],
          "heatmap": [
           {
            "colorbar": {
             "outlinewidth": 1,
             "tickcolor": "rgb(36,36,36)",
             "ticks": "outside"
            },
            "colorscale": [
             [
              0,
              "#440154"
             ],
             [
              0.1111111111111111,
              "#482878"
             ],
             [
              0.2222222222222222,
              "#3e4989"
             ],
             [
              0.3333333333333333,
              "#31688e"
             ],
             [
              0.4444444444444444,
              "#26828e"
             ],
             [
              0.5555555555555556,
              "#1f9e89"
             ],
             [
              0.6666666666666666,
              "#35b779"
             ],
             [
              0.7777777777777778,
              "#6ece58"
             ],
             [
              0.8888888888888888,
              "#b5de2b"
             ],
             [
              1,
              "#fde725"
             ]
            ],
            "type": "heatmap"
           }
          ],
          "heatmapgl": [
           {
            "colorbar": {
             "outlinewidth": 1,
             "tickcolor": "rgb(36,36,36)",
             "ticks": "outside"
            },
            "colorscale": [
             [
              0,
              "#440154"
             ],
             [
              0.1111111111111111,
              "#482878"
             ],
             [
              0.2222222222222222,
              "#3e4989"
             ],
             [
              0.3333333333333333,
              "#31688e"
             ],
             [
              0.4444444444444444,
              "#26828e"
             ],
             [
              0.5555555555555556,
              "#1f9e89"
             ],
             [
              0.6666666666666666,
              "#35b779"
             ],
             [
              0.7777777777777778,
              "#6ece58"
             ],
             [
              0.8888888888888888,
              "#b5de2b"
             ],
             [
              1,
              "#fde725"
             ]
            ],
            "type": "heatmapgl"
           }
          ],
          "histogram": [
           {
            "marker": {
             "line": {
              "color": "white",
              "width": 0.6
             }
            },
            "type": "histogram"
           }
          ],
          "histogram2d": [
           {
            "colorbar": {
             "outlinewidth": 1,
             "tickcolor": "rgb(36,36,36)",
             "ticks": "outside"
            },
            "colorscale": [
             [
              0,
              "#440154"
             ],
             [
              0.1111111111111111,
              "#482878"
             ],
             [
              0.2222222222222222,
              "#3e4989"
             ],
             [
              0.3333333333333333,
              "#31688e"
             ],
             [
              0.4444444444444444,
              "#26828e"
             ],
             [
              0.5555555555555556,
              "#1f9e89"
             ],
             [
              0.6666666666666666,
              "#35b779"
             ],
             [
              0.7777777777777778,
              "#6ece58"
             ],
             [
              0.8888888888888888,
              "#b5de2b"
             ],
             [
              1,
              "#fde725"
             ]
            ],
            "type": "histogram2d"
           }
          ],
          "histogram2dcontour": [
           {
            "colorbar": {
             "outlinewidth": 1,
             "tickcolor": "rgb(36,36,36)",
             "ticks": "outside"
            },
            "colorscale": [
             [
              0,
              "#440154"
             ],
             [
              0.1111111111111111,
              "#482878"
             ],
             [
              0.2222222222222222,
              "#3e4989"
             ],
             [
              0.3333333333333333,
              "#31688e"
             ],
             [
              0.4444444444444444,
              "#26828e"
             ],
             [
              0.5555555555555556,
              "#1f9e89"
             ],
             [
              0.6666666666666666,
              "#35b779"
             ],
             [
              0.7777777777777778,
              "#6ece58"
             ],
             [
              0.8888888888888888,
              "#b5de2b"
             ],
             [
              1,
              "#fde725"
             ]
            ],
            "type": "histogram2dcontour"
           }
          ],
          "mesh3d": [
           {
            "colorbar": {
             "outlinewidth": 1,
             "tickcolor": "rgb(36,36,36)",
             "ticks": "outside"
            },
            "type": "mesh3d"
           }
          ],
          "parcoords": [
           {
            "line": {
             "colorbar": {
              "outlinewidth": 1,
              "tickcolor": "rgb(36,36,36)",
              "ticks": "outside"
             }
            },
            "type": "parcoords"
           }
          ],
          "pie": [
           {
            "automargin": true,
            "type": "pie"
           }
          ],
          "scatter": [
           {
            "fillpattern": {
             "fillmode": "overlay",
             "size": 10,
             "solidity": 0.2
            },
            "type": "scatter"
           }
          ],
          "scatter3d": [
           {
            "line": {
             "colorbar": {
              "outlinewidth": 1,
              "tickcolor": "rgb(36,36,36)",
              "ticks": "outside"
             }
            },
            "marker": {
             "colorbar": {
              "outlinewidth": 1,
              "tickcolor": "rgb(36,36,36)",
              "ticks": "outside"
             }
            },
            "type": "scatter3d"
           }
          ],
          "scattercarpet": [
           {
            "marker": {
             "colorbar": {
              "outlinewidth": 1,
              "tickcolor": "rgb(36,36,36)",
              "ticks": "outside"
             }
            },
            "type": "scattercarpet"
           }
          ],
          "scattergeo": [
           {
            "marker": {
             "colorbar": {
              "outlinewidth": 1,
              "tickcolor": "rgb(36,36,36)",
              "ticks": "outside"
             }
            },
            "type": "scattergeo"
           }
          ],
          "scattergl": [
           {
            "marker": {
             "colorbar": {
              "outlinewidth": 1,
              "tickcolor": "rgb(36,36,36)",
              "ticks": "outside"
             }
            },
            "type": "scattergl"
           }
          ],
          "scattermapbox": [
           {
            "marker": {
             "colorbar": {
              "outlinewidth": 1,
              "tickcolor": "rgb(36,36,36)",
              "ticks": "outside"
             }
            },
            "type": "scattermapbox"
           }
          ],
          "scatterpolar": [
           {
            "marker": {
             "colorbar": {
              "outlinewidth": 1,
              "tickcolor": "rgb(36,36,36)",
              "ticks": "outside"
             }
            },
            "type": "scatterpolar"
           }
          ],
          "scatterpolargl": [
           {
            "marker": {
             "colorbar": {
              "outlinewidth": 1,
              "tickcolor": "rgb(36,36,36)",
              "ticks": "outside"
             }
            },
            "type": "scatterpolargl"
           }
          ],
          "scatterternary": [
           {
            "marker": {
             "colorbar": {
              "outlinewidth": 1,
              "tickcolor": "rgb(36,36,36)",
              "ticks": "outside"
             }
            },
            "type": "scatterternary"
           }
          ],
          "surface": [
           {
            "colorbar": {
             "outlinewidth": 1,
             "tickcolor": "rgb(36,36,36)",
             "ticks": "outside"
            },
            "colorscale": [
             [
              0,
              "#440154"
             ],
             [
              0.1111111111111111,
              "#482878"
             ],
             [
              0.2222222222222222,
              "#3e4989"
             ],
             [
              0.3333333333333333,
              "#31688e"
             ],
             [
              0.4444444444444444,
              "#26828e"
             ],
             [
              0.5555555555555556,
              "#1f9e89"
             ],
             [
              0.6666666666666666,
              "#35b779"
             ],
             [
              0.7777777777777778,
              "#6ece58"
             ],
             [
              0.8888888888888888,
              "#b5de2b"
             ],
             [
              1,
              "#fde725"
             ]
            ],
            "type": "surface"
           }
          ],
          "table": [
           {
            "cells": {
             "fill": {
              "color": "rgb(237,237,237)"
             },
             "line": {
              "color": "white"
             }
            },
            "header": {
             "fill": {
              "color": "rgb(217,217,217)"
             },
             "line": {
              "color": "white"
             }
            },
            "type": "table"
           }
          ]
         },
         "layout": {
          "annotationdefaults": {
           "arrowhead": 0,
           "arrowwidth": 1
          },
          "autotypenumbers": "strict",
          "coloraxis": {
           "colorbar": {
            "outlinewidth": 1,
            "tickcolor": "rgb(36,36,36)",
            "ticks": "outside"
           }
          },
          "colorscale": {
           "diverging": [
            [
             0,
             "rgb(103,0,31)"
            ],
            [
             0.1,
             "rgb(178,24,43)"
            ],
            [
             0.2,
             "rgb(214,96,77)"
            ],
            [
             0.3,
             "rgb(244,165,130)"
            ],
            [
             0.4,
             "rgb(253,219,199)"
            ],
            [
             0.5,
             "rgb(247,247,247)"
            ],
            [
             0.6,
             "rgb(209,229,240)"
            ],
            [
             0.7,
             "rgb(146,197,222)"
            ],
            [
             0.8,
             "rgb(67,147,195)"
            ],
            [
             0.9,
             "rgb(33,102,172)"
            ],
            [
             1,
             "rgb(5,48,97)"
            ]
           ],
           "sequential": [
            [
             0,
             "#440154"
            ],
            [
             0.1111111111111111,
             "#482878"
            ],
            [
             0.2222222222222222,
             "#3e4989"
            ],
            [
             0.3333333333333333,
             "#31688e"
            ],
            [
             0.4444444444444444,
             "#26828e"
            ],
            [
             0.5555555555555556,
             "#1f9e89"
            ],
            [
             0.6666666666666666,
             "#35b779"
            ],
            [
             0.7777777777777778,
             "#6ece58"
            ],
            [
             0.8888888888888888,
             "#b5de2b"
            ],
            [
             1,
             "#fde725"
            ]
           ],
           "sequentialminus": [
            [
             0,
             "#440154"
            ],
            [
             0.1111111111111111,
             "#482878"
            ],
            [
             0.2222222222222222,
             "#3e4989"
            ],
            [
             0.3333333333333333,
             "#31688e"
            ],
            [
             0.4444444444444444,
             "#26828e"
            ],
            [
             0.5555555555555556,
             "#1f9e89"
            ],
            [
             0.6666666666666666,
             "#35b779"
            ],
            [
             0.7777777777777778,
             "#6ece58"
            ],
            [
             0.8888888888888888,
             "#b5de2b"
            ],
            [
             1,
             "#fde725"
            ]
           ]
          },
          "colorway": [
           "#1F77B4",
           "#FF7F0E",
           "#2CA02C",
           "#D62728",
           "#9467BD",
           "#8C564B",
           "#E377C2",
           "#7F7F7F",
           "#BCBD22",
           "#17BECF"
          ],
          "font": {
           "color": "rgb(36,36,36)"
          },
          "geo": {
           "bgcolor": "white",
           "lakecolor": "white",
           "landcolor": "white",
           "showlakes": true,
           "showland": true,
           "subunitcolor": "white"
          },
          "hoverlabel": {
           "align": "left"
          },
          "hovermode": "closest",
          "mapbox": {
           "style": "light"
          },
          "paper_bgcolor": "white",
          "plot_bgcolor": "white",
          "polar": {
           "angularaxis": {
            "gridcolor": "rgb(232,232,232)",
            "linecolor": "rgb(36,36,36)",
            "showgrid": false,
            "showline": true,
            "ticks": "outside"
           },
           "bgcolor": "white",
           "radialaxis": {
            "gridcolor": "rgb(232,232,232)",
            "linecolor": "rgb(36,36,36)",
            "showgrid": false,
            "showline": true,
            "ticks": "outside"
           }
          },
          "scene": {
           "xaxis": {
            "backgroundcolor": "white",
            "gridcolor": "rgb(232,232,232)",
            "gridwidth": 2,
            "linecolor": "rgb(36,36,36)",
            "showbackground": true,
            "showgrid": false,
            "showline": true,
            "ticks": "outside",
            "zeroline": false,
            "zerolinecolor": "rgb(36,36,36)"
           },
           "yaxis": {
            "backgroundcolor": "white",
            "gridcolor": "rgb(232,232,232)",
            "gridwidth": 2,
            "linecolor": "rgb(36,36,36)",
            "showbackground": true,
            "showgrid": false,
            "showline": true,
            "ticks": "outside",
            "zeroline": false,
            "zerolinecolor": "rgb(36,36,36)"
           },
           "zaxis": {
            "backgroundcolor": "white",
            "gridcolor": "rgb(232,232,232)",
            "gridwidth": 2,
            "linecolor": "rgb(36,36,36)",
            "showbackground": true,
            "showgrid": false,
            "showline": true,
            "ticks": "outside",
            "zeroline": false,
            "zerolinecolor": "rgb(36,36,36)"
           }
          },
          "shapedefaults": {
           "fillcolor": "black",
           "line": {
            "width": 0
           },
           "opacity": 0.3
          },
          "ternary": {
           "aaxis": {
            "gridcolor": "rgb(232,232,232)",
            "linecolor": "rgb(36,36,36)",
            "showgrid": false,
            "showline": true,
            "ticks": "outside"
           },
           "baxis": {
            "gridcolor": "rgb(232,232,232)",
            "linecolor": "rgb(36,36,36)",
            "showgrid": false,
            "showline": true,
            "ticks": "outside"
           },
           "bgcolor": "white",
           "caxis": {
            "gridcolor": "rgb(232,232,232)",
            "linecolor": "rgb(36,36,36)",
            "showgrid": false,
            "showline": true,
            "ticks": "outside"
           }
          },
          "title": {
           "x": 0.05
          },
          "xaxis": {
           "automargin": true,
           "gridcolor": "rgb(232,232,232)",
           "linecolor": "rgb(36,36,36)",
           "showgrid": false,
           "showline": true,
           "ticks": "outside",
           "title": {
            "standoff": 15
           },
           "zeroline": false,
           "zerolinecolor": "rgb(36,36,36)"
          },
          "yaxis": {
           "automargin": true,
           "gridcolor": "rgb(232,232,232)",
           "linecolor": "rgb(36,36,36)",
           "showgrid": false,
           "showline": true,
           "ticks": "outside",
           "title": {
            "standoff": 15
           },
           "zeroline": false,
           "zerolinecolor": "rgb(36,36,36)"
          }
         }
        },
        "width": 800,
        "xaxis": {
         "anchor": "y",
         "domain": [
          0,
          1
         ],
         "showgrid": true,
         "title": {
          "text": "ORC(>2.0)"
         }
        },
        "yaxis": {
         "anchor": "x",
         "domain": [
          0,
          1
         ],
         "showgrid": true,
         "title": {
          "text": "Coefficient (a)"
         }
        }
       }
      }
     },
     "metadata": {},
     "output_type": "display_data"
    }
   ],
   "source": [
    "import numpy as np\n",
    "from scipy.optimize import curve_fit\n",
    "def tanh_function(x, a,b):\n",
    "    return a/x+b\n",
    "# Three example points\n",
    "x_data = np.array([2,4,10])\n",
    "y_data = np.array([0.33,0.5,0.66])\n",
    "\n",
    "# Perform the curve fit\n",
    "popt, _ = curve_fit(tanh_function, x_data, y_data)\n",
    "print(popt)\n",
    "\n",
    "x_fit = np.linspace(min(x_data), max(x_data), 100)\n",
    "y_fit = tanh_function(x_fit, *popt)\n",
    "#\n",
    "model_a = lambda ocr: 3.457/ocr + 0.647\n",
    "from src import geoplot\n",
    "fig = geoplot.GEOPlot.get_figure()\n",
    "fig.add_trace(go.Scatter(x=x_data,y=y_data,mode='markers',name='ISO Points'))\n",
    "fig.add_trace(go.Scatter(x=x_fit,y=y_fit,name='Fitted Hyperbolic function')) \n",
    "fig.update_layout(width=800,height=400)\n",
    "fig.update_xaxes(title='ORC(>2.0)')\n",
    "fig.update_yaxes(title='Coefficient (a)')"
   ]
  },
  {
   "cell_type": "markdown",
   "metadata": {},
   "source": []
  },
  {
   "cell_type": "markdown",
   "metadata": {},
   "source": []
  }
 ],
 "metadata": {
  "kernelspec": {
   "display_name": "Python 3 (ipykernel)",
   "language": "python",
   "name": "python3"
  },
  "language_info": {
   "codemirror_mode": {
    "name": "ipython",
    "version": 3
   },
   "file_extension": ".py",
   "mimetype": "text/x-python",
   "name": "python",
   "nbconvert_exporter": "python",
   "pygments_lexer": "ipython3",
   "version": "3.9.16"
  },
  "toc": {
   "base_numbering": 1,
   "nav_menu": {},
   "number_sections": true,
   "sideBar": true,
   "skip_h1_title": false,
   "title_cell": "Table of Contents",
   "title_sidebar": "Contents",
   "toc_cell": false,
   "toc_position": {},
   "toc_section_display": true,
   "toc_window_display": false
  },
  "varInspector": {
   "cols": {
    "lenName": 16,
    "lenType": 16,
    "lenVar": 40
   },
   "kernels_config": {
    "python": {
     "delete_cmd_postfix": "",
     "delete_cmd_prefix": "del ",
     "library": "var_list.py",
     "varRefreshCmd": "print(var_dic_list())"
    },
    "r": {
     "delete_cmd_postfix": ") ",
     "delete_cmd_prefix": "rm(",
     "library": "var_list.r",
     "varRefreshCmd": "cat(var_dic_list()) "
    }
   },
   "types_to_exclude": [
    "module",
    "function",
    "builtin_function_or_method",
    "instance",
    "_Feature"
   ],
   "window_display": false
  }
 },
 "nbformat": 4,
 "nbformat_minor": 2
}
