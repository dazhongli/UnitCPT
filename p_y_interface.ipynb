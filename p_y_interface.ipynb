{
 "cells": [
  {
   "cell_type": "markdown",
   "metadata": {},
   "source": [
    "## p-y for sand"
   ]
  },
  {
   "cell_type": "markdown",
   "metadata": {},
   "source": [
    "# Notes\n",
    "\n",
    "Need to run the code below again to reinstall the package\n",
    "\n",
    "```shell\n",
    "pip install -e . \n",
    "```\n",
    "\n",
    "The code has been moved to the source folder for house keeping"
   ]
  },
  {
   "cell_type": "code",
   "execution_count": 2,
   "metadata": {},
   "outputs": [],
   "source": [
    "from src.cpt import CPT\n",
    "from pathlib import Path\n",
    "import os\n",
    "import plotly.io as pio\n",
    "import numpy as np\n",
    "import pandas as pd\n",
    "from numpy import degrees, log10, pi, radians, tan, sin, cos\n",
    "from src.p_y_sand import *\n",
    "from src.p_y_clay import *\n",
    "from src.pile import PipePile"
   ]
  },
  {
   "cell_type": "markdown",
   "metadata": {},
   "source": [
    "### Import data from CPT file\n",
    "#### - Data format - \n",
    "\n",
    "`key` is the identifier in the txt file, for locating the data, it shoudl be a unit identifier just above the data\n",
    "`patter` - an regular experss to specify the pattern of the data, you can see the example below\n",
    "\n",
    "After reading the data, need to change the column name, so that all calculation can know the location of the data\n",
    "\n",
    "#### - Rename Columns - \n",
    "```python\n",
    "cpt_data.update_data_column_name(['Reading','SCPT_DPTH','SCPT_RES','SCPT_FRES','SCPT_PWP2','slopex','slopey'])\n",
    "```\n",
    "\n",
    "- `SCPT_DPTH` - depth below seabed\n",
    "- `SCPT_RES` - raw `qc` value\n",
    "- `SCPT_FRES` - shaft resistance $f_s$\n",
    "- `SCPT_RES` - tip resistance $q_c$\n",
    "\n",
    "#### - Specify Unit - \n",
    "\n",
    "Need to update the unit, differnet contactor may output data in different unit, this is one by \n",
    "\n",
    "```python\n",
    "cpt_data.set_data_unit(['MPa','MPa','MPa'])\n",
    "```\n",
    "\n",
    "unit is assigned in a sequence [$q_c$, $f_s$,$u_2$]\n",
    "\n",
    "#### - init_CPT - \n",
    "\n",
    "This is calculate $\\gamma_{soil}$ and calculate the overburnden stress $\\sigma_v$ \n"
   ]
  },
  {
   "cell_type": "code",
   "execution_count": 3,
   "metadata": {},
   "outputs": [
    {
     "name": "stderr",
     "output_type": "stream",
     "text": [
      "23-10-19 18:13:22 -c:\\Users\\Emma.Shi\\Desktop\\CPT\\UnitCPT\\src\\cpt.py:327 DEBUG - Data unit is set to ['MPa', 'MPa', 'MPa']\n",
      "c:\\Users\\Emma.Shi\\Desktop\\CPT\\UnitCPT\\src\\cpt.py:591: RuntimeWarning:\n",
      "\n",
      "invalid value encountered in log10\n",
      "\n",
      "23-10-19 18:13:24 -c:\\Users\\Emma.Shi\\Desktop\\CPT\\UnitCPT\\src\\cpt.py:156 DEBUG - qt calculated using net area ratio of 0.85\n"
     ]
    }
   ],
   "source": [
    "filename ='CPT4.A00'\n",
    "fileloc = Path(r'G:\\Name Folders\\Current Staff\\CC213\\10 IiA funding\\Unified CPT Methods\\01 Data\\CPT Data\\18 0091 05 R002 CPT ASCII')\n",
    "\n",
    "cpt_data = CPT()\n",
    "cpt_data.read_ASCII(fileloc / filename,key='Data--',pattern= r'(.{7})(.{10})(.{11})(.{11})(.{11})(.{11})(.{11})')\n",
    "cpt_data.update_data_column_name(['Reading','SCPT_DPTH','SCPT_RES','SCPT_FRES','SCPT_PWP2','slopex','slopey'])\n",
    "cpt_data.set_data_unit(['MPa','MPa','MPa'])\n",
    "cpt_data.init_CPT()"
   ]
  },
  {
   "cell_type": "markdown",
   "metadata": {},
   "source": [
    "### Input external parameters"
   ]
  },
  {
   "cell_type": "code",
   "execution_count": 4,
   "metadata": {},
   "outputs": [],
   "source": [
    "Diameter = 2.0\n",
    "Loading = 'Monotonic'\n",
    "nkt = 12\n",
    "N1 = 12\n",
    "N2 = 3.22\n",
    "interval = 1\n",
    "Isotropy = 'true'\n",
    "I_p = 35"
   ]
  },
  {
   "cell_type": "markdown",
   "metadata": {},
   "source": [
    "### Resample cpt_data"
   ]
  },
  {
   "cell_type": "code",
   "execution_count": 5,
   "metadata": {},
   "outputs": [],
   "source": [
    "resampled_cpt_data = interpolate_cpt_data(cpt_data.df, interval)"
   ]
  },
  {
   "cell_type": "code",
   "execution_count": 12,
   "metadata": {},
   "outputs": [
    {
     "data": {
      "text/plain": [
       "0      0\n",
       "1      1\n",
       "2      2\n",
       "3      3\n",
       "4      4\n",
       "      ..\n",
       "70    70\n",
       "71    71\n",
       "72    72\n",
       "73    73\n",
       "74    74\n",
       "Name: SCPT_DPTH, Length: 75, dtype: int32"
      ]
     },
     "execution_count": 12,
     "metadata": {},
     "output_type": "execute_result"
    }
   ],
   "source": [
    "resampled_cpt_data['SCPT_DPTH']"
   ]
  },
  {
   "cell_type": "markdown",
   "metadata": {},
   "source": [
    "### Determine soil type based on Ic\n",
    "Ic<2.6 for sand, >2.6 for clay"
   ]
  },
  {
   "cell_type": "code",
   "execution_count": 6,
   "metadata": {},
   "outputs": [],
   "source": [
    "resampled_cpt_data ['soil_type'] = resampled_cpt_data.apply(lambda row:determine_soil_type(ic = row['Ic']), axis = 1)"
   ]
  },
  {
   "cell_type": "markdown",
   "metadata": {},
   "source": [
    "### Calculate p-y parameters for sand"
   ]
  },
  {
   "cell_type": "code",
   "execution_count": 7,
   "metadata": {},
   "outputs": [],
   "source": [
    "resampled_cpt_data ['phi_e'] = resampled_cpt_data.apply(lambda row:calc_phi_e(qt = row['qt'], sigma_v = row['sigma_v'], sigma_v_e = row['sigma_v_e']) if row['soil_type'] == 'sand' else None, axis = 1)\n",
    "resampled_cpt_data ['C1'] = resampled_cpt_data.apply(lambda row:calc_C1(phi_e = row['phi_e']) if row['soil_type'] == 'sand' else None, axis = 1)\n",
    "resampled_cpt_data ['C2'] = resampled_cpt_data.apply(lambda row:calc_C2(phi_e = row['phi_e']) if row['soil_type'] == 'sand' else None, axis = 1)\n",
    "resampled_cpt_data ['C3'] = resampled_cpt_data.apply(lambda row:calc_C3(phi_e = row['phi_e']) if row['soil_type'] == 'sand' else None, axis = 1)\n",
    "resampled_cpt_data ['k'] = resampled_cpt_data.apply(lambda row:calc_k(phi_e = row['phi_e']) if row['soil_type'] == 'sand' else None, axis = 1)\n",
    "resampled_cpt_data ['pr'] = resampled_cpt_data.apply(lambda row:calc_pr(D = Diameter, gamma = row['gamma'], z = row['SCPT_DPTH'], C1 = row['C1'], C2 = row['C2'], C3 = row['C3']) if row['soil_type'] == 'sand' else None, axis = 1)\n",
    "resampled_cpt_data ['A'] = resampled_cpt_data.apply(lambda row:calc_A(D = Diameter, z = row['SCPT_DPTH'], loading = Loading) if row['soil_type'] == 'sand' else None, axis = 1)"
   ]
  },
  {
   "cell_type": "markdown",
   "metadata": {},
   "source": [
    "### Generate p-y curves for sand"
   ]
  },
  {
   "cell_type": "code",
   "execution_count": 8,
   "metadata": {},
   "outputs": [],
   "source": [
    "# Generate p-y curves using specified y values\n",
    "for i in range(11):\n",
    "    resampled_cpt_data[f'y{i}'] = 10 * i\n",
    "    resampled_cpt_data[f'p{i}'] = resampled_cpt_data.apply(lambda row:calc_p(y = row[f'y{i}'], A = row['A'], pr = row['pr'], z = row['SCPT_DPTH'], k = row['k']) if row['soil_type'] == 'sand' else None, axis = 1)"
   ]
  },
  {
   "cell_type": "markdown",
   "metadata": {},
   "source": [
    "### Calculate p-y parameters for clay"
   ]
  },
  {
   "cell_type": "code",
   "execution_count": 12,
   "metadata": {},
   "outputs": [],
   "source": [
    "resampled_cpt_data ['su'] = resampled_cpt_data.apply(lambda row:calc_su(qt = row['qt'], sigma_v = row['sigma_v'], nkt = nkt) if row['soil_type'] == 'clay' else None, axis = 1)\n",
    "resampled_cpt_data ['alpha'] = resampled_cpt_data.apply(lambda row:calc_alpha(su = row['su'], sigma_v_e = row['sigma_v_e']) if row['soil_type'] == 'clay' else None, axis = 1)\n",
    "resampled_cpt_data ['N_pd'] = resampled_cpt_data.apply(lambda row:calc_N_pd(alpha = row['alpha']) if row['soil_type'] == 'clay' else None, axis = 1)"
   ]
  },
  {
   "cell_type": "markdown",
   "metadata": {},
   "source": [
    "### Generate p-y curves for clay"
   ]
  },
  {
   "cell_type": "code",
   "execution_count": null,
   "metadata": {},
   "outputs": [],
   "source": [
    "for i in range(12):\n",
    "    resampled_cpt_data[f'p{i}'] = resampled_cpt_data.apply(lambda row:calc_p_mo(pu = row['pu'], id_p = i) if row['soil_type'] == 'clay' else None, axis = 1)\n",
    "    resampled_cpt_data[f'y{i}'] = resampled_cpt_data.apply(lambda row:calc_y_mo(I_p = I_p, OCR = row['OCR'], D= Diameter, id_p = i) if row['soil_type'] == 'clay' else None, axis = 1)"
   ]
  },
  {
   "cell_type": "markdown",
   "metadata": {},
   "source": [
    "### Export results and plot figures"
   ]
  },
  {
   "cell_type": "code",
   "execution_count": 9,
   "metadata": {},
   "outputs": [
    {
     "name": "stdout",
     "output_type": "stream",
     "text": [
      "cpt_data_resampled.xlsx has been exported successfully.\n"
     ]
    },
    {
     "data": {
      "image/png": "[encoded data removed]",
      "text/plain": [
       "<Figure size 432x288 with 1 Axes>"
      ]
     },
     "metadata": {},
     "output_type": "display_data"
    },
    {
     "data": {
      "image/png": "[encoded data removed]",
      "text/plain": [
       "<Figure size 432x288 with 1 Axes>"
      ]
     },
     "execution_count": 9,
     "metadata": {},
     "output_type": "execute_result"
    }
   ],
   "source": [
    "export_p_y_sand(resampled_cpt_data, \"cpt_data_resampled.xlsx\")\n",
    "plot_p_y_curve(resampled_cpt_data, 10)"
   ]
  },
  {
   "cell_type": "markdown",
   "metadata": {},
   "source": []
  },
  {
   "cell_type": "markdown",
   "metadata": {},
   "source": []
  }
 ],
 "metadata": {
  "kernelspec": {
   "display_name": "base",
   "language": "python",
   "name": "python3"
  },
  "language_info": {
   "codemirror_mode": {
    "name": "ipython",
    "version": 3
   },
   "file_extension": ".py",
   "mimetype": "text/x-python",
   "name": "python",
   "nbconvert_exporter": "python",
   "pygments_lexer": "ipython3",
   "version": "3.6.5"
  }
 },
 "nbformat": 4,
 "nbformat_minor": 2
}
