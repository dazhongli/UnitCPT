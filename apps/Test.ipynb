{
 "cells": [
  {
   "cell_type": "code",
   "execution_count": null,
   "metadata": {},
   "outputs": [],
   "source": [
    "from src.ags import AGSParser"
   ]
  }
 ],
 "metadata": {
  "kernelspec": {
   "display_name": "Offshore-CPT-JKz8u4gi",
   "language": "python",
   "name": "python3"
  },
  "language_info": {
   "name": "python",
   "version": "3.9.5 (default, May 18 2021, 14:42:02) [MSC v.1916 64 bit (AMD64)]"
  },
  "orig_nbformat": 4,
  "vscode": {
   "interpreter": {
    "hash": "b3beb73fbab0c9c19d9a4457774ef3db1d4018fbe96be387ebf026a6576b31b3"
   }
  }
 },
 "nbformat": 4,
 "nbformat_minor": 2
}
